{
 "cells": [
  {
   "metadata": {},
   "cell_type": "code",
   "source": [
    "from pymmcore_slm_sim import SimSLMDevice\n",
    "from pymmcore_camera_sim import SimCameraDevice, test\n",
    "from pymmcore_stage_sim import SimStageDevice\n",
    "from pymmcore_plus.experimental.unicore import UniMMCore\n",
    "import napari\n",
    "\n",
    "import numpy as np\n",
    "#import matplotlib.pyplot as plt\n",
    "\n",
    "from PIL import Image, ImageDraw, ImageFont\n",
    "from skimage.io import imsave\n",
    "import os\n",
    "\n",
    "from pymmcore_state_sim import SimStateDevice"
   ],
   "id": "3751119f3259780b",
   "outputs": [],
   "execution_count": null
  },
  {
   "metadata": {},
   "cell_type": "code",
   "source": [
    "import napari\n",
    "viewer = napari.Viewer()\n"
   ],
   "id": "b725267286d36025",
   "outputs": [],
   "execution_count": null
  },
  {
   "metadata": {},
   "cell_type": "code",
   "source": "test()",
   "id": "163d30a5e70af268",
   "outputs": [],
   "execution_count": null
  },
  {
   "metadata": {},
   "cell_type": "code",
   "source": "core = UniMMCore()",
   "id": "e7a57c7433ba8e78",
   "outputs": [],
   "execution_count": null
  },
  {
   "metadata": {},
   "cell_type": "code",
   "source": [
    "core.loadPyDevice(\"Camera\", SimCameraDevice())\n",
    "core.initializeDevice(\"Camera\")"
   ],
   "id": "2051bdbd40dd9b88",
   "outputs": [],
   "execution_count": null
  },
  {
   "metadata": {},
   "cell_type": "code",
   "source": "core.setCameraDevice(\"Camera\")",
   "id": "28ba276831d7c6d5",
   "outputs": [],
   "execution_count": null
  },
  {
   "metadata": {},
   "cell_type": "code",
   "source": "core.setExposure(50)",
   "id": "a54d9e4e398407cd",
   "outputs": [],
   "execution_count": null
  },
  {
   "metadata": {},
   "cell_type": "code",
   "source": "core.startContinuousSequenceAcquisition(10)",
   "id": "e7dc089dbc90f097",
   "outputs": [],
   "execution_count": null
  },
  {
   "metadata": {},
   "cell_type": "code",
   "source": "core.snapImage()",
   "id": "a09453ee8642868",
   "outputs": [],
   "execution_count": null
  },
  {
   "metadata": {},
   "cell_type": "code",
   "source": "core.getImage()",
   "id": "58b310a6c2838e10",
   "outputs": [],
   "execution_count": null
  },
  {
   "metadata": {},
   "cell_type": "code",
   "source": [
    "core = UniMMCore()\n",
    "core.loadPyDevice(\"Camera\", SimCameraDevice(core=core))\n",
    "core.initializeDevice(\"Camera\")\n",
    "core.setCameraDevice(\"Camera\")\n",
    "core.loadPyDevice(\"XYStage\", SimStageDevice())\n",
    "core.initializeDevice(\"Camera\")\n",
    "core.initializeDevice(\"XYStage\")\n",
    "core.setCameraDevice(\"Camera\")\n",
    "core.setXYStageDevice(\"XYStage\")\n",
    "core.setExposure(50)\n",
    "\n",
    "viewer = napari.Viewer()\n",
    "viewer.window.add_plugin_dock_widget(plugin_name='napari-micromanager')\n",
    "\n",
    "napari.run()"
   ],
   "id": "12ca7c7cdcb78492",
   "outputs": [],
   "execution_count": null
  },
  {
   "metadata": {
    "ExecuteTime": {
     "end_time": "2025-09-02T07:38:29.815813700Z",
     "start_time": "2025-09-02T07:38:26.616386Z"
    }
   },
   "cell_type": "code",
   "source": [
    "import napari\n",
    "viewer = napari.Viewer()\n",
    "viewer.window.add_plugin_dock_widget(\n",
    "    plugin_name='napari-micromanager',\n",
    ")\n",
    "core = UniMMCore()\n",
    "core.loadPyDevice(\"Camera\", SimCameraDevice())\n",
    "#core.loadPyDevice(\"XYStage\", SimStageDevice())\n",
    "core.initializeDevice(\"Camera\")\n",
    "#core.initializeDevice(\"XYStage\")\n",
    "core.setCameraDevice(\"Camera\")\n",
    "#core.setXYStageDevice(\"XYStage\")\n",
    "core.setExposure(50)\n",
    "#core.startContinuousSequenceAcquisition(10)\n",
    "napari.run()"
   ],
   "id": "887554e7a6a9e767",
   "outputs": [],
   "execution_count": null
  },
  {
   "metadata": {
    "ExecuteTime": {
     "end_time": "2025-09-02T10:53:27.947156Z",
     "start_time": "2025-09-02T10:53:25.921447Z"
    }
   },
   "cell_type": "code",
   "source": [
    "from pymmcore_camera_sim import SimCameraDevice\n",
    "from pymmcore_slm_sim import SimSLMDevice\n",
    "from pymmcore_stage_sim import SimStageDevice\n",
    "from pymmcore_state_device_sim import SimFilterWheelDevice, SimLEDDevice\n",
    "from pymmcore_plus.experimental.unicore import UniMMCore\n",
    "from pymmcore_shutter_sim import SimShutterDevice\n",
    "from my_property_widget import SimPropertyWidget, SimPropertyWidges\n",
    "import napari\n",
    "from pymmcore_plus.experimental.unicore import UniMMCore"
   ],
   "id": "d94b9858ff6140d0",
   "outputs": [
    {
     "name": "stdout",
     "output_type": "stream",
     "text": [
      "pygame 2.6.1 (SDL 2.28.4, Python 3.12.11)\n",
      "Hello from the pygame community. https://www.pygame.org/contribute.html\n"
     ]
    }
   ],
   "execution_count": 1
  },
  {
   "metadata": {
    "ExecuteTime": {
     "end_time": "2025-09-02T10:53:33.653454Z",
     "start_time": "2025-09-02T10:53:29.071782Z"
    }
   },
   "cell_type": "code",
   "source": [
    "core = UniMMCore()\n",
    "\n",
    "core.loadPyDevice(\"Camera\", SimCameraDevice(core=core))\n",
    "core.loadPyDevice(\"XYStage\", SimStageDevice())\n",
    "core.loadPyDevice(\"Filter Wheel\", SimFilterWheelDevice())\n",
    "core.loadPyDevice(\"LED\", SimLEDDevice())\n",
    "core.loadPyDevice(\"Shutter\", SimShutterDevice())\n",
    "core.initializeDevice(\"Camera\")\n",
    "core.initializeDevice(\"XYStage\")\n",
    "core.initializeDevice(\"Filter Wheel\")\n",
    "core.initializeDevice(\"LED\")\n",
    "core.initializeDevice(\"Shutter\")\n",
    "core.setCameraDevice(\"Camera\")\n",
    "core.setXYStageDevice(\"XYStage\")\n",
    "core.setShutterDevice(\"Shutter\")\n",
    "core.setExposure(50)\n",
    "\n",
    "viewer = napari.Viewer()\n",
    "viewer.window.add_plugin_dock_widget(plugin_name='napari-micromanager')\n",
    "#viewer.window.add_dock_widget(widget=SimPropertyWidges(core=core))\n",
    "#viewer.window.add_dock_widget(widget=SimPropertyWidget(device_label=\"Filter Wheel\", prop_name=\"State\", mmcore=core))\n",
    "#viewer.window.add_dock_widget(widget=SimPropertyWidget(device_label=\"Filter Wheel\", prop_name=\"Label\", mmcore=core))\n",
    "\n",
    "napari.run()"
   ],
   "id": "630cc0248aa4c4cb",
   "outputs": [
    {
     "name": "stderr",
     "output_type": "stream",
     "text": [
      "C:\\Users\\dario\\anaconda3\\envs\\opto-loop\\Lib\\site-packages\\requests\\__init__.py:86: RequestsDependencyWarning: Unable to find acceptable character detection dependency (chardet or charset_normalizer).\n",
      "  warnings.warn(\n",
      "C:\\Users\\dario\\anaconda3\\envs\\opto-loop\\Lib\\site-packages\\napari_micromanager\\main_window.py:51: FutureWarning: The `_dock_widgets` property is private and should not be used in any plugin code. Please use the `dock_widgets` property instead.\n",
      "  if \"MinMax\" not in getattr(self.viewer.window, \"_dock_widgets\", []):\n"
     ]
    }
   ],
   "execution_count": 2
  },
  {
   "metadata": {
    "ExecuteTime": {
     "end_time": "2025-09-02T08:42:21.121230Z",
     "start_time": "2025-09-02T08:42:21.112508Z"
    }
   },
   "cell_type": "code",
   "source": "import napari_micromanager",
   "id": "a8c0cfe12d174c51",
   "outputs": [],
   "execution_count": 3
  },
  {
   "metadata": {},
   "cell_type": "code",
   "outputs": [],
   "execution_count": null,
   "source": "napari_micromanager.main_window.MicroManagerToolbar.set",
   "id": "d20b0f805917c68c"
  },
  {
   "metadata": {
    "ExecuteTime": {
     "end_time": "2025-09-02T07:04:48.397732Z",
     "start_time": "2025-09-02T07:04:48.376997Z"
    }
   },
   "cell_type": "code",
   "source": "'State' == 'STATE'",
   "id": "d93209ac533e218b",
   "outputs": [
    {
     "data": {
      "text/plain": [
       "False"
      ]
     },
     "execution_count": 1,
     "metadata": {},
     "output_type": "execute_result"
    }
   ],
   "execution_count": 1
  },
  {
   "metadata": {
    "ExecuteTime": {
     "end_time": "2025-09-02T07:06:24.154782Z",
     "start_time": "2025-09-02T07:06:24.149232Z"
    }
   },
   "cell_type": "code",
   "source": "dev_test = SimFilterWheelDevice()",
   "id": "7a72b76881d52145",
   "outputs": [
    {
     "name": "stdout",
     "output_type": "stream",
     "text": [
      "{0: 'RED', 1: 'BLUE', 2: 'GREEN', 3: 'UV', 4: 'FARRED'}\n"
     ]
    }
   ],
   "execution_count": 4
  },
  {
   "metadata": {},
   "cell_type": "code",
   "outputs": [],
   "execution_count": null,
   "source": "",
   "id": "4fd5b8a61e138050"
  },
  {
   "metadata": {
    "ExecuteTime": {
     "end_time": "2025-09-01T21:40:03.721269Z",
     "start_time": "2025-09-01T21:40:03.715168Z"
    }
   },
   "cell_type": "code",
   "source": "print(dev_test.get_property_info(\"State\"))",
   "id": "9b73296a2b1a5287",
   "outputs": [
    {
     "name": "stdout",
     "output_type": "stream",
     "text": [
      "PropertyInfo(name=<Keyword.State: 'State'>, default_value='0', last_value='0', limits=None, sequence_max_length=0, description='', type=str, allowed_values=('0', '1', '2', '3', '4'), is_read_only=False, is_pre_init=False)\n"
     ]
    }
   ],
   "execution_count": 4
  },
  {
   "metadata": {
    "ExecuteTime": {
     "end_time": "2025-09-01T16:04:04.892216Z",
     "start_time": "2025-09-01T16:04:04.884345Z"
    }
   },
   "cell_type": "code",
   "source": [
    "core.getPropertyType(\"Filter Wheel\", \"State\")\n",
    "#core.getPropertyType(\"Filter Wheel\", \"Label\")"
   ],
   "id": "ddd0e3f11c2dd8d5",
   "outputs": [
    {
     "data": {
      "text/plain": [
       "int"
      ]
     },
     "execution_count": 10,
     "metadata": {},
     "output_type": "execute_result"
    }
   ],
   "execution_count": 10
  },
  {
   "metadata": {
    "ExecuteTime": {
     "end_time": "2025-09-01T16:07:37.900128Z",
     "start_time": "2025-09-01T16:07:37.892970Z"
    }
   },
   "cell_type": "code",
   "source": "set(core.getAllowedPropertyValues(\"Filter Wheel\", \"State\"))",
   "id": "2e4b567d62022ac6",
   "outputs": [
    {
     "data": {
      "text/plain": [
       "{0, 1, 2, 3, 4}"
      ]
     },
     "execution_count": 12,
     "metadata": {},
     "output_type": "execute_result"
    }
   ],
   "execution_count": 12
  },
  {
   "metadata": {
    "ExecuteTime": {
     "end_time": "2025-09-01T16:10:58.327295Z",
     "start_time": "2025-09-01T16:10:58.321898Z"
    }
   },
   "cell_type": "code",
   "source": "from pymmcore_plus import Keyword",
   "id": "a0d51b9a06c554a5",
   "outputs": [],
   "execution_count": 13
  },
  {
   "metadata": {
    "ExecuteTime": {
     "end_time": "2025-09-01T16:11:45.472205Z",
     "start_time": "2025-09-01T16:11:45.466769Z"
    }
   },
   "cell_type": "code",
   "source": "Keyword.State.value",
   "id": "bd26d55db60e123e",
   "outputs": [
    {
     "data": {
      "text/plain": [
       "'State'"
      ]
     },
     "execution_count": 15,
     "metadata": {},
     "output_type": "execute_result"
    }
   ],
   "execution_count": 15
  },
  {
   "metadata": {
    "ExecuteTime": {
     "end_time": "2025-09-01T16:26:34.556883Z",
     "start_time": "2025-09-01T16:26:34.547305Z"
    }
   },
   "cell_type": "code",
   "source": "core.getLoadedDevices()",
   "id": "6adabbb79145fe4c",
   "outputs": [
    {
     "data": {
      "text/plain": [
       "('Camera', 'XYStage', 'Filter Wheel', 'LED', 'Shutter', 'Core')"
      ]
     },
     "execution_count": 18,
     "metadata": {},
     "output_type": "execute_result"
    }
   ],
   "execution_count": 18
  },
  {
   "metadata": {
    "ExecuteTime": {
     "end_time": "2025-09-01T16:31:50.205553Z",
     "start_time": "2025-09-01T16:31:50.191860Z"
    }
   },
   "cell_type": "code",
   "source": [
    "dev = SimFilterWheelDevice()\n",
    "info = dev.get_property_info(\"State\")\n",
    "print(info.allowed_values)\n",
    "print(info)\n",
    "info.allowed_values = tuple(str(x) for x in info.allowed_values)\n",
    "print(info.allowed_values)  # Should print: [0, 1, 2, 3, 4]\n",
    "info = dev.get_property_info(\"Label\")\n",
    "print(info.allowed_values)  # Should print: [\"RED\", \"BLUE\", \"GREEN\", \"UV\", \"FARRED\"]"
   ],
   "id": "31c0cd077f7b3bcc",
   "outputs": [
    {
     "name": "stdout",
     "output_type": "stream",
     "text": [
      "(0, 1, 2, 3, 4)\n",
      "PropertyInfo(name=<Keyword.State: 'State'>, default_value=0, last_value=0, limits=None, sequence_max_length=0, description='', type=int, allowed_values=(0, 1, 2, 3, 4), is_read_only=False, is_pre_init=False)\n",
      "('0', '1', '2', '3', '4')\n",
      "('RED', 'BLUE', 'GREEN', 'UV', 'FARRED')\n"
     ]
    }
   ],
   "execution_count": 24
  },
  {
   "metadata": {},
   "cell_type": "code",
   "outputs": [],
   "execution_count": null,
   "source": "core.get_",
   "id": "37c3f93c77d82ea2"
  },
  {
   "metadata": {
    "ExecuteTime": {
     "end_time": "2025-09-01T16:22:18.847405Z",
     "start_time": "2025-09-01T16:22:18.839342Z"
    }
   },
   "cell_type": "code",
   "source": [
    "filter_wheel = SimFilterWheelDevice()\n",
    "# This is the correct way to set the state by position (integer)\n",
    "filter_wheel.set_position_or_label(1)\n",
    "print(f\"Current state: {filter_wheel.get_state()} and label: {filter_wheel.get_label()}\")\n",
    "\n",
    "# This is also correct: setting the state by label (string)\n",
    "filter_wheel.set_position_or_label(\"GREEN\")\n",
    "print(f\"Current state: {filter_wheel.get_state()} and label: {filter_wheel.get_label()}\")"
   ],
   "id": "9fc8a9046e4bfeb",
   "outputs": [
    {
     "name": "stdout",
     "output_type": "stream",
     "text": [
      "New position:  1\n",
      "Current state: 1 and label: \n",
      "New position:  2\n",
      "Current state: 2 and label: \n"
     ]
    }
   ],
   "execution_count": 16
  },
  {
   "metadata": {},
   "cell_type": "code",
   "source": [
    "from pymmcore_plus import CMMCorePlus\n",
    "\n",
    "viewer = napari.Viewer()\n",
    "core = CMMCorePlus.instance()\n",
    "viewer.window.add_plugin_dock_widget(plugin_name='napari-micromanager')\n",
    "\n",
    "napari.run()"
   ],
   "id": "798b28953bd5dcf1",
   "outputs": [],
   "execution_count": null
  },
  {
   "metadata": {},
   "cell_type": "code",
   "source": "",
   "id": "f85b7aaa6327ed06",
   "outputs": [],
   "execution_count": null
  }
 ],
 "metadata": {
  "kernelspec": {
   "display_name": "Python 3",
   "language": "python",
   "name": "python3"
  },
  "language_info": {
   "codemirror_mode": {
    "name": "ipython",
    "version": 2
   },
   "file_extension": ".py",
   "mimetype": "text/x-python",
   "name": "python",
   "nbconvert_exporter": "python",
   "pygments_lexer": "ipython2",
   "version": "2.7.6"
  }
 },
 "nbformat": 4,
 "nbformat_minor": 5
}
