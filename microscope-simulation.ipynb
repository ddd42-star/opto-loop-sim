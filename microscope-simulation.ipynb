{
 "cells": [
  {
   "metadata": {},
   "cell_type": "code",
   "source": [
    "from pymmcore_slm_sim import SimSLMDevice\n",
    "from pymmcore_camera_sim import SimCameraDevice, test\n",
    "from pymmcore_stage_sim import SimStageDevice\n",
    "from pymmcore_plus.experimental.unicore import UniMMCore\n",
    "import napari\n",
    "\n",
    "import numpy as np\n",
    "#import matplotlib.pyplot as plt\n",
    "\n",
    "from PIL import Image, ImageDraw, ImageFont\n",
    "from skimage.io import imsave\n",
    "import os\n",
    "\n",
    "from pymmcore_state_sim import SimStateDevice"
   ],
   "id": "3751119f3259780b",
   "outputs": [],
   "execution_count": null
  },
  {
   "metadata": {},
   "cell_type": "code",
   "source": [
    "import napari\n",
    "viewer = napari.Viewer()\n"
   ],
   "id": "b725267286d36025",
   "outputs": [],
   "execution_count": null
  },
  {
   "metadata": {},
   "cell_type": "code",
   "source": "test()",
   "id": "163d30a5e70af268",
   "outputs": [],
   "execution_count": null
  },
  {
   "metadata": {},
   "cell_type": "code",
   "source": "core = UniMMCore()",
   "id": "e7a57c7433ba8e78",
   "outputs": [],
   "execution_count": null
  },
  {
   "metadata": {},
   "cell_type": "code",
   "source": [
    "core.loadPyDevice(\"Camera\", SimCameraDevice())\n",
    "core.initializeDevice(\"Camera\")"
   ],
   "id": "2051bdbd40dd9b88",
   "outputs": [],
   "execution_count": null
  },
  {
   "metadata": {},
   "cell_type": "code",
   "source": "core.setCameraDevice(\"Camera\")",
   "id": "28ba276831d7c6d5",
   "outputs": [],
   "execution_count": null
  },
  {
   "metadata": {},
   "cell_type": "code",
   "source": "core.setExposure(50)",
   "id": "a54d9e4e398407cd",
   "outputs": [],
   "execution_count": null
  },
  {
   "metadata": {},
   "cell_type": "code",
   "source": "core.startContinuousSequenceAcquisition(10)",
   "id": "e7dc089dbc90f097",
   "outputs": [],
   "execution_count": null
  },
  {
   "metadata": {},
   "cell_type": "code",
   "source": "core.snapImage()",
   "id": "a09453ee8642868",
   "outputs": [],
   "execution_count": null
  },
  {
   "metadata": {},
   "cell_type": "code",
   "source": "core.getImage()",
   "id": "58b310a6c2838e10",
   "outputs": [],
   "execution_count": null
  },
  {
   "metadata": {},
   "cell_type": "code",
   "source": [
    "core = UniMMCore()\n",
    "core.loadPyDevice(\"Camera\", SimCameraDevice(core=core))\n",
    "core.initializeDevice(\"Camera\")\n",
    "core.setCameraDevice(\"Camera\")\n",
    "core.loadPyDevice(\"XYStage\", SimStageDevice())\n",
    "core.initializeDevice(\"Camera\")\n",
    "core.initializeDevice(\"XYStage\")\n",
    "core.setCameraDevice(\"Camera\")\n",
    "core.setXYStageDevice(\"XYStage\")\n",
    "core.setExposure(50)\n",
    "\n",
    "viewer = napari.Viewer()\n",
    "viewer.window.add_plugin_dock_widget(plugin_name='napari-micromanager')\n",
    "\n",
    "napari.run()"
   ],
   "id": "12ca7c7cdcb78492",
   "outputs": [],
   "execution_count": null
  },
  {
   "metadata": {},
   "cell_type": "code",
   "source": [
    "import napari\n",
    "viewer = napari.Viewer()\n",
    "viewer.window.add_plugin_dock_widget(\n",
    "    plugin_name='napari-micromanager',\n",
    ")\n",
    "core = UniMMCore()\n",
    "core.loadPyDevice(\"Camera\", SimCameraDevice())\n",
    "#core.loadPyDevice(\"XYStage\", SimStageDevice())\n",
    "core.initializeDevice(\"Camera\")\n",
    "#core.initializeDevice(\"XYStage\")\n",
    "core.setCameraDevice(\"Camera\")\n",
    "#core.setXYStageDevice(\"XYStage\")\n",
    "core.setExposure(50)\n",
    "#core.startContinuousSequenceAcquisition(10)\n",
    "napari.run()"
   ],
   "id": "887554e7a6a9e767",
   "outputs": [],
   "execution_count": null
  },
  {
   "metadata": {
    "ExecuteTime": {
     "end_time": "2025-09-02T16:10:36.270953Z",
     "start_time": "2025-09-02T16:10:34.098582Z"
    }
   },
   "cell_type": "code",
   "source": [
    "from pymmcore_camera_sim import SimCameraDevice\n",
    "from pymmcore_slm_sim import SimSLMDevice\n",
    "from pymmcore_stage_sim import SimStageDevice\n",
    "from pymmcore_state_device_sim import SimFilterWheelDevice, SimLEDDevice\n",
    "from pymmcore_plus.experimental.unicore import UniMMCore\n",
    "from pymmcore_shutter_sim import SimShutterDevice\n",
    "from my_property_widget import SimPropertyWidget, SimPropertyWidges\n",
    "import napari\n",
    "from pymmcore_plus.experimental.unicore import UniMMCore"
   ],
   "id": "d94b9858ff6140d0",
   "outputs": [
    {
     "name": "stdout",
     "output_type": "stream",
     "text": [
      "pygame 2.6.1 (SDL 2.28.4, Python 3.12.11)\n",
      "Hello from the pygame community. https://www.pygame.org/contribute.html\n"
     ]
    }
   ],
   "execution_count": 1
  },
  {
   "metadata": {
    "ExecuteTime": {
     "end_time": "2025-09-02T16:10:42.060781Z",
     "start_time": "2025-09-02T16:10:37.328595Z"
    }
   },
   "cell_type": "code",
   "source": [
    "core = UniMMCore()\n",
    "\n",
    "core.loadPyDevice(\"Camera\", SimCameraDevice(core=core))\n",
    "core.loadPyDevice(\"XYStage\", SimStageDevice())\n",
    "core.loadPyDevice(\"Filter Wheel\", SimFilterWheelDevice())\n",
    "core.loadPyDevice(\"LED\", SimLEDDevice())\n",
    "core.loadPyDevice(\"Shutter\", SimShutterDevice())\n",
    "core.initializeDevice(\"Camera\")\n",
    "core.initializeDevice(\"XYStage\")\n",
    "core.initializeDevice(\"Filter Wheel\")\n",
    "core.initializeDevice(\"LED\")\n",
    "core.initializeDevice(\"Shutter\")\n",
    "core.setCameraDevice(\"Camera\")\n",
    "core.setXYStageDevice(\"XYStage\")\n",
    "core.setShutterDevice(\"Shutter\")\n",
    "core.setExposure(50)\n",
    "\n",
    "viewer = napari.Viewer()\n",
    "viewer.window.add_plugin_dock_widget(plugin_name='napari-micromanager')\n",
    "#viewer.window.add_dock_widget(widget=SimPropertyWidges(core=core))\n",
    "#viewer.window.add_dock_widget(widget=SimPropertyWidget(device_label=\"Filter Wheel\", prop_name=\"State\", mmcore=core))\n",
    "#viewer.window.add_dock_widget(widget=SimPropertyWidget(device_label=\"Filter Wheel\", prop_name=\"Label\", mmcore=core))\n",
    "\n",
    "napari.run()"
   ],
   "id": "630cc0248aa4c4cb",
   "outputs": [
    {
     "name": "stderr",
     "output_type": "stream",
     "text": [
      "C:\\Users\\dario\\anaconda3\\envs\\opto-loop\\Lib\\site-packages\\requests\\__init__.py:86: RequestsDependencyWarning: Unable to find acceptable character detection dependency (chardet or charset_normalizer).\n",
      "  warnings.warn(\n",
      "C:\\Users\\dario\\anaconda3\\envs\\opto-loop\\Lib\\site-packages\\napari_micromanager\\main_window.py:51: FutureWarning: The `_dock_widgets` property is private and should not be used in any plugin code. Please use the `dock_widgets` property instead.\n",
      "  if \"MinMax\" not in getattr(self.viewer.window, \"_dock_widgets\", []):\n"
     ]
    }
   ],
   "execution_count": 2
  },
  {
   "metadata": {},
   "cell_type": "code",
   "source": [
    "from pymmcore_plus import CMMCorePlus\n",
    "import napari\n",
    "\n",
    "\n",
    "viewer = napari.Viewer()\n",
    "\n",
    "mmc = CMMCorePlus.instance()\n",
    "#mmc.loadSystemConfiguration()\n",
    "\n",
    "viewer.window.add_plugin_dock_widget(plugin_name='napari-micromanager')\n",
    "\n",
    "napari.run()"
   ],
   "id": "f85b7aaa6327ed06",
   "outputs": [],
   "execution_count": null
  },
  {
   "metadata": {},
   "cell_type": "code",
   "source": "from pymmcore_plus import DeviceType\n",
   "id": "67ade2fbf5749b45",
   "outputs": [],
   "execution_count": null
  },
  {
   "metadata": {
    "ExecuteTime": {
     "end_time": "2025-09-02T11:29:34.594730Z",
     "start_time": "2025-09-02T11:29:34.587759Z"
    }
   },
   "cell_type": "code",
   "source": "core.getShutterOpen(shutterLabel='Shutter')",
   "id": "eac79c278a6e1a6d",
   "outputs": [
    {
     "data": {
      "text/plain": [
       "False"
      ]
     },
     "execution_count": 21,
     "metadata": {},
     "output_type": "execute_result"
    }
   ],
   "execution_count": 21
  },
  {
   "metadata": {
    "ExecuteTime": {
     "end_time": "2025-09-02T11:35:07.127909Z",
     "start_time": "2025-09-02T11:35:07.123061Z"
    }
   },
   "cell_type": "code",
   "source": "core.setShutterOpen(True)",
   "id": "bd6680eb2b55024e",
   "outputs": [],
   "execution_count": 26
  },
  {
   "metadata": {
    "ExecuteTime": {
     "end_time": "2025-09-02T11:35:08.511406Z",
     "start_time": "2025-09-02T11:35:08.505261Z"
    }
   },
   "cell_type": "code",
   "source": "core.getShutterOpen(shutterLabel='Shutter')",
   "id": "d4ba58d312486890",
   "outputs": [
    {
     "data": {
      "text/plain": [
       "True"
      ]
     },
     "execution_count": 27,
     "metadata": {},
     "output_type": "execute_result"
    }
   ],
   "execution_count": 27
  },
  {
   "metadata": {
    "ExecuteTime": {
     "end_time": "2025-09-02T11:31:45.796212Z",
     "start_time": "2025-09-02T11:31:45.437857Z"
    }
   },
   "cell_type": "code",
   "source": "core",
   "id": "cfd017a079ef951b",
   "outputs": [
    {
     "ename": "AttributeError",
     "evalue": "'str' object has no attribute 'set_open'",
     "output_type": "error",
     "traceback": [
      "\u001B[31m---------------------------------------------------------------------------\u001B[39m",
      "\u001B[31mAttributeError\u001B[39m                            Traceback (most recent call last)",
      "\u001B[36mCell\u001B[39m\u001B[36m \u001B[39m\u001B[32mIn[25]\u001B[39m\u001B[32m, line 1\u001B[39m\n\u001B[32m----> \u001B[39m\u001B[32m1\u001B[39m core.getShutterDevice().set_open(\u001B[38;5;28;01mTrue\u001B[39;00m)\n",
      "\u001B[31mAttributeError\u001B[39m: 'str' object has no attribute 'set_open'"
     ]
    }
   ],
   "execution_count": 25
  },
  {
   "metadata": {},
   "cell_type": "code",
   "outputs": [],
   "execution_count": null,
   "source": "",
   "id": "c7e38f7a7f51a585"
  }
 ],
 "metadata": {
  "kernelspec": {
   "display_name": "Python 3",
   "language": "python",
   "name": "python3"
  },
  "language_info": {
   "codemirror_mode": {
    "name": "ipython",
    "version": 2
   },
   "file_extension": ".py",
   "mimetype": "text/x-python",
   "name": "python",
   "nbconvert_exporter": "python",
   "pygments_lexer": "ipython2",
   "version": "2.7.6"
  }
 },
 "nbformat": 4,
 "nbformat_minor": 5
}
