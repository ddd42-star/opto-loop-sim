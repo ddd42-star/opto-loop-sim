{
 "cells": [
  {
   "metadata": {},
   "cell_type": "code",
   "source": [
    "from pymmcore_slm_sim import SimSLMDevice\n",
    "from pymmcore_camera_sim import SimCameraDevice, test\n",
    "from pymmcore_stage_sim import SimStageDevice\n",
    "from pymmcore_plus.experimental.unicore import UniMMCore\n",
    "import napari\n",
    "\n",
    "import numpy as np\n",
    "#import matplotlib.pyplot as plt\n",
    "\n",
    "from PIL import Image, ImageDraw, ImageFont\n",
    "from skimage.io import imsave\n",
    "import os\n",
    "\n",
    "from pymmcore_state_sim import SimStateDevice"
   ],
   "id": "3751119f3259780b",
   "outputs": [],
   "execution_count": null
  },
  {
   "metadata": {},
   "cell_type": "code",
   "source": [
    "import napari\n",
    "viewer = napari.Viewer()\n"
   ],
   "id": "b725267286d36025",
   "outputs": [],
   "execution_count": null
  },
  {
   "metadata": {},
   "cell_type": "code",
   "source": "test()",
   "id": "163d30a5e70af268",
   "outputs": [],
   "execution_count": null
  },
  {
   "metadata": {},
   "cell_type": "code",
   "source": "core = UniMMCore()",
   "id": "e7a57c7433ba8e78",
   "outputs": [],
   "execution_count": null
  },
  {
   "metadata": {},
   "cell_type": "code",
   "source": [
    "core.loadPyDevice(\"Camera\", SimCameraDevice())\n",
    "core.initializeDevice(\"Camera\")"
   ],
   "id": "2051bdbd40dd9b88",
   "outputs": [],
   "execution_count": null
  },
  {
   "metadata": {},
   "cell_type": "code",
   "source": "core.setCameraDevice(\"Camera\")",
   "id": "28ba276831d7c6d5",
   "outputs": [],
   "execution_count": null
  },
  {
   "metadata": {},
   "cell_type": "code",
   "source": "core.setExposure(50)",
   "id": "a54d9e4e398407cd",
   "outputs": [],
   "execution_count": null
  },
  {
   "metadata": {},
   "cell_type": "code",
   "source": "core.startContinuousSequenceAcquisition(10)",
   "id": "e7dc089dbc90f097",
   "outputs": [],
   "execution_count": null
  },
  {
   "metadata": {},
   "cell_type": "code",
   "source": "core.snapImage()",
   "id": "a09453ee8642868",
   "outputs": [],
   "execution_count": null
  },
  {
   "metadata": {},
   "cell_type": "code",
   "source": "core.getImage()",
   "id": "58b310a6c2838e10",
   "outputs": [],
   "execution_count": null
  },
  {
   "metadata": {},
   "cell_type": "code",
   "source": [
    "core = UniMMCore()\n",
    "core.loadPyDevice(\"Camera\", SimCameraDevice(core=core))\n",
    "core.initializeDevice(\"Camera\")\n",
    "core.setCameraDevice(\"Camera\")\n",
    "core.loadPyDevice(\"XYStage\", SimStageDevice())\n",
    "core.initializeDevice(\"Camera\")\n",
    "core.initializeDevice(\"XYStage\")\n",
    "core.setCameraDevice(\"Camera\")\n",
    "core.setXYStageDevice(\"XYStage\")\n",
    "core.setExposure(50)\n",
    "\n",
    "viewer = napari.Viewer()\n",
    "viewer.window.add_plugin_dock_widget(plugin_name='napari-micromanager')\n",
    "\n",
    "napari.run()"
   ],
   "id": "12ca7c7cdcb78492",
   "outputs": [],
   "execution_count": null
  },
  {
   "metadata": {},
   "cell_type": "code",
   "source": [
    "import napari\n",
    "viewer = napari.Viewer()\n",
    "viewer.window.add_plugin_dock_widget(\n",
    "    plugin_name='napari-micromanager',\n",
    ")\n",
    "core = UniMMCore()\n",
    "core.loadPyDevice(\"Camera\", SimCameraDevice())\n",
    "#core.loadPyDevice(\"XYStage\", SimStageDevice())\n",
    "core.initializeDevice(\"Camera\")\n",
    "#core.initializeDevice(\"XYStage\")\n",
    "core.setCameraDevice(\"Camera\")\n",
    "#core.setXYStageDevice(\"XYStage\")\n",
    "core.setExposure(50)\n",
    "#core.startContinuousSequenceAcquisition(10)\n",
    "napari.run()"
   ],
   "id": "887554e7a6a9e767",
   "outputs": [],
   "execution_count": null
  },
  {
   "metadata": {
    "ExecuteTime": {
     "end_time": "2025-09-09T17:15:00.584940Z",
     "start_time": "2025-09-09T17:14:56.002326Z"
    }
   },
   "cell_type": "code",
   "source": [
    "from pymmcore_camera_sim import SimCameraDevice\n",
    "from pymmcore_slm_sim import SimSLMDevice\n",
    "from pymmcore_stage_sim import SimStageDevice\n",
    "from pymmcore_state_device_sim import SimStateDevice\n",
    "from pymmcore_plus.experimental.unicore import UniMMCore\n",
    "from pymmcore_shutter_sim import SimShutterDevice\n",
    "from my_property_widget import SimPropertyWidget, SimPropertyWidges\n",
    "import napari\n",
    "from pymmcore_plus.experimental.unicore import UniMMCore\n",
    "from property_test import MyMicromanagerToolbar\n"
   ],
   "id": "d94b9858ff6140d0",
   "outputs": [
    {
     "name": "stdout",
     "output_type": "stream",
     "text": [
      "pygame 2.6.1 (SDL 2.28.4, Python 3.12.11)\n",
      "Hello from the pygame community. https://www.pygame.org/contribute.html\n"
     ]
    }
   ],
   "execution_count": 1
  },
  {
   "metadata": {
    "ExecuteTime": {
     "end_time": "2025-09-09T17:15:08.609749Z",
     "start_time": "2025-09-09T17:15:02.290778Z"
    }
   },
   "cell_type": "code",
   "source": [
    "core = UniMMCore()\n",
    "#-----------------------------------------------------\n",
    "# load device\n",
    "core.loadPyDevice(\"Camera\", SimCameraDevice(core=core))\n",
    "core.loadPyDevice(\"XYStage\", SimStageDevice())\n",
    "core.loadPyDevice(\"Filter Wheel\", SimStateDevice({0:\"RED\", 1:\"BLUE\", 2:\"GREEN\", 3:\"UV\", 4:\"FARRED\"}))\n",
    "core.loadPyDevice(\"LED\", SimStateDevice({0:\"RED\", 1:\"BLUE\", 2:\"GREEN\", 3:\"UV\", 4:\"FARRED\"}))\n",
    "core.loadPyDevice(\"Shutter\", SimShutterDevice())\n",
    "#------------------------------------\n",
    "# initialize device\n",
    "core.initializeDevice(\"Camera\")\n",
    "core.initializeDevice(\"XYStage\")\n",
    "core.initializeDevice(\"Filter Wheel\")\n",
    "core.initializeDevice(\"LED\")\n",
    "core.initializeDevice(\"Shutter\")\n",
    "\n",
    "#---------------------------\n",
    "# Set initial value of some device\n",
    "core.setCameraDevice(\"Camera\")\n",
    "core.setXYStageDevice(\"XYStage\")\n",
    "core.setShutterDevice(\"Shutter\")\n",
    "viewer = napari.Viewer()\n",
    "\n",
    "#core.loadSystemConfiguration(fileName=\"./virtual_microscope.cfg\")\n",
    "#viewer.window.add_dock_widget(widget=MyMicromanagerToolbar(viewer=viewer, core=core))\n",
    "#viewer.window.add_dock_widget(widget=MyIllumination(mmcore=core))\n",
    "viewer.window.add_plugin_dock_widget(plugin_name='napari-micromanager')\n",
    "#viewer.window.add_dock_widget(widget=MyMicromanagerToolbar(viewer=viewer, core=core))\n",
    "#viewer.window.add_dock_widget(widget=StageWidget(device=\"XYStage\", mmcore=core), name=\"Stage\")\n",
    "#viewer.window.add_dock_widget(widget=MicroManagerToolbar(viewer), name=\"MicroManagerToolbar\")\n",
    "#viewer.window.add_dock_widget(widget=IlluminationWidget(mmcore=core), name=\"Illumination\")\n",
    "#viewer.window.add_dock_widget(widget=Illumination(core=core))\n",
    "#viewer.window.add_dock_widget(widget=SimPropertyWidges(core=core))\n",
    "#viewer.window.add_dock_widget(widget=SimPropertyWidget(device_label=\"Filter Wheel\", prop_name=\"State\", mmcore=core))\n",
    "#viewer.window.add_dock_widget(widget=SimPropertyWidget(device_label=\"Filter Wheel\", prop_name=\"Label\", mmcore=core))\n",
    "\n",
    "napari.run()"
   ],
   "id": "de1a81c9e7d42c66",
   "outputs": [
    {
     "name": "stderr",
     "output_type": "stream",
     "text": [
      "C:\\Users\\dario\\anaconda3\\envs\\opto-loop\\Lib\\site-packages\\requests\\__init__.py:86: RequestsDependencyWarning: Unable to find acceptable character detection dependency (chardet or charset_normalizer).\n",
      "  warnings.warn(\n",
      "C:\\Users\\dario\\anaconda3\\envs\\opto-loop\\Lib\\site-packages\\napari_micromanager\\main_window.py:51: FutureWarning: The `_dock_widgets` property is private and should not be used in any plugin code. Please use the `dock_widgets` property instead.\n",
      "  if \"MinMax\" not in getattr(self.viewer.window, \"_dock_widgets\", []):\n"
     ]
    }
   ],
   "execution_count": 2
  },
  {
   "metadata": {
    "ExecuteTime": {
     "end_time": "2025-09-09T09:42:01.623354Z",
     "start_time": "2025-09-09T09:42:01.608912Z"
    }
   },
   "cell_type": "code",
   "source": "core.getState(\"Filter Wheel\")",
   "id": "a18147011e506310",
   "outputs": [
    {
     "data": {
      "text/plain": [
       "1"
      ]
     },
     "execution_count": 4,
     "metadata": {},
     "output_type": "execute_result"
    }
   ],
   "execution_count": 4
  },
  {
   "metadata": {
    "ExecuteTime": {
     "end_time": "2025-09-09T09:43:51.942415Z",
     "start_time": "2025-09-09T09:43:50.033377Z"
    }
   },
   "cell_type": "code",
   "source": "core.setState(\"Filter Wheel\", 9)",
   "id": "283c224394679d36",
   "outputs": [
    {
     "ename": "ValueError",
     "evalue": "Position 9 is not a valid state. Available states: dict_keys([0, 1, 2, 3, 4])",
     "output_type": "error",
     "traceback": [
      "\u001B[31m---------------------------------------------------------------------------\u001B[39m",
      "\u001B[31mValueError\u001B[39m                                Traceback (most recent call last)",
      "\u001B[36mCell\u001B[39m\u001B[36m \u001B[39m\u001B[32mIn[5]\u001B[39m\u001B[32m, line 1\u001B[39m\n\u001B[32m----> \u001B[39m\u001B[32m1\u001B[39m core.setState(\u001B[33m\"\u001B[39m\u001B[33mFilter Wheel\u001B[39m\u001B[33m\"\u001B[39m, \u001B[32m9\u001B[39m)\n",
      "\u001B[36mFile \u001B[39m\u001B[32m~\\anaconda3\\envs\\opto-loop\\Lib\\site-packages\\pymmcore_plus\\experimental\\unicore\\core\\_unicore.py:1535\u001B[39m, in \u001B[36mUniMMCore.setState\u001B[39m\u001B[34m(self, stateDeviceLabel, state)\u001B[39m\n\u001B[32m   1532\u001B[39m     \u001B[38;5;28;01mreturn\u001B[39;00m \u001B[38;5;28msuper\u001B[39m().setState(stateDeviceLabel, state)\n\u001B[32m   1534\u001B[39m \u001B[38;5;28;01mwith\u001B[39;00m state_dev:\n\u001B[32m-> \u001B[39m\u001B[32m1535\u001B[39m     state_dev.set_position_or_label(state)\n",
      "\u001B[36mFile \u001B[39m\u001B[32m~\\anaconda3\\envs\\opto-loop\\Lib\\site-packages\\pymmcore_plus\\experimental\\unicore\\devices\\_state.py:101\u001B[39m, in \u001B[36mStateDevice.set_position_or_label\u001B[39m\u001B[34m(self, pos_or_label)\u001B[39m\n\u001B[32m     99\u001B[39m     label = \u001B[38;5;28mself\u001B[39m._state_to_label.get(pos, \u001B[33m\"\u001B[39m\u001B[33m\"\u001B[39m)\n\u001B[32m    100\u001B[39m \u001B[38;5;28;01mif\u001B[39;00m pos \u001B[38;5;129;01mnot\u001B[39;00m \u001B[38;5;129;01min\u001B[39;00m \u001B[38;5;28mself\u001B[39m._state_to_label:\n\u001B[32m--> \u001B[39m\u001B[32m101\u001B[39m     \u001B[38;5;28;01mraise\u001B[39;00m \u001B[38;5;167;01mValueError\u001B[39;00m(\n\u001B[32m    102\u001B[39m         \u001B[33mf\u001B[39m\u001B[33m\"\u001B[39m\u001B[33mPosition \u001B[39m\u001B[38;5;132;01m{\u001B[39;00mpos\u001B[38;5;132;01m}\u001B[39;00m\u001B[33m is not a valid state. \u001B[39m\u001B[33m\"\u001B[39m\n\u001B[32m    103\u001B[39m         \u001B[33mf\u001B[39m\u001B[33m\"\u001B[39m\u001B[33mAvailable states: \u001B[39m\u001B[38;5;132;01m{\u001B[39;00m\u001B[38;5;28mself\u001B[39m._state_to_label.keys()\u001B[38;5;132;01m}\u001B[39;00m\u001B[33m\"\u001B[39m\n\u001B[32m    104\u001B[39m     )\n\u001B[32m    105\u001B[39m \u001B[38;5;28mself\u001B[39m.set_property_value(Keyword.State, pos)  \u001B[38;5;66;03m# will trigger set_state\u001B[39;00m\n\u001B[32m    106\u001B[39m \u001B[38;5;28mself\u001B[39m.set_property_value(Keyword.Label.value, label)\n",
      "\u001B[31mValueError\u001B[39m: Position 9 is not a valid state. Available states: dict_keys([0, 1, 2, 3, 4])"
     ]
    }
   ],
   "execution_count": 5
  },
  {
   "metadata": {
    "ExecuteTime": {
     "end_time": "2025-09-09T08:09:11.136084Z",
     "start_time": "2025-09-09T08:09:11.125129Z"
    }
   },
   "cell_type": "code",
   "source": "core.getNumberOfStates(\"Filter Wheel\")",
   "id": "4e5135763edc2d6f",
   "outputs": [
    {
     "data": {
      "text/plain": [
       "5"
      ]
     },
     "execution_count": 4,
     "metadata": {},
     "output_type": "execute_result"
    }
   ],
   "execution_count": 4
  },
  {
   "metadata": {
    "ExecuteTime": {
     "end_time": "2025-09-09T08:10:06.466770Z",
     "start_time": "2025-09-09T08:10:06.461147Z"
    }
   },
   "cell_type": "code",
   "source": "core.getStateLabels(\"Filter Wheel\")",
   "id": "5c5cba1abe543d77",
   "outputs": [
    {
     "data": {
      "text/plain": [
       "('RED', 'BLUE', 'GREEN', 'UV', 'FARRED')"
      ]
     },
     "execution_count": 5,
     "metadata": {},
     "output_type": "execute_result"
    }
   ],
   "execution_count": 5
  },
  {
   "metadata": {
    "ExecuteTime": {
     "end_time": "2025-09-09T08:11:44.298106Z",
     "start_time": "2025-09-09T08:11:44.292609Z"
    }
   },
   "cell_type": "code",
   "source": "core.setState(\"Filter Wheel\", 2)",
   "id": "50818a0ab225dd02",
   "outputs": [],
   "execution_count": 6
  },
  {
   "metadata": {
    "ExecuteTime": {
     "end_time": "2025-09-09T08:11:59.107158Z",
     "start_time": "2025-09-09T08:11:59.099599Z"
    }
   },
   "cell_type": "code",
   "source": "core.getState(\"Filter Wheel\")",
   "id": "331974801e2222e0",
   "outputs": [
    {
     "data": {
      "text/plain": [
       "2"
      ]
     },
     "execution_count": 7,
     "metadata": {},
     "output_type": "execute_result"
    }
   ],
   "execution_count": 7
  },
  {
   "metadata": {
    "ExecuteTime": {
     "end_time": "2025-09-09T08:13:54.168343Z",
     "start_time": "2025-09-09T08:13:54.162858Z"
    }
   },
   "cell_type": "code",
   "source": "core.setStateLabel(\"Filter Wheel\", \"FARRED\")",
   "id": "65ef7a9771ee9459",
   "outputs": [],
   "execution_count": 8
  },
  {
   "metadata": {
    "ExecuteTime": {
     "end_time": "2025-09-09T08:14:24.947847Z",
     "start_time": "2025-09-09T08:14:24.940295Z"
    }
   },
   "cell_type": "code",
   "source": "core.getStateLabel(\"Filter Wheel\")",
   "id": "b85e76b61b57f1f1",
   "outputs": [
    {
     "data": {
      "text/plain": [
       "'FARRED'"
      ]
     },
     "execution_count": 10,
     "metadata": {},
     "output_type": "execute_result"
    }
   ],
   "execution_count": 10
  },
  {
   "metadata": {
    "ExecuteTime": {
     "end_time": "2025-09-09T08:16:23.791392Z",
     "start_time": "2025-09-09T08:16:21.939501Z"
    }
   },
   "cell_type": "code",
   "source": "core.setState(\"Filter Wheel\", 6)",
   "id": "593f9094d838700e",
   "outputs": [
    {
     "ename": "ValueError",
     "evalue": "Position 6 is not a valid state. Available states: dict_keys([0, 1, 2, 3, 4])",
     "output_type": "error",
     "traceback": [
      "\u001B[31m---------------------------------------------------------------------------\u001B[39m",
      "\u001B[31mValueError\u001B[39m                                Traceback (most recent call last)",
      "\u001B[36mCell\u001B[39m\u001B[36m \u001B[39m\u001B[32mIn[11]\u001B[39m\u001B[32m, line 1\u001B[39m\n\u001B[32m----> \u001B[39m\u001B[32m1\u001B[39m core.setState(\u001B[33m\"\u001B[39m\u001B[33mFilter Wheel\u001B[39m\u001B[33m\"\u001B[39m, \u001B[32m6\u001B[39m)\n",
      "\u001B[36mFile \u001B[39m\u001B[32m~\\anaconda3\\envs\\opto-loop\\Lib\\site-packages\\pymmcore_plus\\experimental\\unicore\\core\\_unicore.py:1535\u001B[39m, in \u001B[36mUniMMCore.setState\u001B[39m\u001B[34m(self, stateDeviceLabel, state)\u001B[39m\n\u001B[32m   1532\u001B[39m     \u001B[38;5;28;01mreturn\u001B[39;00m \u001B[38;5;28msuper\u001B[39m().setState(stateDeviceLabel, state)\n\u001B[32m   1534\u001B[39m \u001B[38;5;28;01mwith\u001B[39;00m state_dev:\n\u001B[32m-> \u001B[39m\u001B[32m1535\u001B[39m     state_dev.set_position_or_label(state)\n",
      "\u001B[36mFile \u001B[39m\u001B[32m~\\anaconda3\\envs\\opto-loop\\Lib\\site-packages\\pymmcore_plus\\experimental\\unicore\\devices\\_state.py:101\u001B[39m, in \u001B[36mStateDevice.set_position_or_label\u001B[39m\u001B[34m(self, pos_or_label)\u001B[39m\n\u001B[32m     99\u001B[39m     label = \u001B[38;5;28mself\u001B[39m._state_to_label.get(pos, \u001B[33m\"\u001B[39m\u001B[33m\"\u001B[39m)\n\u001B[32m    100\u001B[39m \u001B[38;5;28;01mif\u001B[39;00m pos \u001B[38;5;129;01mnot\u001B[39;00m \u001B[38;5;129;01min\u001B[39;00m \u001B[38;5;28mself\u001B[39m._state_to_label:\n\u001B[32m--> \u001B[39m\u001B[32m101\u001B[39m     \u001B[38;5;28;01mraise\u001B[39;00m \u001B[38;5;167;01mValueError\u001B[39;00m(\n\u001B[32m    102\u001B[39m         \u001B[33mf\u001B[39m\u001B[33m\"\u001B[39m\u001B[33mPosition \u001B[39m\u001B[38;5;132;01m{\u001B[39;00mpos\u001B[38;5;132;01m}\u001B[39;00m\u001B[33m is not a valid state. \u001B[39m\u001B[33m\"\u001B[39m\n\u001B[32m    103\u001B[39m         \u001B[33mf\u001B[39m\u001B[33m\"\u001B[39m\u001B[33mAvailable states: \u001B[39m\u001B[38;5;132;01m{\u001B[39;00m\u001B[38;5;28mself\u001B[39m._state_to_label.keys()\u001B[38;5;132;01m}\u001B[39;00m\u001B[33m\"\u001B[39m\n\u001B[32m    104\u001B[39m     )\n\u001B[32m    105\u001B[39m \u001B[38;5;28mself\u001B[39m.set_property_value(Keyword.State, pos)  \u001B[38;5;66;03m# will trigger set_state\u001B[39;00m\n\u001B[32m    106\u001B[39m \u001B[38;5;28mself\u001B[39m.set_property_value(Keyword.Label.value, label)\n",
      "\u001B[31mValueError\u001B[39m: Position 6 is not a valid state. Available states: dict_keys([0, 1, 2, 3, 4])"
     ]
    }
   ],
   "execution_count": 11
  },
  {
   "metadata": {
    "ExecuteTime": {
     "end_time": "2025-09-09T08:19:24.967546Z",
     "start_time": "2025-09-09T08:19:24.959422Z"
    }
   },
   "cell_type": "code",
   "source": "core.getLoadedDevices()",
   "id": "51c637bb03a27762",
   "outputs": [
    {
     "data": {
      "text/plain": [
       "('Camera', 'XYStage', 'Filter Wheel', 'LED', 'Shutter', 'Core')"
      ]
     },
     "execution_count": 12,
     "metadata": {},
     "output_type": "execute_result"
    }
   ],
   "execution_count": 12
  },
  {
   "metadata": {
    "ExecuteTime": {
     "end_time": "2025-09-09T08:35:42.260614Z",
     "start_time": "2025-09-09T08:35:42.252347Z"
    }
   },
   "cell_type": "code",
   "source": "core.saveSystemConfiguration(\"virtual_microscope.cfg\")",
   "id": "29afe98207ffc77f",
   "outputs": [],
   "execution_count": 13
  },
  {
   "metadata": {
    "ExecuteTime": {
     "end_time": "2025-09-09T08:39:30.169837Z",
     "start_time": "2025-09-09T08:39:30.163619Z"
    }
   },
   "cell_type": "code",
   "source": "core.saveSystemState(\"state_virtual_microscope.cfg\")",
   "id": "533a82e7a99d776f",
   "outputs": [],
   "execution_count": 14
  },
  {
   "metadata": {},
   "cell_type": "code",
   "outputs": [],
   "execution_count": null,
   "source": "core.load",
   "id": "a0de0b08e2b08d88"
  },
  {
   "metadata": {
    "ExecuteTime": {
     "end_time": "2025-09-08T14:17:45.368632Z",
     "start_time": "2025-09-08T14:17:45.359063Z"
    }
   },
   "cell_type": "code",
   "outputs": [
    {
     "name": "stdout",
     "output_type": "stream",
     "text": [
      "('Camera', 'XYStage', 'Filter Wheel', 'LED', 'Shutter', 'Core')\n",
      "('brightness', <Keyword.Binning: 'Binning'>, <Keyword.Exposure: 'Exposure'>)\n",
      "brightness 2\n",
      "Binning 3\n",
      "Exposure 2\n"
     ]
    }
   ],
   "execution_count": 3,
   "source": [
    "print(core.getLoadedDevices())\n",
    "print(core.getDevicePropertyNames(\"Camera\"))\n",
    "for prop in core.getDevicePropertyNames(\"Camera\"):\n",
    "    print(prop, core.getPropertyType(\"Camera\", prop))"
   ],
   "id": "59b48bfe43460fc1"
  },
  {
   "metadata": {
    "ExecuteTime": {
     "end_time": "2025-09-08T14:33:17.834893Z",
     "start_time": "2025-09-08T14:33:16.973912Z"
    }
   },
   "cell_type": "code",
   "outputs": [
    {
     "name": "stdout",
     "output_type": "stream",
     "text": [
      "('brightness', <Keyword.Binning: 'Binning'>, <Keyword.Exposure: 'Exposure'>)\n"
     ]
    }
   ],
   "execution_count": 11,
   "source": [
    "import napari\n",
    "from pymmcore_widgets.device_properties import PropertiesWidget\n",
    "from pymmcore_plus.experimental.unicore import UniMMCore\n",
    "\n",
    "core = UniMMCore()\n",
    "core.loadPyDevice(\"Camera\", SimCameraDevice(core=core))\n",
    "core.initializeDevice(\"Camera\")\n",
    "\n",
    "# Check properties\n",
    "print(core.getDevicePropertyNames(\"Camera\"))\n",
    "# Should include 'my_custom_property'\n",
    "\n",
    "viewer = napari.Viewer()\n",
    "widget = PropertiesWidget(\n",
    "    mmcore=core,\n",
    "    property_name_pattern=\"brightness\",\n",
    "    device_label=\"Camera\"\n",
    ")\n",
    "viewer.window.add_dock_widget(widget, name=\"Camera Properties\")\n",
    "napari.run()"
   ],
   "id": "e84462c43e01d559"
  },
  {
   "metadata": {},
   "cell_type": "markdown",
   "source": [
    "red -> all cell\n",
    "fared -> nucleus\n",
    "\n",
    "others -> noise\n",
    "\n",
    "exposure time -> everything will be multiplied (cutoff min and max) with longer exposure\n",
    "expoasure time -> no light (black image) shorter exposure time\n",
    "\n"
   ],
   "id": "3f6054d7da65fb53"
  },
  {
   "metadata": {},
   "cell_type": "code",
   "source": "core.getLoadedDevices()",
   "id": "25ef7b1af97c094d",
   "outputs": [],
   "execution_count": null
  },
  {
   "metadata": {
    "ExecuteTime": {
     "end_time": "2025-09-08T14:41:36.828982Z",
     "start_time": "2025-09-08T14:41:36.823304Z"
    }
   },
   "cell_type": "code",
   "source": [
    "from pymmcore_plus import PropertyType\n",
    "\n",
    "\n",
    "print(PropertyType.Float)"
   ],
   "id": "2464f433262d0c29",
   "outputs": [
    {
     "name": "stdout",
     "output_type": "stream",
     "text": [
      "2\n"
     ]
    }
   ],
   "execution_count": 12
  },
  {
   "metadata": {
    "ExecuteTime": {
     "end_time": "2025-09-08T14:46:13.924322Z",
     "start_time": "2025-09-08T14:46:13.915986Z"
    }
   },
   "cell_type": "code",
   "source": [
    "for x in core.iterDevices(as_object=False):\n",
    "    print(x)"
   ],
   "id": "bae962ade3804997",
   "outputs": [
    {
     "name": "stdout",
     "output_type": "stream",
     "text": [
      "Camera\n",
      "XYStage\n",
      "Filter Wheel\n",
      "LED\n",
      "Shutter\n",
      "Core\n"
     ]
    }
   ],
   "execution_count": 4
  },
  {
   "metadata": {},
   "cell_type": "code",
   "source": "core.getDevicePropertyNames(\"Camera\")",
   "id": "b6d57538bd35997e",
   "outputs": [],
   "execution_count": null
  },
  {
   "metadata": {
    "ExecuteTime": {
     "end_time": "2025-09-08T14:42:03.342041Z",
     "start_time": "2025-09-08T14:42:03.330962Z"
    }
   },
   "cell_type": "code",
   "source": "core.getPropertyType(\"Camera\", \"test_brightness\")",
   "id": "74b8097b3d469a3",
   "outputs": [
    {
     "data": {
      "text/plain": [
       "float"
      ]
     },
     "execution_count": 13,
     "metadata": {},
     "output_type": "execute_result"
    }
   ],
   "execution_count": 13
  },
  {
   "metadata": {
    "ExecuteTime": {
     "end_time": "2025-09-08T14:40:18.215131Z",
     "start_time": "2025-09-08T14:40:18.198124Z"
    }
   },
   "cell_type": "code",
   "source": [
    "for x in core.iterProperties(property_name_pattern=\"(Intensity|Power|Level|test)s?\"):\n",
    "    print(x)"
   ],
   "id": "6db3f394db6310aa",
   "outputs": [
    {
     "name": "stdout",
     "output_type": "stream",
     "text": [
      "<Property 'Camera::test_brightness' on UniMMCore at 0x1bee9c29c70 with 5 devices: value=100.0>\n"
     ]
    }
   ],
   "execution_count": 10
  },
  {
   "metadata": {
    "ExecuteTime": {
     "end_time": "2025-09-08T14:39:05.630202Z",
     "start_time": "2025-09-08T14:39:03.831588Z"
    }
   },
   "cell_type": "code",
   "source": [
    "for i, (dev, prop) in enumerate(core.iterProperties(property_name_pattern=\"(Intensity|Power|Level|Brightness|test)s?\", as_object=False)):\n",
    "    print((i, dev, prop))"
   ],
   "id": "2d65beef35cac5bd",
   "outputs": [
    {
     "ename": "TypeError",
     "evalue": "cannot unpack non-iterable DeviceProperty object",
     "output_type": "error",
     "traceback": [
      "\u001B[31m---------------------------------------------------------------------------\u001B[39m",
      "\u001B[31mTypeError\u001B[39m                                 Traceback (most recent call last)",
      "\u001B[36mCell\u001B[39m\u001B[36m \u001B[39m\u001B[32mIn[7]\u001B[39m\u001B[32m, line 1\u001B[39m\n\u001B[32m----> \u001B[39m\u001B[32m1\u001B[39m \u001B[38;5;28;01mfor\u001B[39;00m i, (dev, prop) \u001B[38;5;129;01min\u001B[39;00m \u001B[38;5;28menumerate\u001B[39m(core.iterProperties(property_name_pattern=\u001B[33m\"\u001B[39m\u001B[33m(Intensity|Power|Level|Brightness|test)s?\u001B[39m\u001B[33m\"\u001B[39m, as_object=\u001B[38;5;28;01mTrue\u001B[39;00m)):\n\u001B[32m      2\u001B[39m     \u001B[38;5;28mprint\u001B[39m((i, dev, prop))\n",
      "\u001B[31mTypeError\u001B[39m: cannot unpack non-iterable DeviceProperty object"
     ]
    }
   ],
   "execution_count": 7
  },
  {
   "metadata": {},
   "cell_type": "code",
   "source": [
    "from pymmcore_plus import PropertyType\n",
    "\n",
    "print(PropertyType.Float)"
   ],
   "id": "ebab31189af065bd",
   "outputs": [],
   "execution_count": null
  },
  {
   "metadata": {},
   "cell_type": "code",
   "source": [
    "from pymmcore_plus import CMMCorePlus\n",
    "import napari\n",
    "\n",
    "\n",
    "viewer = napari.Viewer()\n",
    "\n",
    "mmc = CMMCorePlus.instance()\n",
    "#mmc.loadSystemConfiguration()\n",
    "\n",
    "viewer.window.add_plugin_dock_widget(plugin_name='napari-micromanager')\n",
    "\n",
    "napari.run()"
   ],
   "id": "f85b7aaa6327ed06",
   "outputs": [],
   "execution_count": null
  },
  {
   "metadata": {},
   "cell_type": "code",
   "source": "from pymmcore_plus import DeviceType\n",
   "id": "67ade2fbf5749b45",
   "outputs": [],
   "execution_count": null
  },
  {
   "metadata": {},
   "cell_type": "code",
   "source": "core.getShutterOpen(shutterLabel='Shutter')",
   "id": "eac79c278a6e1a6d",
   "outputs": [],
   "execution_count": null
  },
  {
   "metadata": {},
   "cell_type": "code",
   "source": "core.setShutterOpen(True)",
   "id": "bd6680eb2b55024e",
   "outputs": [],
   "execution_count": null
  },
  {
   "metadata": {},
   "cell_type": "code",
   "source": "core.getShutterOpen(shutterLabel='Shutter')",
   "id": "d4ba58d312486890",
   "outputs": [],
   "execution_count": null
  },
  {
   "metadata": {},
   "cell_type": "code",
   "source": "core",
   "id": "cfd017a079ef951b",
   "outputs": [],
   "execution_count": null
  },
  {
   "metadata": {
    "ExecuteTime": {
     "end_time": "2025-09-09T07:41:00.022782Z",
     "start_time": "2025-09-09T07:40:41.992935Z"
    }
   },
   "cell_type": "code",
   "source": "from pymmcore_plus.experimental.unicore.devices._state import StateDevice",
   "id": "c7e38f7a7f51a585",
   "outputs": [],
   "execution_count": 1
  },
  {
   "metadata": {
    "ExecuteTime": {
     "end_time": "2025-09-09T07:41:00.114554Z",
     "start_time": "2025-09-09T07:41:00.067279Z"
    }
   },
   "cell_type": "code",
   "source": "from pymmcore_plus.experimental.unicore.core._unicore import UniMMCore",
   "id": "c258a37c88c91910",
   "outputs": [],
   "execution_count": 2
  },
  {
   "metadata": {
    "ExecuteTime": {
     "end_time": "2025-09-09T07:41:13.943965Z",
     "start_time": "2025-09-09T07:41:12.508961Z"
    }
   },
   "cell_type": "code",
   "source": "core = UniMMCore()",
   "id": "9e8ed96a44655f27",
   "outputs": [],
   "execution_count": 3
  },
  {
   "metadata": {},
   "cell_type": "code",
   "outputs": [],
   "execution_count": null,
   "source": "",
   "id": "80b72739f8294db"
  }
 ],
 "metadata": {
  "kernelspec": {
   "display_name": "Python 3",
   "language": "python",
   "name": "python3"
  },
  "language_info": {
   "codemirror_mode": {
    "name": "ipython",
    "version": 2
   },
   "file_extension": ".py",
   "mimetype": "text/x-python",
   "name": "python",
   "nbconvert_exporter": "python",
   "pygments_lexer": "ipython2",
   "version": "2.7.6"
  }
 },
 "nbformat": 4,
 "nbformat_minor": 5
}
