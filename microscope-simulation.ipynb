{
 "cells": [
  {
   "metadata": {},
   "cell_type": "code",
   "source": [
    "from pathlib import Path\n",
    "\n",
    "from pymmcore_slm_sim import SimSLMDevice\n",
    "from pymmcore_camera_sim import SimCameraDevice, test\n",
    "from pymmcore_stage_sim import SimStageDevice\n",
    "from pymmcore_plus.experimental.unicore import UniMMCore\n",
    "import napari\n",
    "\n",
    "import numpy as np\n",
    "#import matplotlib.pyplot as plt\n",
    "\n",
    "from PIL import Image, ImageDraw, ImageFont\n",
    "from skimage.io import imsave\n",
    "import os\n",
    "\n",
    "from pymmcore_state_sim import SimStateDevice"
   ],
   "id": "3751119f3259780b",
   "outputs": [],
   "execution_count": null
  },
  {
   "metadata": {},
   "cell_type": "code",
   "source": [
    "import napari\n",
    "viewer = napari.Viewer()\n"
   ],
   "id": "b725267286d36025",
   "outputs": [],
   "execution_count": null
  },
  {
   "metadata": {},
   "cell_type": "code",
   "source": "test()",
   "id": "163d30a5e70af268",
   "outputs": [],
   "execution_count": null
  },
  {
   "metadata": {},
   "cell_type": "code",
   "source": "core = UniMMCore()",
   "id": "e7a57c7433ba8e78",
   "outputs": [],
   "execution_count": null
  },
  {
   "metadata": {},
   "cell_type": "code",
   "source": [
    "core.loadPyDevice(\"Camera\", SimCameraDevice())\n",
    "core.initializeDevice(\"Camera\")"
   ],
   "id": "2051bdbd40dd9b88",
   "outputs": [],
   "execution_count": null
  },
  {
   "metadata": {},
   "cell_type": "code",
   "source": "core.setCameraDevice(\"Camera\")",
   "id": "28ba276831d7c6d5",
   "outputs": [],
   "execution_count": null
  },
  {
   "metadata": {},
   "cell_type": "code",
   "source": "core.setExposure(50)",
   "id": "a54d9e4e398407cd",
   "outputs": [],
   "execution_count": null
  },
  {
   "metadata": {},
   "cell_type": "code",
   "source": "core.startContinuousSequenceAcquisition(10)",
   "id": "e7dc089dbc90f097",
   "outputs": [],
   "execution_count": null
  },
  {
   "metadata": {},
   "cell_type": "code",
   "source": "core.snapImage()",
   "id": "a09453ee8642868",
   "outputs": [],
   "execution_count": null
  },
  {
   "metadata": {},
   "cell_type": "code",
   "source": "core.getImage()",
   "id": "58b310a6c2838e10",
   "outputs": [],
   "execution_count": null
  },
  {
   "metadata": {},
   "cell_type": "code",
   "source": [
    "core = UniMMCore()\n",
    "core.loadPyDevice(\"Camera\", SimCameraDevice(core=core))\n",
    "core.initializeDevice(\"Camera\")\n",
    "core.setCameraDevice(\"Camera\")\n",
    "core.loadPyDevice(\"XYStage\", SimStageDevice())\n",
    "core.initializeDevice(\"Camera\")\n",
    "core.initializeDevice(\"XYStage\")\n",
    "core.setCameraDevice(\"Camera\")\n",
    "core.setXYStageDevice(\"XYStage\")\n",
    "core.setExposure(50)\n",
    "\n",
    "viewer = napari.Viewer()\n",
    "viewer.window.add_plugin_dock_widget(plugin_name='napari-micromanager')\n",
    "\n",
    "napari.run()"
   ],
   "id": "12ca7c7cdcb78492",
   "outputs": [],
   "execution_count": null
  },
  {
   "metadata": {},
   "cell_type": "code",
   "source": [
    "import napari\n",
    "viewer = napari.Viewer()\n",
    "viewer.window.add_plugin_dock_widget(\n",
    "    plugin_name='napari-micromanager',\n",
    ")\n",
    "core = UniMMCore()\n",
    "core.loadPyDevice(\"Camera\", SimCameraDevice())\n",
    "#core.loadPyDevice(\"XYStage\", SimStageDevice())\n",
    "core.initializeDevice(\"Camera\")\n",
    "#core.initializeDevice(\"XYStage\")\n",
    "core.setCameraDevice(\"Camera\")\n",
    "#core.setXYStageDevice(\"XYStage\")\n",
    "core.setExposure(50)\n",
    "#core.startContinuousSequenceAcquisition(10)\n",
    "napari.run()"
   ],
   "id": "887554e7a6a9e767",
   "outputs": [],
   "execution_count": null
  },
  {
   "metadata": {},
   "cell_type": "code",
   "source": [
    "from pymmcore_camera_sim import SimCameraDevice\n",
    "from pymmcore_slm_sim import SimSLMDevice\n",
    "from pymmcore_stage_sim import SimStageDevice\n",
    "from pymmcore_state_device_sim import SimStateDevice\n",
    "from pymmcore_shutter_sim import SimShutterDevice\n",
    "import napari\n",
    "from pymmcore_plus.experimental.unicore import UniMMCore\n",
    "from microscope_sim import MicroscopeSim\n",
    "from pymmcore_plus import CMMCorePlus, _pymmcore as pymmcore\n"
   ],
   "id": "d94b9858ff6140d0",
   "outputs": [],
   "execution_count": null
  },
  {
   "metadata": {},
   "cell_type": "code",
   "source": "unicore = UniMMCore()",
   "id": "408c67079a0170d6",
   "outputs": [],
   "execution_count": null
  },
  {
   "metadata": {},
   "cell_type": "code",
   "source": "mmc = CMMCorePlus().instance()",
   "id": "ba3bba8732820998",
   "outputs": [],
   "execution_count": null
  },
  {
   "metadata": {},
   "cell_type": "code",
   "source": "CMMCorePlus.instance()",
   "id": "67a42817c0ed446",
   "outputs": [],
   "execution_count": null
  },
  {
   "metadata": {},
   "cell_type": "code",
   "source": "unicore",
   "id": "47d79e3b1aa5c278",
   "outputs": [],
   "execution_count": null
  },
  {
   "metadata": {},
   "cell_type": "code",
   "source": "unicore.instance()",
   "id": "ed1b09c2cde9b229",
   "outputs": [],
   "execution_count": null
  },
  {
   "metadata": {},
   "cell_type": "code",
   "source": "CMMCorePlus().__dict__",
   "id": "6a0f566b46feaff5",
   "outputs": [],
   "execution_count": null
  },
  {
   "metadata": {},
   "cell_type": "code",
   "source": "mmc.__dict__",
   "id": "f1497f85435998db",
   "outputs": [],
   "execution_count": null
  },
  {
   "metadata": {},
   "cell_type": "code",
   "source": "unicore.__dict__",
   "id": "a015f6e7c29c2f55",
   "outputs": [],
   "execution_count": null
  },
  {
   "metadata": {},
   "cell_type": "code",
   "source": [
    "#mmc = CMMCorePlus.instance()\n",
    "\n",
    "viewer = napari.Viewer()\n",
    "\n",
    "#core.loadSystemConfiguration(fileName=\"./virtual_microscope.cfg\")\n",
    "#viewer.window.add_dock_widget(widget=MyMicromanagerToolbar(viewer=viewer, core=core))\n",
    "#viewer.window.add_dock_widget(widget=MyIllumination(mmcore=core))\n",
    "viewer.window.add_plugin_dock_widget(plugin_name='napari-micromanager')\n",
    "#viewer.window.add_dock_widget(widget=MyMicromanagerToolbar(viewer=viewer, core=core))\n",
    "#viewer.window.add_dock_widget(widget=StageWidget(device=\"XYStage\", mmcore=core), name=\"Stage\")\n",
    "#viewer.window.add_dock_widget(widget=MicroManagerToolbar(viewer), name=\"MicroManagerToolbar\")\n",
    "#viewer.window.add_dock_widget(widget=IlluminationWidget(mmcore=core), name=\"Illumination\")\n",
    "#viewer.window.add_dock_widget(widget=Illumination(core=core))\n",
    "#viewer.window.add_dock_widget(widget=SimPropertyWidges(core=core))\n",
    "#viewer.window.add_dock_widget(widget=SimPropertyWidget(device_label=\"Filter Wheel\", prop_name=\"State\", mmcore=core))\n",
    "#viewer.window.add_dock_widget(widget=SimPropertyWidget(device_label=\"Filter Wheel\", prop_name=\"Label\", mmcore=core))\n",
    "\n",
    "napari.run()"
   ],
   "id": "8a793993a6f474a1",
   "outputs": [],
   "execution_count": null
  },
  {
   "metadata": {},
   "cell_type": "code",
   "source": "mmc = CMMCorePlus().instance()",
   "id": "1ff1c0d67da4db35",
   "outputs": [],
   "execution_count": null
  },
  {
   "metadata": {},
   "cell_type": "code",
   "source": "mmc.reset()",
   "id": "d1629e27e5ddcef8",
   "outputs": [],
   "execution_count": null
  },
  {
   "metadata": {},
   "cell_type": "code",
   "source": "unicore = UniMMCore()",
   "id": "b3d8e42cc6659",
   "outputs": [],
   "execution_count": null
  },
  {
   "metadata": {},
   "cell_type": "code",
   "source": [
    "for name, dock_widget in viewer.window._dock_widgets.items():\n",
    "                if 'micromanager' in name.lower():\n",
    "                    widget = dock_widget.widget()\n",
    "                    print(widget.__dict__.items())\n",
    "\n",
    "                    widget_dict = widget.__dict__\n",
    "\n",
    "                    # Replace MMC in the widget\n",
    "                    for attr in ['_mmc', 'mmc', '_core', 'core']:\n",
    "                        if hasattr(widget, attr):\n",
    "                            setattr(widget, attr, unicore)\n",
    "                            print(f\"Replaced {attr} in {name} with UniMMCore\")\n",
    "\n",
    "                    # restart?\n",
    "                    #if hasattr(widget, '_is_initialized'):\n",
    "                    #    setattr(widget, '_is_initialized', True)\n",
    "                    #    print(\"Set True initialized\")"
   ],
   "id": "7dfcdc8c9eb2e174",
   "outputs": [],
   "execution_count": null
  },
  {
   "metadata": {},
   "cell_type": "code",
   "source": "widget._cleanup()",
   "id": "e656ae8bb34875e4",
   "outputs": [],
   "execution_count": null
  },
  {
   "metadata": {},
   "cell_type": "code",
   "source": "widget_dict.keys()",
   "id": "93e9e6f7c5ef9907",
   "outputs": [],
   "execution_count": null
  },
  {
   "metadata": {},
   "cell_type": "code",
   "source": "viewer.window.remove_dock_widget(widget)",
   "id": "ae4c0674062b0350",
   "outputs": [],
   "execution_count": null
  },
  {
   "metadata": {},
   "cell_type": "code",
   "source": "viewer.window.add_dock_widget(widget)",
   "id": "ba50e8b2943638e6",
   "outputs": [],
   "execution_count": null
  },
  {
   "metadata": {},
   "cell_type": "code",
   "source": "widget_dict.values()",
   "id": "d903cae4af8db8f9",
   "outputs": [],
   "execution_count": null
  },
  {
   "metadata": {},
   "cell_type": "code",
   "source": "widget_dict['_mmc'].__dict__",
   "id": "95dcc69970c0955",
   "outputs": [],
   "execution_count": null
  },
  {
   "metadata": {},
   "cell_type": "code",
   "source": "widget_dict['_core_link'].__dict__",
   "id": "93f72d962108232d",
   "outputs": [],
   "execution_count": null
  },
  {
   "metadata": {},
   "cell_type": "code",
   "source": "widget_dict['viewer'].__dict__",
   "id": "152d8b3ed4b61e61",
   "outputs": [],
   "execution_count": null
  },
  {
   "metadata": {},
   "cell_type": "code",
   "source": [
    "from pymmcore_camera_sim import SimCameraDevice\n",
    "from pymmcore_slm_sim import SimSLMDevice\n",
    "from pymmcore_stage_sim import SimStageDevice\n",
    "from pymmcore_state_device_sim import SimStateDevice\n",
    "from pymmcore_shutter_sim import SimShutterDevice\n",
    "import napari\n",
    "from pymmcore_plus.experimental.unicore import UniMMCore\n",
    "from microscope_sim import MicroscopeSim\n",
    "from pymmcore_plus import CMMCorePlus, Keyword\n",
    "from pathlib import Path"
   ],
   "id": "9964f601628c4847",
   "outputs": [],
   "execution_count": null
  },
  {
   "metadata": {
    "ExecuteTime": {
     "end_time": "2025-09-24T10:07:06.104652Z",
     "start_time": "2025-09-24T10:07:03.195528Z"
    }
   },
   "cell_type": "code",
   "source": [
    "from registry import DEVICE_REGISTRY\n",
    "from pathlib import Path\n",
    "from pymmcore_plus.experimental.unicore import UniMMCore\n",
    "from microscope_sim import MicroscopeSim\n",
    "from pymmcore_plus import CMMCorePlus, Keyword\n",
    "import devices_camera\n",
    "import devices_xystage\n",
    "import devices_xystage\n",
    "import devices_shutter\n",
    "import devices_state\n",
    "\n",
    "\n",
    "class MyUniMMCore(UniMMCore): # create subclass for the my current example, later if it does work add to the implementation\n",
    "\n",
    "    def __init__(self, microscope_sim: MicroscopeSim | None = None):\n",
    "        super().__init__()\n",
    "        self.microscope_sim = microscope_sim or MicroscopeSim()\n",
    "\n",
    "    # def getConfigState(\n",
    "    #     self, group: str, config: str, *, native: bool = False\n",
    "    # ):\n",
    "    #     print(self.getAvailableConfigGroups())\n",
    "    #     print(self.getAvailableConfigs(group))\n",
    "    #     if group in self.getAvailableConfigGroups() and config in self.getAvailableConfigs(group):\n",
    "    #         return self.getConfigData(group, config,native=native)\n",
    "    #     else:\n",
    "    #         return ()\n",
    "\n",
    "    def loadSystemConfiguration(\n",
    "        self, fileName: str | Path = \"test_config.cfg\"\n",
    "    ) -> None:\n",
    "        # COPY FROM PYMMCORE-PLUS for the moment\n",
    "        fpath = Path(fileName).expanduser()\n",
    "        if not fpath.exists() and not fpath.is_absolute() and self._mm_path:\n",
    "            fpath = Path(self._mm_path) / fileName\n",
    "        if not fpath.exists():\n",
    "            raise FileNotFoundError(f\"Path does not exist: {fpath}\")\n",
    "        self._last_sys_config = str(fpath.resolve())\n",
    "        # open file and read lines\n",
    "        with open(self._last_sys_config, \"r\") as config_file:\n",
    "            list_of_lines = config_file.readlines() # read lines and saved in a list\n",
    "        config_file.close() # close the file\n",
    "\n",
    "        for line in list_of_lines: # iterate over the list of lines\n",
    "            print(line)\n",
    "            # Get through the list\n",
    "            if line.startswith(\"#\"):\n",
    "                continue\n",
    "            elif line.startswith(\"Device\"):\n",
    "                # load the device in the system if not present\n",
    "                # Device,Name of the device, Python device or C++, device label\n",
    "                _, device_label,module_name,device_name = line.strip().split(',')\n",
    "                try:\n",
    "                    if device_label in self.getDeviceAdapterNames():\n",
    "                        self.loadDevice(device_label,module_name, device_name)\n",
    "                    elif device_name in DEVICE_REGISTRY.keys(): # checks if always works with python\n",
    "                        fact = DEVICE_REGISTRY[device_name]\n",
    "                        # Try to find better implementation\n",
    "                        if device_label == \"Camera\":\n",
    "                            pydev = fact(self, self.microscope_sim)\n",
    "                        elif device_label == \"XYStage\":\n",
    "                            pydev = fact(self.microscope_sim)\n",
    "                        elif device_label == \"Shutter\":\n",
    "                            pydev = fact()\n",
    "                        elif device_label == \"LED\":\n",
    "                            pydev = fact(device_label,{0:\"\"},self.microscope_sim)\n",
    "                            #{0:\"UV\", 1:\"BLUE\", 2:\"CYAN\", 3:\"GREEN\", 4:\"YELLOW\", 5:\"ORANGE\", 6:\"RED\"}\n",
    "                        else:\n",
    "                            pydev = fact(device_label,{0:\"\"},self.microscope_sim)\n",
    "                            #{0:\"Electra1(402/454)\", 1:\"SCFP2(434/474)\", 2:\"TagGFP2(483/506)\", 3:\"obeYFP(514/528)\", 4:\"mRFP1-Q667(549/570)\", 5:\"mScarlet3(569/582)\", 6:\"miRFP670(642/670)\"}\n",
    "                        self.loadPyDevice(device_label, pydev)\n",
    "                    else:\n",
    "                        raise RuntimeError(f\"Unknown device or adapter for {module_name}\")\n",
    "                except Exception as e:\n",
    "                    # if module_name not in self.getDeviceAdapterNames():\n",
    "                    #     # is a python device\n",
    "                    #     pydev = self._get_py_device_instance(module_name, device_name)\n",
    "                    #     self.loadPyDevice(device_label, pydev)\n",
    "                    raise RuntimeError(f\"Failed to load {device_label}: {e}\")\n",
    "                # initialize the device\n",
    "                self.initializeDevice(device_label)\n",
    "                print(self.getLoadedDevices())\n",
    "\n",
    "                # set initial value\n",
    "                if 'Camera' in device_name:\n",
    "                    self.setCameraDevice(device_label)\n",
    "                elif 'Stage' in device_name:\n",
    "                    self.setXYStageDevice(device_label)\n",
    "                elif 'Shutter' in device_name:\n",
    "                    self.setShutterDevice(device_label)\n",
    "                elif 'State' in device_name:\n",
    "                    self.setState(device_label,0) # by default always has default value of 0\n",
    "\n",
    "                # think if something is missing\n",
    "            elif line.startswith(\"Label\"):\n",
    "                # load the state device here\n",
    "                _, device_label,state_int, state_label = line.strip().split(',')\n",
    "                # check if device is already loaded\n",
    "                if device_label in self.getLoadedDevices(): # device is loaded\n",
    "                    self.defineStateLabel(device_label, int(state_int), state_label)\n",
    "                else: # device is not present. I assume in this case is a StateDevice, because it follows the mapping implementation\n",
    "                    continue # for the moment leave like this, don't know yet if its important this condition\n",
    "            elif line.startswith(\"ConfigGroup\"):\n",
    "                # load and sets differents configuration\n",
    "                _, configuration_group, configuration_presets, device_label, property_name, property_value = line.strip().split(',')\n",
    "\n",
    "                if not self.isGroupDefined(configuration_group): # check if the configuration group exists\n",
    "                    self.defineConfigGroup(configuration_group)\n",
    "                if device_label not in self.getLoadedDevices():\n",
    "                    raise RuntimeError(f\"Failed to load {device_label}: {device_label} is not a loaded device.\")\n",
    "                print(self.getDevicePropertyNames(device_label))\n",
    "                print(property_name)\n",
    "                if self.hasProperty(device_label, property_name):# the property is not present in the device settings\n",
    "                    if not self.isPropertyReadOnly(device_label, property_name): # property is not readonly\n",
    "                        if property_value in self.getAllowedPropertyValues(device_label, property_name):# checks if the value of the property is in the list of allowed value\n",
    "                            self.defineConfig(configuration_group, configuration_presets, device_label, property_name, property_value) # define new configuration/settings\n",
    "                        else:\n",
    "                            raise RuntimeError(f\"Failed to define new configuration: {property_value} is not a valid value for property {property_name}\")\n",
    "                    else:\n",
    "                        raise RuntimeError(f\"Failed to define new configuration: {property_value} is a ReadOnly property\")\n",
    "                else:\n",
    "                    raise RuntimeError(f\"Failed to define new configuration: {property_value} is not a property of the device {device_label}\")\n",
    "\n",
    "            # in the demo there is also the pixelsizeconfig. For the moment i dont add it, its not important for my example"
   ],
   "id": "2369e24e8fcea27b",
   "outputs": [
    {
     "name": "stdout",
     "output_type": "stream",
     "text": [
      "pygame 2.6.1 (SDL 2.28.4, Python 3.12.11)\n",
      "Hello from the pygame community. https://www.pygame.org/contribute.html\n"
     ]
    }
   ],
   "execution_count": 1
  },
  {
   "metadata": {
    "ExecuteTime": {
     "end_time": "2025-09-24T10:07:06.392120Z",
     "start_time": "2025-09-24T10:07:06.277381Z"
    }
   },
   "cell_type": "code",
   "source": "core = MyUniMMCore()",
   "id": "d44e6cab80f2a32e",
   "outputs": [],
   "execution_count": 2
  },
  {
   "metadata": {
    "ExecuteTime": {
     "end_time": "2025-09-24T10:07:06.438972Z",
     "start_time": "2025-09-24T10:07:06.421797Z"
    }
   },
   "cell_type": "code",
   "source": "DEVICE_REGISTRY",
   "id": "2b7dfdb970ba03bd",
   "outputs": [
    {
     "data": {
      "text/plain": [
       "{'CameraDevice': <function devices_camera.make_camera(core, microscope_simulation)>,\n",
       " 'XYStageDevice': <function devices_xystage.make_xy_stage(microscope_sim)>,\n",
       " 'ShutterDevice': <function devices_shutter.make_shutter()>,\n",
       " 'LEDState': <function devices_state.make_led(label, state_label, microscope_sim)>,\n",
       " 'FWState': <function devices_state.make_filter_wheel(label, state_label, microscope_sim)>}"
      ]
     },
     "execution_count": 3,
     "metadata": {},
     "output_type": "execute_result"
    }
   ],
   "execution_count": 3
  },
  {
   "metadata": {
    "ExecuteTime": {
     "end_time": "2025-09-24T10:07:06.700412Z",
     "start_time": "2025-09-24T10:07:06.667680Z"
    }
   },
   "cell_type": "code",
   "source": "core.loadSystemConfiguration()",
   "id": "97070532fa604dc9",
   "outputs": [
    {
     "name": "stdout",
     "output_type": "stream",
     "text": [
      "# Unload all devices\n",
      "\n",
      "Property,Core,Initialize,0\n",
      "\n",
      "# Load devices\n",
      "\n",
      "Device,Camera,py,CameraDevice\n",
      "\n",
      "('Camera', 'Core')\n",
      "Device,XYStage,py,XYStageDevice\n",
      "\n",
      "('Camera', 'XYStage', 'Core')\n",
      "Device,LED,py,LEDState\n",
      "\n",
      "('Camera', 'XYStage', 'LED', 'Core')\n",
      "Device,Filter Wheel,py,FWState\n",
      "\n",
      "('Camera', 'XYStage', 'LED', 'Filter Wheel', 'Core')\n",
      "Device,Shutter,py,ShutterDevice\n",
      "\n",
      "('Camera', 'XYStage', 'LED', 'Filter Wheel', 'Shutter', 'Core')\n",
      "# Pre-initialization properties\n",
      "\n",
      "# Hub references\n",
      "\n",
      "Property,Core,Initialize,1\n",
      "\n",
      "# Delays\n",
      "\n",
      "# Stage focus directions\n",
      "\n",
      "# Labels\n",
      "\n",
      "Label,LED,0,UV\n",
      "\n",
      "Label,LED,1,BLUE\n",
      "\n",
      "Label,LED,2,CYAN\n",
      "\n",
      "Label,LED,3,GREEN\n",
      "\n",
      "Label,LED,4,YELLOW\n",
      "\n",
      "Label,LED,5,ORANGE\n",
      "\n",
      "Label,LED,6,RED\n",
      "\n",
      "Label,Filter Wheel,0,Electra1(402/454)\n",
      "\n",
      "Label,Filter Wheel,1,SCFP2(434/474)\n",
      "\n",
      "Label,Filter Wheel,2,TagGFP2(483/506)\n",
      "\n",
      "Label,Filter Wheel,3,obeYFP(514/528)\n",
      "\n",
      "Label,Filter Wheel,4,mRFP1-Q667(549/570)\n",
      "\n",
      "Label,Filter Wheel,5,mScarlet3(569/582)\n",
      "\n",
      "Label,Filter Wheel,6,miRFP670(642/670)\n",
      "\n",
      "# Group configurations\n",
      "\n",
      "ConfigGroup,test,nucleus-channel,LED,Label,ORANGE\n",
      "\n",
      "(<Keyword.State: 'State'>, 'Label')\n",
      "Label\n",
      "ConfigGroup,test,nucleus-channel,Filter Wheel,Label,mScarlet3(569/582)\n",
      "\n",
      "(<Keyword.State: 'State'>, 'Label')\n",
      "Label\n",
      "ConfigGroup,test,membrane-channel,LED,Label,RED\n",
      "\n",
      "(<Keyword.State: 'State'>, 'Label')\n",
      "Label\n",
      "ConfigGroup,test,membrane-channel,Filter Wheel,Label,miRFP670(642/670)\n",
      "\n",
      "(<Keyword.State: 'State'>, 'Label')\n",
      "Label\n",
      "ConfigGroup,test,cell-channel,LED,Label,ORANGE\n",
      "\n",
      "(<Keyword.State: 'State'>, 'Label')\n",
      "Label\n",
      "ConfigGroup,test,cell-channel,Filter Wheel,Label,mScarlet3(569/582)\n",
      "\n",
      "(<Keyword.State: 'State'>, 'Label')\n",
      "Label\n",
      "# Pixel Size configurations\n",
      "\n",
      "\n",
      "\n",
      "# Roles\n",
      "\n"
     ]
    }
   ],
   "execution_count": 4
  },
  {
   "metadata": {
    "ExecuteTime": {
     "end_time": "2025-09-24T10:07:21.893507Z",
     "start_time": "2025-09-24T10:07:09.172726Z"
    }
   },
   "cell_type": "code",
   "source": [
    "import napari\n",
    "\n",
    "viewer = napari.Viewer()\n",
    "\n",
    "#viewer.window.add_plugin_dock_widget(plugin_name=\"napari-micromanager\")\n",
    "\n",
    "napari.run()"
   ],
   "id": "fc353bf478daf7d3",
   "outputs": [
    {
     "name": "stderr",
     "output_type": "stream",
     "text": [
      "C:\\Users\\dario\\anaconda3\\envs\\opto-loop\\Lib\\site-packages\\requests\\__init__.py:86: RequestsDependencyWarning: Unable to find acceptable character detection dependency (chardet or charset_normalizer).\n",
      "  warnings.warn(\n",
      "C:\\Users\\dario\\anaconda3\\envs\\opto-loop\\Lib\\site-packages\\napari_micromanager\\main_window.py:51: FutureWarning: The `_dock_widgets` property is private and should not be used in any plugin code. Please use the `dock_widgets` property instead.\n",
      "  if \"MinMax\" not in getattr(self.viewer.window, \"_dock_widgets\", []):\n"
     ]
    },
    {
     "data": {
      "text/plain": [
       "\u001B[2;36m[09/24/25 12:07:35]\u001B[0m\u001B[2;36m \u001B[0m\u001B[1;31mERROR   \u001B[0m Exception occurred in MMCorePlus callback \u001B[32m'channelGroupChanged'\u001B[0m:  \u001B]8;id=827115;file://C:\\Users\\dario\\anaconda3\\envs\\opto-loop\\Lib\\site-packages\\pymmcore_plus\\core\\_mmcore_plus.py\u001B\\\u001B[2m_mmcore_plus.py\u001B[0m\u001B]8;;\u001B\\\u001B[2m:\u001B[0m\u001B]8;id=498581;file://C:\\Users\\dario\\anaconda3\\envs\\opto-loop\\Lib\\site-packages\\pymmcore_plus\\core\\_mmcore_plus.py#2572\u001B\\\u001B[2m2572\u001B[0m\u001B]8;;\u001B\\\n",
       "\u001B[2;36m                    \u001B[0m                                                                           \u001B[2m                    \u001B[0m\n",
       "\u001B[2;36m                    \u001B[0m         While emitting signal                                             \u001B[2m                    \u001B[0m\n",
       "\u001B[2;36m                    \u001B[0m         \u001B[32m'pymmcore_plus.core.events._psygnal.CMMCoreSignaler.channelGroupC\u001B[0m \u001B[2m                    \u001B[0m\n",
       "\u001B[2;36m                    \u001B[0m         \u001B[32mhanged'\u001B[0m, an error occurred in a callback:                         \u001B[2m                    \u001B[0m\n",
       "\u001B[2;36m                    \u001B[0m                                                                           \u001B[2m                    \u001B[0m\n",
       "\u001B[2;36m                    \u001B[0m           RuntimeError: No device with label \u001B[32m\"LED\"\u001B[0m                        \u001B[2m                    \u001B[0m\n",
       "\u001B[2;36m                    \u001B[0m           ----------------------------------------                        \u001B[2m                    \u001B[0m\n",
       "\u001B[2;36m                    \u001B[0m                                                                           \u001B[2m                    \u001B[0m\n",
       "\u001B[2;36m                    \u001B[0m           SIGNAL EMISSION:                                                \u001B[2m                    \u001B[0m\n",
       "\u001B[2;36m                    \u001B[0m             C:\\Users\\dario\\anaconda3\\envs\\opto-loop\\Lib\\site-packages\\pym \u001B[2m                    \u001B[0m\n",
       "\u001B[2;36m                    \u001B[0m         mcore_plus\\core\\_mmcore_plus.py:\u001B[1;36m2228\u001B[0m in setChannelGroup           \u001B[2m                    \u001B[0m\n",
       "\u001B[2;36m                    \u001B[0m               \u001B[1;35msuper\u001B[0m\u001B[1m(\u001B[0m\u001B[1m)\u001B[0m\u001B[1;35m.setChannelGroup\u001B[0m\u001B[1m(\u001B[0mchannelGroup\u001B[1m)\u001B[0m                       \u001B[2m                    \u001B[0m\n",
       "\u001B[2;36m                    \u001B[0m             C:\\Users\\dario\\anaconda3\\envs\\opto-loop\\Lib\\site-packages\\pym \u001B[2m                    \u001B[0m\n",
       "\u001B[2;36m                    \u001B[0m         mcore_plus\\core\\_mmcore_plus.py:\u001B[1;36m2570\u001B[0m in reemit                    \u001B[2m                    \u001B[0m\n",
       "\u001B[2;36m                    \u001B[0m               \u001B[1;35mgetattr\u001B[0m\u001B[1m(\u001B[0mself._emitter, sig_name\u001B[1m)\u001B[0m\u001B[1;35m.emit\u001B[0m\u001B[1m(\u001B[0m*args\u001B[1m)\u001B[0m  # <-- SIGNAL  \u001B[2m                    \u001B[0m\n",
       "\u001B[2;36m                    \u001B[0m         WAS EMITTED HERE                                                  \u001B[2m                    \u001B[0m\n",
       "\u001B[2;36m                    \u001B[0m                                                                           \u001B[2m                    \u001B[0m\n",
       "\u001B[2;36m                    \u001B[0m           CALLBACK CHAIN:                                                 \u001B[2m                    \u001B[0m\n",
       "\u001B[2;36m                    \u001B[0m             src\\psygnal\\_signal.py:\u001B[1;36m1309\u001B[0m in _run_emit_loop                 \u001B[2m                    \u001B[0m\n",
       "\u001B[2;36m                    \u001B[0m             \u001B[33m...\u001B[0m \u001B[1;36m5\u001B[0m more frames \u001B[33m...\u001B[0m                                         \u001B[2m                    \u001B[0m\n",
       "\u001B[2;36m                    \u001B[0m             C:\\Users\\dario\\anaconda3\\envs\\opto-loop\\Lib\\site-packages\\pym \u001B[2m                    \u001B[0m\n",
       "\u001B[2;36m                    \u001B[0m         mcore_widgets\\control\\_presets_widget.py:\u001B[1;36m58\u001B[0m in __init__           \u001B[2m                    \u001B[0m\n",
       "\u001B[2;36m                    \u001B[0m               \u001B[1;35mself._combo.setCurrentText\u001B[0m\u001B[1m(\u001B[0m\u001B[1;35mself._mmc.getCurrentConfig\u001B[0m\u001B[1m(\u001B[0mself. \u001B[2m                    \u001B[0m\n",
       "\u001B[2;36m                    \u001B[0m         _group\u001B[1m)\u001B[0m\u001B[1m)\u001B[0m  # <-- ERROR OCCURRED HERE                               \u001B[2m                    \u001B[0m\n",
       "\u001B[2;36m                    \u001B[0m                                                                           \u001B[2m                    \u001B[0m\n",
       "\u001B[2;36m                    \u001B[0m               Local variables:                                            \u001B[2m                    \u001B[0m\n",
       "\u001B[2;36m                    \u001B[0m                        group = \u001B[32m'test'\u001B[0m                                     \u001B[2m                    \u001B[0m\n",
       "\u001B[2;36m                    \u001B[0m                       parent =                                            \u001B[2m                    \u001B[0m\n",
       "\u001B[2;36m                    \u001B[0m         <pymmcore_widgets.control._channel_widget.ChannelWidget obje\u001B[33m...\u001B[0m   \u001B[2m                    \u001B[0m\n",
       "\u001B[2;36m                    \u001B[0m                       mmcore = \u001B[3;35mNone\u001B[0m                                       \u001B[2m                    \u001B[0m\n",
       "\u001B[2;36m                    \u001B[0m                    __class__ = <class                                     \u001B[2m                    \u001B[0m\n",
       "\u001B[2;36m                    \u001B[0m         'pymmcore_widgets.control._presets_widget.PresetsWidg\u001B[33m...\u001B[0m          \u001B[2m                    \u001B[0m\n"
      ],
      "text/html": [
       "<pre style=\"white-space:pre;overflow-x:auto;line-height:normal;font-family:Menlo,'DejaVu Sans Mono',consolas,'Courier New',monospace\"><span style=\"color: #7fbfbf; text-decoration-color: #7fbfbf\">[09/24/25 12:07:35] </span><span style=\"color: #800000; text-decoration-color: #800000; font-weight: bold\">ERROR   </span> Exception occurred in MMCorePlus callback <span style=\"color: #008000; text-decoration-color: #008000\">'channelGroupChanged'</span>:  <a href=\"file://C:\\Users\\dario\\anaconda3\\envs\\opto-loop\\Lib\\site-packages\\pymmcore_plus\\core\\_mmcore_plus.py\" target=\"_blank\"><span style=\"color: #7f7f7f; text-decoration-color: #7f7f7f\">_mmcore_plus.py</span></a><span style=\"color: #7f7f7f; text-decoration-color: #7f7f7f\">:</span><a href=\"file://C:\\Users\\dario\\anaconda3\\envs\\opto-loop\\Lib\\site-packages\\pymmcore_plus\\core\\_mmcore_plus.py#2572\" target=\"_blank\"><span style=\"color: #7f7f7f; text-decoration-color: #7f7f7f\">2572</span></a>\n",
       "<span style=\"color: #7fbfbf; text-decoration-color: #7fbfbf\">                    </span>                                                                           <span style=\"color: #7f7f7f; text-decoration-color: #7f7f7f\">                    </span>\n",
       "<span style=\"color: #7fbfbf; text-decoration-color: #7fbfbf\">                    </span>         While emitting signal                                             <span style=\"color: #7f7f7f; text-decoration-color: #7f7f7f\">                    </span>\n",
       "<span style=\"color: #7fbfbf; text-decoration-color: #7fbfbf\">                    </span>         <span style=\"color: #008000; text-decoration-color: #008000\">'pymmcore_plus.core.events._psygnal.CMMCoreSignaler.channelGroupC</span> <span style=\"color: #7f7f7f; text-decoration-color: #7f7f7f\">                    </span>\n",
       "<span style=\"color: #7fbfbf; text-decoration-color: #7fbfbf\">                    </span>         <span style=\"color: #008000; text-decoration-color: #008000\">hanged'</span>, an error occurred in a callback:                         <span style=\"color: #7f7f7f; text-decoration-color: #7f7f7f\">                    </span>\n",
       "<span style=\"color: #7fbfbf; text-decoration-color: #7fbfbf\">                    </span>                                                                           <span style=\"color: #7f7f7f; text-decoration-color: #7f7f7f\">                    </span>\n",
       "<span style=\"color: #7fbfbf; text-decoration-color: #7fbfbf\">                    </span>           RuntimeError: No device with label <span style=\"color: #008000; text-decoration-color: #008000\">\"LED\"</span>                        <span style=\"color: #7f7f7f; text-decoration-color: #7f7f7f\">                    </span>\n",
       "<span style=\"color: #7fbfbf; text-decoration-color: #7fbfbf\">                    </span>           ----------------------------------------                        <span style=\"color: #7f7f7f; text-decoration-color: #7f7f7f\">                    </span>\n",
       "<span style=\"color: #7fbfbf; text-decoration-color: #7fbfbf\">                    </span>                                                                           <span style=\"color: #7f7f7f; text-decoration-color: #7f7f7f\">                    </span>\n",
       "<span style=\"color: #7fbfbf; text-decoration-color: #7fbfbf\">                    </span>           SIGNAL EMISSION:                                                <span style=\"color: #7f7f7f; text-decoration-color: #7f7f7f\">                    </span>\n",
       "<span style=\"color: #7fbfbf; text-decoration-color: #7fbfbf\">                    </span>             C:\\Users\\dario\\anaconda3\\envs\\opto-loop\\Lib\\site-packages\\pym <span style=\"color: #7f7f7f; text-decoration-color: #7f7f7f\">                    </span>\n",
       "<span style=\"color: #7fbfbf; text-decoration-color: #7fbfbf\">                    </span>         mcore_plus\\core\\_mmcore_plus.py:<span style=\"color: #008080; text-decoration-color: #008080; font-weight: bold\">2228</span> in setChannelGroup           <span style=\"color: #7f7f7f; text-decoration-color: #7f7f7f\">                    </span>\n",
       "<span style=\"color: #7fbfbf; text-decoration-color: #7fbfbf\">                    </span>               <span style=\"color: #800080; text-decoration-color: #800080; font-weight: bold\">super</span><span style=\"font-weight: bold\">()</span><span style=\"color: #800080; text-decoration-color: #800080; font-weight: bold\">.setChannelGroup</span><span style=\"font-weight: bold\">(</span>channelGroup<span style=\"font-weight: bold\">)</span>                       <span style=\"color: #7f7f7f; text-decoration-color: #7f7f7f\">                    </span>\n",
       "<span style=\"color: #7fbfbf; text-decoration-color: #7fbfbf\">                    </span>             C:\\Users\\dario\\anaconda3\\envs\\opto-loop\\Lib\\site-packages\\pym <span style=\"color: #7f7f7f; text-decoration-color: #7f7f7f\">                    </span>\n",
       "<span style=\"color: #7fbfbf; text-decoration-color: #7fbfbf\">                    </span>         mcore_plus\\core\\_mmcore_plus.py:<span style=\"color: #008080; text-decoration-color: #008080; font-weight: bold\">2570</span> in reemit                    <span style=\"color: #7f7f7f; text-decoration-color: #7f7f7f\">                    </span>\n",
       "<span style=\"color: #7fbfbf; text-decoration-color: #7fbfbf\">                    </span>               <span style=\"color: #800080; text-decoration-color: #800080; font-weight: bold\">getattr</span><span style=\"font-weight: bold\">(</span>self._emitter, sig_name<span style=\"font-weight: bold\">)</span><span style=\"color: #800080; text-decoration-color: #800080; font-weight: bold\">.emit</span><span style=\"font-weight: bold\">(</span>*args<span style=\"font-weight: bold\">)</span>  # &lt;-- SIGNAL  <span style=\"color: #7f7f7f; text-decoration-color: #7f7f7f\">                    </span>\n",
       "<span style=\"color: #7fbfbf; text-decoration-color: #7fbfbf\">                    </span>         WAS EMITTED HERE                                                  <span style=\"color: #7f7f7f; text-decoration-color: #7f7f7f\">                    </span>\n",
       "<span style=\"color: #7fbfbf; text-decoration-color: #7fbfbf\">                    </span>                                                                           <span style=\"color: #7f7f7f; text-decoration-color: #7f7f7f\">                    </span>\n",
       "<span style=\"color: #7fbfbf; text-decoration-color: #7fbfbf\">                    </span>           CALLBACK CHAIN:                                                 <span style=\"color: #7f7f7f; text-decoration-color: #7f7f7f\">                    </span>\n",
       "<span style=\"color: #7fbfbf; text-decoration-color: #7fbfbf\">                    </span>             src\\psygnal\\_signal.py:<span style=\"color: #008080; text-decoration-color: #008080; font-weight: bold\">1309</span> in _run_emit_loop                 <span style=\"color: #7f7f7f; text-decoration-color: #7f7f7f\">                    </span>\n",
       "<span style=\"color: #7fbfbf; text-decoration-color: #7fbfbf\">                    </span>             <span style=\"color: #808000; text-decoration-color: #808000\">...</span> <span style=\"color: #008080; text-decoration-color: #008080; font-weight: bold\">5</span> more frames <span style=\"color: #808000; text-decoration-color: #808000\">...</span>                                         <span style=\"color: #7f7f7f; text-decoration-color: #7f7f7f\">                    </span>\n",
       "<span style=\"color: #7fbfbf; text-decoration-color: #7fbfbf\">                    </span>             C:\\Users\\dario\\anaconda3\\envs\\opto-loop\\Lib\\site-packages\\pym <span style=\"color: #7f7f7f; text-decoration-color: #7f7f7f\">                    </span>\n",
       "<span style=\"color: #7fbfbf; text-decoration-color: #7fbfbf\">                    </span>         mcore_widgets\\control\\_presets_widget.py:<span style=\"color: #008080; text-decoration-color: #008080; font-weight: bold\">58</span> in __init__           <span style=\"color: #7f7f7f; text-decoration-color: #7f7f7f\">                    </span>\n",
       "<span style=\"color: #7fbfbf; text-decoration-color: #7fbfbf\">                    </span>               <span style=\"color: #800080; text-decoration-color: #800080; font-weight: bold\">self._combo.setCurrentText</span><span style=\"font-weight: bold\">(</span><span style=\"color: #800080; text-decoration-color: #800080; font-weight: bold\">self._mmc.getCurrentConfig</span><span style=\"font-weight: bold\">(</span>self. <span style=\"color: #7f7f7f; text-decoration-color: #7f7f7f\">                    </span>\n",
       "<span style=\"color: #7fbfbf; text-decoration-color: #7fbfbf\">                    </span>         _group<span style=\"font-weight: bold\">))</span>  # &lt;-- ERROR OCCURRED HERE                               <span style=\"color: #7f7f7f; text-decoration-color: #7f7f7f\">                    </span>\n",
       "<span style=\"color: #7fbfbf; text-decoration-color: #7fbfbf\">                    </span>                                                                           <span style=\"color: #7f7f7f; text-decoration-color: #7f7f7f\">                    </span>\n",
       "<span style=\"color: #7fbfbf; text-decoration-color: #7fbfbf\">                    </span>               Local variables:                                            <span style=\"color: #7f7f7f; text-decoration-color: #7f7f7f\">                    </span>\n",
       "<span style=\"color: #7fbfbf; text-decoration-color: #7fbfbf\">                    </span>                        group = <span style=\"color: #008000; text-decoration-color: #008000\">'test'</span>                                     <span style=\"color: #7f7f7f; text-decoration-color: #7f7f7f\">                    </span>\n",
       "<span style=\"color: #7fbfbf; text-decoration-color: #7fbfbf\">                    </span>                       parent =                                            <span style=\"color: #7f7f7f; text-decoration-color: #7f7f7f\">                    </span>\n",
       "<span style=\"color: #7fbfbf; text-decoration-color: #7fbfbf\">                    </span>         &lt;pymmcore_widgets.control._channel_widget.ChannelWidget obje<span style=\"color: #808000; text-decoration-color: #808000\">...</span>   <span style=\"color: #7f7f7f; text-decoration-color: #7f7f7f\">                    </span>\n",
       "<span style=\"color: #7fbfbf; text-decoration-color: #7fbfbf\">                    </span>                       mmcore = <span style=\"color: #800080; text-decoration-color: #800080; font-style: italic\">None</span>                                       <span style=\"color: #7f7f7f; text-decoration-color: #7f7f7f\">                    </span>\n",
       "<span style=\"color: #7fbfbf; text-decoration-color: #7fbfbf\">                    </span>                    __class__ = &lt;class                                     <span style=\"color: #7f7f7f; text-decoration-color: #7f7f7f\">                    </span>\n",
       "<span style=\"color: #7fbfbf; text-decoration-color: #7fbfbf\">                    </span>         'pymmcore_widgets.control._presets_widget.PresetsWidg<span style=\"color: #808000; text-decoration-color: #808000\">...</span>          <span style=\"color: #7f7f7f; text-decoration-color: #7f7f7f\">                    </span>\n",
       "</pre>\n"
      ]
     },
     "metadata": {},
     "output_type": "display_data"
    }
   ],
   "execution_count": 5
  },
  {
   "metadata": {
    "ExecuteTime": {
     "end_time": "2025-09-24T10:11:00.661739Z",
     "start_time": "2025-09-24T10:10:56.924558Z"
    }
   },
   "cell_type": "code",
   "source": "core.getCurrentConfig(\"test\")",
   "id": "364bab18af82fa43",
   "outputs": [
    {
     "ename": "RuntimeError",
     "evalue": "No device with label \"LED\"",
     "output_type": "error",
     "traceback": [
      "\u001B[31m---------------------------------------------------------------------------\u001B[39m",
      "\u001B[31mRuntimeError\u001B[39m                              Traceback (most recent call last)",
      "\u001B[36mCell\u001B[39m\u001B[36m \u001B[39m\u001B[32mIn[6]\u001B[39m\u001B[32m, line 1\u001B[39m\n\u001B[32m----> \u001B[39m\u001B[32m1\u001B[39m core.getCurrentConfig(\u001B[33m\"\u001B[39m\u001B[33mtest\u001B[39m\u001B[33m\"\u001B[39m)\n",
      "\u001B[31mRuntimeError\u001B[39m: No device with label \"LED\""
     ]
    }
   ],
   "execution_count": 6
  },
  {
   "metadata": {
    "ExecuteTime": {
     "end_time": "2025-09-24T10:13:08.056723Z",
     "start_time": "2025-09-24T10:13:08.013955Z"
    }
   },
   "cell_type": "code",
   "source": "core.getCurrentConfig(\"test\")",
   "id": "cea2ef2debaf48a8",
   "outputs": [
    {
     "ename": "RuntimeError",
     "evalue": "No device with label \"LED\"",
     "output_type": "error",
     "traceback": [
      "\u001B[31m---------------------------------------------------------------------------\u001B[39m",
      "\u001B[31mRuntimeError\u001B[39m                              Traceback (most recent call last)",
      "\u001B[36mCell\u001B[39m\u001B[36m \u001B[39m\u001B[32mIn[7]\u001B[39m\u001B[32m, line 1\u001B[39m\n\u001B[32m----> \u001B[39m\u001B[32m1\u001B[39m core.getCurrentConfig(\u001B[33m\"\u001B[39m\u001B[33mtest\u001B[39m\u001B[33m\"\u001B[39m)\n",
      "\u001B[31mRuntimeError\u001B[39m: No device with label \"LED\""
     ]
    }
   ],
   "execution_count": 7
  },
  {
   "metadata": {
    "ExecuteTime": {
     "end_time": "2025-09-23T22:09:07.684814Z",
     "start_time": "2025-09-23T22:09:07.678295Z"
    }
   },
   "cell_type": "code",
   "source": "core.getConfigData(\"test\", \"membrane-channel\").dict()",
   "id": "d78a5e117906a7da",
   "outputs": [
    {
     "data": {
      "text/plain": [
       "{'LED': {'Label': 'RED'}, 'Filter Wheel': {'Label': 'miRFP670(642/670)'}}"
      ]
     },
     "execution_count": 8,
     "metadata": {},
     "output_type": "execute_result"
    }
   ],
   "execution_count": 8
  },
  {
   "metadata": {
    "ExecuteTime": {
     "end_time": "2025-09-23T21:23:26.106517Z",
     "start_time": "2025-09-23T21:23:26.098631Z"
    }
   },
   "cell_type": "code",
   "source": "from pymmcore_camera_sim import SimCameraDevice",
   "id": "3e10ff2d884d322a",
   "outputs": [],
   "execution_count": 17
  },
  {
   "metadata": {
    "ExecuteTime": {
     "end_time": "2025-09-23T21:23:27.454090Z",
     "start_time": "2025-09-23T21:23:27.447208Z"
    }
   },
   "cell_type": "code",
   "source": "core.load_py_device(\"Camera2\", SimCameraDevice(core, core.microscope_sim))",
   "id": "f0eb959d44648038",
   "outputs": [],
   "execution_count": 18
  },
  {
   "metadata": {
    "ExecuteTime": {
     "end_time": "2025-09-23T21:25:10.689883Z",
     "start_time": "2025-09-23T21:25:10.682933Z"
    }
   },
   "cell_type": "code",
   "source": "core.__dict__['_events'].__dict__",
   "id": "b05d47985ba9a29e",
   "outputs": [
    {
     "data": {
      "text/plain": [
       "{'SLMExposureChanged': <SignalInstance 'SLMExposureChanged' on <SignalGroup 'CMMCoreSignaler' with 25 signals>>,\n",
       " 'XYStagePositionChanged': <SignalInstance 'XYStagePositionChanged' on <SignalGroup 'CMMCoreSignaler' with 25 signals>>,\n",
       " '_sequenceAcquisitionStarted': <SignalInstance '_sequenceAcquisitionStarted' on <SignalGroup 'CMMCoreSignaler' with 25 signals>>,\n",
       " '_sequenceAcquisitionStarting': <SignalInstance '_sequenceAcquisitionStarting' on <SignalGroup 'CMMCoreSignaler' with 25 signals>>,\n",
       " 'autoShutterSet': <SignalInstance 'autoShutterSet' on <SignalGroup 'CMMCoreSignaler' with 25 signals>>,\n",
       " 'channelGroupChanged': <SignalInstance 'channelGroupChanged' on <SignalGroup 'CMMCoreSignaler' with 25 signals>>,\n",
       " 'configDefined': <SignalInstance 'configDefined' on <SignalGroup 'CMMCoreSignaler' with 25 signals>>,\n",
       " 'configDeleted': <SignalInstance 'configDeleted' on <SignalGroup 'CMMCoreSignaler' with 25 signals>>,\n",
       " 'configGroupChanged': <SignalInstance 'configGroupChanged' on <SignalGroup 'CMMCoreSignaler' with 25 signals>>,\n",
       " 'configGroupDeleted': <SignalInstance 'configGroupDeleted' on <SignalGroup 'CMMCoreSignaler' with 25 signals>>,\n",
       " 'configSet': <SignalInstance 'configSet' on <SignalGroup 'CMMCoreSignaler' with 25 signals>>,\n",
       " 'continuousSequenceAcquisitionStarted': <SignalInstance 'continuousSequenceAcquisitionStarted' on <SignalGroup 'CMMCoreSignaler' with 25 signals>>,\n",
       " 'continuousSequenceAcquisitionStarting': <SignalInstance 'continuousSequenceAcquisitionStarting' on <SignalGroup 'CMMCoreSignaler' with 25 signals>>,\n",
       " 'exposureChanged': <SignalInstance 'exposureChanged' on <SignalGroup 'CMMCoreSignaler' with 25 signals>>,\n",
       " 'imageSnapped': <SignalInstance 'imageSnapped' on <SignalGroup 'CMMCoreSignaler' with 25 signals>>,\n",
       " 'mdaEngineRegistered': <SignalInstance 'mdaEngineRegistered' on <SignalGroup 'CMMCoreSignaler' with 25 signals>>,\n",
       " 'pixelSizeAffineChanged': <SignalInstance 'pixelSizeAffineChanged' on <SignalGroup 'CMMCoreSignaler' with 25 signals>>,\n",
       " 'pixelSizeChanged': <SignalInstance 'pixelSizeChanged' on <SignalGroup 'CMMCoreSignaler' with 25 signals>>,\n",
       " 'propertiesChanged': <SignalInstance 'propertiesChanged' on <SignalGroup 'CMMCoreSignaler' with 25 signals>>,\n",
       " 'propertyChanged': <SignalInstance 'propertyChanged' on <SignalGroup 'CMMCoreSignaler' with 25 signals>>,\n",
       " 'roiSet': <SignalInstance 'roiSet' on <SignalGroup 'CMMCoreSignaler' with 25 signals>>,\n",
       " 'sequenceAcquisitionStopped': <SignalInstance 'sequenceAcquisitionStopped' on <SignalGroup 'CMMCoreSignaler' with 25 signals>>,\n",
       " 'shutterOpenChanged': <SignalInstance 'shutterOpenChanged' on <SignalGroup 'CMMCoreSignaler' with 25 signals>>,\n",
       " 'stagePositionChanged': <SignalInstance 'stagePositionChanged' on <SignalGroup 'CMMCoreSignaler' with 25 signals>>,\n",
       " 'systemConfigurationLoaded': <SignalInstance 'systemConfigurationLoaded' on <SignalGroup 'CMMCoreSignaler' with 25 signals>>}"
      ]
     },
     "execution_count": 22,
     "metadata": {},
     "output_type": "execute_result"
    }
   ],
   "execution_count": 22
  },
  {
   "metadata": {
    "ExecuteTime": {
     "end_time": "2025-09-23T20:44:52.288819Z",
     "start_time": "2025-09-23T20:44:52.273917Z"
    }
   },
   "cell_type": "code",
   "source": "core.getConfigState(\"test\", \"nucleus-channel\").dict()",
   "id": "2629d1681c1dae18",
   "outputs": [
    {
     "name": "stdout",
     "output_type": "stream",
     "text": [
      "('test',)\n",
      "('cell-channel', 'membrane-channel', 'nucleus-channel')\n"
     ]
    },
    {
     "data": {
      "text/plain": [
       "{'LED': {'Label': 'ORANGE'}, 'Filter Wheel': {'Label': 'mScarlet3(569/582)'}}"
      ]
     },
     "execution_count": 7,
     "metadata": {},
     "output_type": "execute_result"
    }
   ],
   "execution_count": 7
  },
  {
   "metadata": {
    "ExecuteTime": {
     "end_time": "2025-09-23T20:45:15.028567Z",
     "start_time": "2025-09-23T20:45:12.749115Z"
    }
   },
   "cell_type": "code",
   "source": "core.getCurrentConfig(\"test\")",
   "id": "6fe6260fad9a17f2",
   "outputs": [
    {
     "ename": "RuntimeError",
     "evalue": "No device with label \"LED\"",
     "output_type": "error",
     "traceback": [
      "\u001B[31m---------------------------------------------------------------------------\u001B[39m",
      "\u001B[31mRuntimeError\u001B[39m                              Traceback (most recent call last)",
      "\u001B[36mCell\u001B[39m\u001B[36m \u001B[39m\u001B[32mIn[8]\u001B[39m\u001B[32m, line 1\u001B[39m\n\u001B[32m----> \u001B[39m\u001B[32m1\u001B[39m core.getCurrentConfig(\u001B[33m\"\u001B[39m\u001B[33mtest\u001B[39m\u001B[33m\"\u001B[39m)\n",
      "\u001B[31mRuntimeError\u001B[39m: No device with label \"LED\""
     ]
    }
   ],
   "execution_count": 8
  },
  {
   "metadata": {
    "ExecuteTime": {
     "end_time": "2025-09-24T10:33:54.393868Z",
     "start_time": "2025-09-24T10:33:53.191461Z"
    }
   },
   "cell_type": "code",
   "source": "core.getConfigGroupState(\"test\")",
   "id": "40df44bc50870eca",
   "outputs": [
    {
     "ename": "RuntimeError",
     "evalue": "No device with label \"LED\"",
     "output_type": "error",
     "traceback": [
      "\u001B[31m---------------------------------------------------------------------------\u001B[39m",
      "\u001B[31mRuntimeError\u001B[39m                              Traceback (most recent call last)",
      "\u001B[36mCell\u001B[39m\u001B[36m \u001B[39m\u001B[32mIn[8]\u001B[39m\u001B[32m, line 1\u001B[39m\n\u001B[32m----> \u001B[39m\u001B[32m1\u001B[39m core.getConfigGroupState(\u001B[33m\"\u001B[39m\u001B[33mtest\u001B[39m\u001B[33m\"\u001B[39m)\n",
      "\u001B[36mFile \u001B[39m\u001B[32m~\\anaconda3\\envs\\opto-loop\\Lib\\site-packages\\pymmcore_plus\\core\\_mmcore_plus.py:614\u001B[39m, in \u001B[36mCMMCorePlus.getConfigGroupState\u001B[39m\u001B[34m(self, group, native)\u001B[39m\n\u001B[32m    605\u001B[39m \u001B[38;5;28;01mdef\u001B[39;00m\u001B[38;5;250m \u001B[39m\u001B[34mgetConfigGroupState\u001B[39m(\n\u001B[32m    606\u001B[39m     \u001B[38;5;28mself\u001B[39m, group: \u001B[38;5;28mstr\u001B[39m, *, native: \u001B[38;5;28mbool\u001B[39m = \u001B[38;5;28;01mFalse\u001B[39;00m\n\u001B[32m    607\u001B[39m ) -> Configuration | pymmcore.Configuration:\n\u001B[32m    608\u001B[39m \u001B[38;5;250m    \u001B[39m\u001B[33;03m\"\"\"Return the state of the devices included in the specified `group`.\u001B[39;00m\n\u001B[32m    609\u001B[39m \n\u001B[32m    610\u001B[39m \u001B[33;03m    **Why Override?** The [`pymmcore_plus.Configuration`][] object returned\u001B[39;00m\n\u001B[32m    611\u001B[39m \u001B[33;03m    when `native=False` (the default) provides a nicer `Mapping` interface. Pass\u001B[39;00m\n\u001B[32m    612\u001B[39m \u001B[33;03m    `native=True` to get the original `pymmcore.Configuration` object.\u001B[39;00m\n\u001B[32m    613\u001B[39m \u001B[33;03m    \"\"\"\u001B[39;00m\n\u001B[32m--> \u001B[39m\u001B[32m614\u001B[39m     cfg = \u001B[38;5;28msuper\u001B[39m().getConfigGroupState(group)\n\u001B[32m    615\u001B[39m     \u001B[38;5;28;01mreturn\u001B[39;00m cfg \u001B[38;5;28;01mif\u001B[39;00m native \u001B[38;5;28;01melse\u001B[39;00m Configuration.from_configuration(cfg)\n",
      "\u001B[31mRuntimeError\u001B[39m: No device with label \"LED\""
     ]
    }
   ],
   "execution_count": 8
  },
  {
   "metadata": {
    "ExecuteTime": {
     "end_time": "2025-09-24T12:37:29.735490Z",
     "start_time": "2025-09-24T12:37:29.674846Z"
    }
   },
   "cell_type": "code",
   "source": "core.getAllowedPropertyValues(\"Camera\", \"brightness\")",
   "id": "25a40396e90a6bfd",
   "outputs": [
    {
     "data": {
      "text/plain": [
       "()"
      ]
     },
     "execution_count": 9,
     "metadata": {},
     "output_type": "execute_result"
    }
   ],
   "execution_count": 9
  },
  {
   "metadata": {},
   "cell_type": "code",
   "source": "core.getConfigState(\"test\", \"new-channel\")",
   "id": "aae1c84d21ffbe28",
   "outputs": [],
   "execution_count": null
  },
  {
   "metadata": {},
   "cell_type": "code",
   "source": "Path(\"test_config.cfg\").expanduser()",
   "id": "4136a0bf92268bc7",
   "outputs": [],
   "execution_count": null
  },
  {
   "metadata": {},
   "cell_type": "code",
   "source": "__import__(\"pymmcore_stage_sim\",fromlist=[SimCameraDevice])",
   "id": "c35c23117cbf512f",
   "outputs": [],
   "execution_count": null
  },
  {
   "metadata": {},
   "cell_type": "code",
   "source": "",
   "id": "b10456717e9befed",
   "outputs": [],
   "execution_count": null
  },
  {
   "metadata": {},
   "cell_type": "code",
   "source": "microscope_simulation = MicroscopeSim()",
   "id": "bec858023db15fa0",
   "outputs": [],
   "execution_count": null
  },
  {
   "metadata": {},
   "cell_type": "code",
   "source": "core.loadPyDevice(\"Test\", SimStateDevice(\"Test\", {0:\"\"}, microscope_sim=microscope_simulation))",
   "id": "637d4f3679ec08d2",
   "outputs": [],
   "execution_count": null
  },
  {
   "metadata": {},
   "cell_type": "code",
   "source": "core.initializeDevice(\"Test\")",
   "id": "c60a431b30b67fd0",
   "outputs": [],
   "execution_count": null
  },
  {
   "metadata": {},
   "cell_type": "code",
   "source": "core.defineStateLabel(\"Test\", 0,\"state-0\")",
   "id": "cbb526be572d515d",
   "outputs": [],
   "execution_count": null
  },
  {
   "metadata": {},
   "cell_type": "code",
   "source": "core.getAllowedPropertyValues(\"Test\", \"Label\")",
   "id": "ef971be0b56421f1",
   "outputs": [],
   "execution_count": null
  },
  {
   "metadata": {},
   "cell_type": "code",
   "source": [
    "#core = UniMMCore()\n",
    "core = MyUniMMCore()\n",
    "#core = CMMCorePlus().instance()\n",
    "#core = unicore\n",
    "microscope_simulation = MicroscopeSim()\n",
    "print(core.getLoadedDevices())\n",
    "#-----------------------------------------\n",
    "# unload all devices\n",
    "core.unloadAllDevices()\n",
    "\n",
    "print(core.getLoadedDevices())\n",
    "#-----------------------------------------------------\n",
    "# load device\n",
    "core.loadPyDevice(\"Camera\", SimCameraDevice(core=core, microscope_sim=microscope_simulation))\n",
    "core.loadPyDevice(\"XYStage\", SimStageDevice(microscope_sim=microscope_simulation))\n",
    "core.loadPyDevice(\"LED\", SimStateDevice(label=\"LED\",state_dict={0:\"UV\", 1:\"BLUE\", 2:\"CYAN\", 3:\"GREEN\", 4:\"YELLOW\", 5:\"ORANGE\", 6:\"RED\"}, microscope_sim=microscope_simulation))\n",
    "core.loadPyDevice(\"Filter Wheel\", SimStateDevice(label=\"Filter Wheel\",state_dict={0:\"Electra1(402/454)\", 1:\"SCFP2(434/474)\", 2:\"TagGFP2(483/506)\", 3:\"obeYFP(514/528)\", 5:\"mRFP1-Q667(549/570)\", 6:\"mScarlet3(569/582)\", 7:\"miRFP670(642/670)\"}, microscope_sim=microscope_simulation))\n",
    "core.loadPyDevice(\"Shutter\", SimShutterDevice())\n",
    "#------------------------------------\n",
    "print(core.getLoadedDevices())\n",
    "# initialize device\n",
    "#core.initializeDevice(\"Camera\")\n",
    "#core.initializeDevice(\"XYStage\")\n",
    "#core.initializeDevice(\"Filter Wheel\")\n",
    "#core.initializeDevice(\"LED\")\n",
    "#core.initializeDevice(\"Shutter\")\n",
    "\n",
    "core.initializeAllDevices()\n",
    "\n",
    "print(core.getLoadedDevices())\n",
    "\n",
    "print(core.getDeviceInitializationState(\"LED\"))\n",
    "\n",
    "#---------------------------\n",
    "# Set initial value of some device\n",
    "core.setCameraDevice(\"Camera\")\n",
    "core.setXYStageDevice(\"XYStage\")\n",
    "core.setShutterDevice(\"Shutter\")\n",
    "core.setState(\"LED\", 0)\n",
    "core.setState(\"Filter Wheel\", 0)\n",
    "\n",
    "core.defineConfigGroup(\"Fake\")\n",
    "core.defineConfigGroup(\"Real\")\n",
    "core.defineConfig(\"Virtual\", \"nucleus-channel\", \"LED\", \"Label\", \"ORANGE\")\n",
    "core.defineConfig(\"Virtual\", \"nucleus-channel\", \"Filter Wheel\", \"Label\", \"mScarlet3(569/582)\")\n",
    "core.defineConfig(\"Virtual\", \"membrane-channel\", \"LED\", \"Label\", \"RED\")\n",
    "core.defineConfig(\"Virtual\", \"membrane-channel\", \"Filter Wheel\", \"Label\", \"miRFP670(642/670)\")\n",
    "core.defineConfig(\"Virtual\", \"all-channel\", \"LED\", \"Label\",\"UV\")\n",
    "core.defineConfig(\"Virtual\", \"all-channel\", \"Filter Wheel\", \"Label\",\"Electra1(402/454)\")\n",
    "\n",
    "#core.setChannelGroup(\"Fake\")\n",
    "#core.setChannelGroup(\"Real\")\n",
    "#core.setConfig(\"Fake\", \"state-0\")\n",
    "#core.setConfig(\"Real\", \"state-3\")\n",
    "\n",
    "#print(core.getDeviceInitializationState(\"LED\").__dict__)\n",
    "#viewer = napari.Viewer()\n",
    "\n",
    "#core.loadSystemConfiguration(fileName=\"./virtual_microscope.cfg\")\n",
    "#viewer.window.add_dock_widget(widget=MyMicromanagerToolbar(viewer=viewer, core=core))\n",
    "#viewer.window.add_dock_widget(widget=MyIllumination(mmcore=core))\n",
    "#viewer.window.add_plugin_dock_widget(plugin_name='napari-micromanager')\n",
    "#viewer.window.add_dock_widget(widget=MyMicromanagerToolbar(viewer=viewer, core=core))\n",
    "#viewer.window.add_dock_widget(widget=StageWidget(device=\"XYStage\", mmcore=core), name=\"Stage\")\n",
    "#viewer.window.add_dock_widget(widget=MicroManagerToolbar(viewer), name=\"MicroManagerToolbar\")\n",
    "#viewer.window.add_dock_widget(widget=IlluminationWidget(mmcore=core), name=\"Illumination\")\n",
    "#viewer.window.add_dock_widget(widget=Illumination(core=core))\n",
    "#viewer.window.add_dock_widget(widget=SimPropertyWidges(core=core))\n",
    "#viewer.window.add_dock_widget(widget=SimPropertyWidget(device_label=\"Filter Wheel\", prop_name=\"State\", mmcore=core))\n",
    "#viewer.window.add_dock_widget(widget=SimPropertyWidget(device_label=\"Filter Wheel\", prop_name=\"Label\", mmcore=core))\n",
    "\n",
    "#napari.run()"
   ],
   "id": "de1a81c9e7d42c66",
   "outputs": [],
   "execution_count": null
  },
  {
   "metadata": {},
   "cell_type": "code",
   "source": "core.defineStateLabel(\"LUCE\", 0, \"Giallo\")",
   "id": "3369274c177379f0",
   "outputs": [],
   "execution_count": null
  },
  {
   "metadata": {},
   "cell_type": "code",
   "source": "core.defineStateLabel()",
   "id": "822d8557cdb8bf81",
   "outputs": [],
   "execution_count": null
  },
  {
   "metadata": {},
   "cell_type": "code",
   "source": "core.getConfigState(\"Fake\", \"state-0\").dict()",
   "id": "43d05ec3ae5eb5df",
   "outputs": [],
   "execution_count": null
  },
  {
   "metadata": {},
   "cell_type": "code",
   "source": "core.getLoadedDevices()",
   "id": "c727d206668d16f0",
   "outputs": [],
   "execution_count": null
  },
  {
   "metadata": {},
   "cell_type": "code",
   "source": "core.getAvailableConfigs(\"Real\")",
   "id": "a0bd7bfe7c85642b",
   "outputs": [],
   "execution_count": null
  },
  {
   "metadata": {},
   "cell_type": "code",
   "source": "core.getSystemState().dict()",
   "id": "470db69c59740a85",
   "outputs": [],
   "execution_count": null
  },
  {
   "metadata": {},
   "cell_type": "code",
   "source": [
    "from pymmcore_plus import Configuration\n",
    "\n",
    "new = Configuration.create({'LED': {'Label': 'ORANGE'}})"
   ],
   "id": "d6088e1d883b1f61",
   "outputs": [],
   "execution_count": null
  },
  {
   "metadata": {},
   "cell_type": "code",
   "source": "new",
   "id": "e00143f50d5b2b06",
   "outputs": [],
   "execution_count": null
  },
  {
   "metadata": {},
   "cell_type": "code",
   "source": [
    "test_str = '# Unload all devices\\n'\n",
    "\n",
    "if test_str.startswith(\"u\"):\n",
    "    print(\"yes\")"
   ],
   "id": "526db5739ac3ad6d",
   "outputs": [],
   "execution_count": null
  },
  {
   "metadata": {},
   "cell_type": "code",
   "source": [
    "with open(\"./test_config.cfg\", \"r\", encoding=\"utf-8\") as f:\n",
    "    print(f.readlines())"
   ],
   "id": "bf6eee29f619c0f0",
   "outputs": [],
   "execution_count": null
  },
  {
   "metadata": {},
   "cell_type": "code",
   "source": [
    "viewer = napari.Viewer()\n",
    "\n",
    "viewer.window.add_plugin_dock_widget(plugin_name='napari-micromanager')\n",
    "\n",
    "napari.run()"
   ],
   "id": "47865d6e6df5661d",
   "outputs": [],
   "execution_count": null
  },
  {
   "metadata": {},
   "cell_type": "code",
   "source": "core.setCameraDevice(\"Camera\")",
   "id": "f1cb822c85456a3d",
   "outputs": [],
   "execution_count": null
  },
  {
   "metadata": {},
   "cell_type": "code",
   "source": "core.getCameraDevice()",
   "id": "9aa65f9ed86dcb0a",
   "outputs": [],
   "execution_count": null
  },
  {
   "metadata": {},
   "cell_type": "code",
   "source": "core.getSystemState().dict()",
   "id": "16fdd813faa27058",
   "outputs": [],
   "execution_count": null
  },
  {
   "metadata": {},
   "cell_type": "code",
   "source": "from pymmcore import Configuration",
   "id": "c709d6ae6e437cce",
   "outputs": [],
   "execution_count": null
  },
  {
   "metadata": {},
   "cell_type": "code",
   "source": "Configuration.",
   "id": "7950791a1b13df8f",
   "outputs": [],
   "execution_count": null
  },
  {
   "metadata": {},
   "cell_type": "code",
   "source": [
    "class MyUniMMCore(UniMMCore):\n",
    "\n",
    "    def __init__(self):\n",
    "        super().__init__()\n",
    "\n",
    "    def getConfigState(\n",
    "        self, group: str, config: str, *, native: bool = False\n",
    "    ):\n",
    "        if group in self.getAvailableConfigGroups() and config in self.getAvailableConfigGroups():\n",
    "            return self.getConfigData(group, config,native=native)\n",
    "        else:\n",
    "            return ()\n"
   ],
   "id": "b4f40381d5610e53",
   "outputs": [],
   "execution_count": null
  },
  {
   "metadata": {},
   "cell_type": "code",
   "source": "core.loadSystemConfiguration()",
   "id": "411485534602429b",
   "outputs": [],
   "execution_count": null
  },
  {
   "metadata": {},
   "cell_type": "code",
   "source": "core.getAvailableConfigGroups()",
   "id": "3ed0579e793b6d72",
   "outputs": [],
   "execution_count": null
  },
  {
   "metadata": {},
   "cell_type": "code",
   "source": "core.getConfigData(\"Fake\", \"state-0\").dict()",
   "id": "e28452b8c0726db3",
   "outputs": [],
   "execution_count": null
  },
  {
   "metadata": {},
   "cell_type": "code",
   "source": "core.getConfigState(\"Fake\", \"state-0\")",
   "id": "1e780bcc0e486549",
   "outputs": [],
   "execution_count": null
  },
  {
   "metadata": {},
   "cell_type": "code",
   "source": "dpv = [(k[0], k[1], k[2]) for k in core.getConfigData(\"Fake\", \"state-0\")]",
   "id": "3d629ba1459e4ea4",
   "outputs": [],
   "execution_count": null
  },
  {
   "metadata": {},
   "cell_type": "code",
   "source": "dpv",
   "id": "afc10e9e37b2ef44",
   "outputs": [],
   "execution_count": null
  },
  {
   "metadata": {},
   "cell_type": "code",
   "source": "core.setChannelGroup(\"Fake\")",
   "id": "4d4cbb426296cdbf",
   "outputs": [],
   "execution_count": null
  },
  {
   "metadata": {},
   "cell_type": "code",
   "source": "core.setChannelGroup(\"Fake\")",
   "id": "a2110c52eb02c971",
   "outputs": [],
   "execution_count": null
  },
  {
   "metadata": {},
   "cell_type": "code",
   "source": "core.getDeviceInitializationState(\"Filter Wheel\").__dict__",
   "id": "9395f6759c2ddf65",
   "outputs": [],
   "execution_count": null
  },
  {
   "metadata": {},
   "cell_type": "code",
   "source": "core.getDeviceInitializationState(\"Camera\").__dict__",
   "id": "1761eaf460b4ca7a",
   "outputs": [],
   "execution_count": null
  },
  {
   "metadata": {},
   "cell_type": "code",
   "source": "core.getDevicePropertyNames(\"LED\")",
   "id": "2ce1b8b2f4933e1",
   "outputs": [],
   "execution_count": null
  },
  {
   "metadata": {},
   "cell_type": "code",
   "source": "core.setState(\"LED\", 1)",
   "id": "f291e91c8aee1ba4",
   "outputs": [],
   "execution_count": null
  },
  {
   "metadata": {},
   "cell_type": "code",
   "source": "core.getState(\"LED\")",
   "id": "19ad2ffa58ca0e8b",
   "outputs": [],
   "execution_count": null
  },
  {
   "metadata": {},
   "cell_type": "code",
   "source": "Keyword.Label.value",
   "id": "113cc9f74384533b",
   "outputs": [],
   "execution_count": null
  },
  {
   "metadata": {},
   "cell_type": "code",
   "source": "Keyword.State.value",
   "id": "c1b428bcf35a6c38",
   "outputs": [],
   "execution_count": null
  },
  {
   "metadata": {},
   "cell_type": "code",
   "source": "core.getStateFromLabel(\"LED\",\"RED\")",
   "id": "bd5fb0f2443dc1c",
   "outputs": [],
   "execution_count": null
  },
  {
   "metadata": {},
   "cell_type": "code",
   "source": "core.getAllowedPropertyValues(\"LED\", Keyword.State.value)",
   "id": "877af6b219f329e5",
   "outputs": [],
   "execution_count": null
  },
  {
   "metadata": {},
   "cell_type": "code",
   "source": "core.getAvailableConfigGroups()",
   "id": "89e6f4aab6a1cb27",
   "outputs": [],
   "execution_count": null
  },
  {
   "metadata": {},
   "cell_type": "code",
   "source": "core.getAvailableConfigs(\"\")",
   "id": "4b661c45b49e4cd9",
   "outputs": [],
   "execution_count": null
  },
  {
   "metadata": {},
   "cell_type": "code",
   "source": "core.defineConfigGroup(\"test\")",
   "id": "ad24d4758d364775",
   "outputs": [],
   "execution_count": null
  },
  {
   "metadata": {},
   "cell_type": "code",
   "source": "core.getAvailableConfigs(\"test\")",
   "id": "f4a29e8007da20c9",
   "outputs": [],
   "execution_count": null
  },
  {
   "metadata": {},
   "cell_type": "code",
   "source": "core.getAvailableConfigGroups()",
   "id": "7c80af09677db30e",
   "outputs": [],
   "execution_count": null
  },
  {
   "metadata": {},
   "cell_type": "code",
   "source": "core.defineConfig(\"test\", \"state-0\")",
   "id": "8d785cf10d04f0dd",
   "outputs": [],
   "execution_count": null
  },
  {
   "metadata": {},
   "cell_type": "code",
   "source": "core.getAvailableConfigs(\"test\")",
   "id": "886b2069c5739585",
   "outputs": [],
   "execution_count": null
  },
  {
   "metadata": {},
   "cell_type": "code",
   "source": "core.getDevicePropertyNames(\"LED\")",
   "id": "2ab4c599da5ae8e9",
   "outputs": [],
   "execution_count": null
  },
  {
   "metadata": {},
   "cell_type": "code",
   "source": "core.getPropertyObject(\"LED\", 'Label')",
   "id": "3fd98c3a530ddf85",
   "outputs": [],
   "execution_count": null
  },
  {
   "metadata": {},
   "cell_type": "code",
   "source": "core.getAllowedPropertyValues(\"LED\", Keyword.Label.value)",
   "id": "80a8cb4551028bcc",
   "outputs": [],
   "execution_count": null
  },
  {
   "metadata": {},
   "cell_type": "code",
   "source": [
    "core.defineConfig(\"test\", \"state-0\",\"LED\",Keyword.Label.value, \"UV\")\n",
    "core.defineConfig(\"test\", \"state-0\", \"Filter Wheel\", Keyword.Label.value, \"Electra1(402/454)\")"
   ],
   "id": "894b51b6df13cd75",
   "outputs": [],
   "execution_count": null
  },
  {
   "metadata": {},
   "cell_type": "code",
   "source": "core.getConfigData(\"test\", \"state-0\").dict()",
   "id": "770d7cc1b2ef4f78",
   "outputs": [],
   "execution_count": null
  },
  {
   "metadata": {},
   "cell_type": "code",
   "source": "core.getAvailableConfigs(\"test\")",
   "id": "53df5a95d2de1224",
   "outputs": [],
   "execution_count": null
  },
  {
   "metadata": {},
   "cell_type": "code",
   "source": "core.initializeAllDevices()",
   "id": "759c02e08bea415e",
   "outputs": [],
   "execution_count": null
  },
  {
   "metadata": {},
   "cell_type": "code",
   "source": [
    "viewer = napari.Viewer()\n",
    "\n",
    "#core.loadSystemConfiguration(fileName=\"./virtual_microscope.cfg\")\n",
    "#viewer.window.add_dock_widget(widget=MyMicromanagerToolbar(viewer=viewer, core=core))\n",
    "#viewer.window.add_dock_widget(widget=MyIllumination(mmcore=core))\n",
    "viewer.window.add_plugin_dock_widget(plugin_name='napari-micromanager')\n",
    "#viewer.window.add_dock_widget(widget=MyMicromanagerToolbar(viewer=viewer, core=core))\n",
    "#viewer.window.add_dock_widget(widget=StageWidget(device=\"XYStage\", mmcore=core), name=\"Stage\")\n",
    "#viewer.window.add_dock_widget(widget=MicroManagerToolbar(viewer), name=\"MicroManagerToolbar\")\n",
    "#viewer.window.add_dock_widget(widget=IlluminationWidget(mmcore=core), name=\"Illumination\")\n",
    "#viewer.window.add_dock_widget(widget=Illumination(core=core))\n",
    "#viewer.window.add_dock_widget(widget=SimPropertyWidges(core=core))\n",
    "#viewer.window.add_dock_widget(widget=SimPropertyWidget(device_label=\"Filter Wheel\", prop_name=\"State\", mmcore=core))\n",
    "#viewer.window.add_dock_widget(widget=SimPropertyWidget(device_label=\"Filter Wheel\", prop_name=\"Label\", mmcore=core))\n",
    "\n",
    "napari.run()"
   ],
   "id": "b85ec0c00b0296b3",
   "outputs": [],
   "execution_count": null
  },
  {
   "metadata": {},
   "cell_type": "code",
   "source": "core.defineConfigGroup(\"Test Channel\")",
   "id": "8bdae21e04878419",
   "outputs": [],
   "execution_count": null
  },
  {
   "metadata": {},
   "cell_type": "code",
   "source": [
    "#core.defineConfig(\"Test Channel\", \"new-channel\", \"LED\",\"Label\", \"ORANGE\")\n",
    "core.defineConfig(\"Test Channel\", \"red-channel\", \"Filter Wheel\", \"Label\", \"mScarlet3(569/582)\")\n",
    "core.defineConfig(\"Test Channel\", \"red-channel\", \"LED\",\"Label\", \"ORANGE\")"
   ],
   "id": "dd956d21041b11e8",
   "outputs": [],
   "execution_count": null
  },
  {
   "metadata": {},
   "cell_type": "code",
   "source": "core.getAvailableConfigs(\"Test Channel\")",
   "id": "b94378b9239222e0",
   "outputs": [],
   "execution_count": null
  },
  {
   "metadata": {},
   "cell_type": "code",
   "source": "core.isConfigDefined(\"Test Channel\", \"RED-channel\")",
   "id": "165dcf40e75749e6",
   "outputs": [],
   "execution_count": null
  },
  {
   "metadata": {},
   "cell_type": "code",
   "source": "core.getLoadedDevices()",
   "id": "3df5d74c10aec813",
   "outputs": [],
   "execution_count": null
  },
  {
   "metadata": {},
   "cell_type": "code",
   "source": "core.getDevicePropertyNames(\"Camera\")",
   "id": "fa7d76367b7ec106",
   "outputs": [],
   "execution_count": null
  },
  {
   "metadata": {},
   "cell_type": "code",
   "source": "core.getDevicePropertyNames(\"LED\")",
   "id": "f09c532c80226159",
   "outputs": [],
   "execution_count": null
  },
  {
   "metadata": {},
   "cell_type": "code",
   "source": "core.getAvailableConfigs(\"Test Channel\")",
   "id": "40976648e341ca0f",
   "outputs": [],
   "execution_count": null
  },
  {
   "metadata": {},
   "cell_type": "code",
   "source": "core.getConfigData(\"Test Channel\", \"RED-channel\").dict()",
   "id": "6349496fc9074dd8",
   "outputs": [],
   "execution_count": null
  },
  {
   "metadata": {},
   "cell_type": "code",
   "source": "core.isConfigDefined(\"Test Channel\", \"new-channel\")",
   "id": "9c3b95adbd7d3dcc",
   "outputs": [],
   "execution_count": null
  },
  {
   "metadata": {},
   "cell_type": "code",
   "source": "core.setProperty(\"LED\",\"Label\",\"ORANGE\")",
   "id": "2d9707994b6b896e",
   "outputs": [],
   "execution_count": null
  },
  {
   "metadata": {},
   "cell_type": "code",
   "source": "core.getProperty(\"LED\", \"Label\")",
   "id": "7bb3662029100001",
   "outputs": [],
   "execution_count": null
  },
  {
   "metadata": {},
   "cell_type": "code",
   "source": "core.isConfigDefined(\"Test Channel\", \"new-channel\")",
   "id": "d267f7ec4a521a03",
   "outputs": [],
   "execution_count": null
  },
  {
   "metadata": {},
   "cell_type": "code",
   "source": "core.setConfig(\"Test Channel\", \"RED-channel\")",
   "id": "11a27539e32067db",
   "outputs": [],
   "execution_count": null
  },
  {
   "metadata": {},
   "cell_type": "code",
   "source": "core.getCurrentConfig(\"Test Channel\")",
   "id": "c95e308eeaa525e9",
   "outputs": [],
   "execution_count": null
  },
  {
   "metadata": {},
   "cell_type": "code",
   "source": "core.getLoadedDevices()",
   "id": "ae3c3e5138fc2d",
   "outputs": [],
   "execution_count": null
  },
  {
   "metadata": {},
   "cell_type": "code",
   "source": "core.getNumberOfStates(\"LED\")",
   "id": "625b0c831e748a2c",
   "outputs": [],
   "execution_count": null
  },
  {
   "metadata": {},
   "cell_type": "code",
   "source": "core.defineConfigGroup(\"newGroup\")",
   "id": "a0bd193569a76a3f",
   "outputs": [],
   "execution_count": null
  },
  {
   "metadata": {},
   "cell_type": "code",
   "source": "core.getAvailableConfigGroups()",
   "id": "6cdb546af45cd59d",
   "outputs": [],
   "execution_count": null
  },
  {
   "metadata": {},
   "cell_type": "code",
   "source": "core.setConfig(\"Test Channel\", \"red-channel\")",
   "id": "c0643cc7045779f7",
   "outputs": [],
   "execution_count": null
  },
  {
   "metadata": {},
   "cell_type": "code",
   "source": "core.getConfigState(\"Test Channel\", \"new-channel\").dict()",
   "id": "d192d4d3f6019514",
   "outputs": [],
   "execution_count": null
  },
  {
   "metadata": {},
   "cell_type": "code",
   "source": "core.describe()",
   "id": "9834b25ff395c737",
   "outputs": [],
   "execution_count": null
  },
  {
   "metadata": {},
   "cell_type": "code",
   "source": "core.setChannelGroup(\"Test Channel\")",
   "id": "59eec904c974bcea",
   "outputs": [],
   "execution_count": null
  },
  {
   "metadata": {},
   "cell_type": "code",
   "source": "core.getC",
   "id": "12df826f6a23a0e8",
   "outputs": [],
   "execution_count": null
  },
  {
   "metadata": {},
   "cell_type": "code",
   "source": "core.getDevicePropertyNames(\"LED\")",
   "id": "c3271d71a23d06a7",
   "outputs": [],
   "execution_count": null
  },
  {
   "metadata": {},
   "cell_type": "code",
   "source": "core.getSystemState().dict()",
   "id": "186c982a905688de",
   "outputs": [],
   "execution_count": null
  },
  {
   "metadata": {},
   "cell_type": "code",
   "source": "core.getConfigData(\"Test Channel\", \"RED-channel\").dict()",
   "id": "328f80010e17ac26",
   "outputs": [],
   "execution_count": null
  },
  {
   "metadata": {},
   "cell_type": "code",
   "source": "core.getCurrentConfig(\"Test Channel\")",
   "id": "a04ad464a5fcb0a0",
   "outputs": [],
   "execution_count": null
  },
  {
   "metadata": {},
   "cell_type": "code",
   "source": "core.__dict__",
   "id": "aaa7fc5c6c871ee1",
   "outputs": [],
   "execution_count": null
  },
  {
   "metadata": {},
   "cell_type": "code",
   "source": [
    "viewer = napari.Viewer()\n",
    "\n",
    "viewer.window.add_plugin_dock_widget(plugin_name='napari-micromanager')\n",
    "\n",
    "napari.run()\n"
   ],
   "id": "b271d007a7fc2ebe",
   "outputs": [],
   "execution_count": null
  },
  {
   "metadata": {},
   "cell_type": "code",
   "source": [
    "for name, dock_widget in viewer.window._dock_widgets.items():\n",
    "                if 'micromanager' in name.lower():\n",
    "                    widget = dock_widget.widget()\n",
    "                    print(widget.__dict__.items())\n",
    "\n",
    "                    widget_dict = widget.__dict__"
   ],
   "id": "f46b19a9dfad47c8",
   "outputs": [],
   "execution_count": null
  },
  {
   "metadata": {},
   "cell_type": "code",
   "source": "unicore = UniMMCore()",
   "id": "4aef3753ac56cf5a",
   "outputs": [],
   "execution_count": null
  },
  {
   "metadata": {},
   "cell_type": "code",
   "source": [
    "for name, dock_widget in viewer.window._dock_widgets.items():\n",
    "                if 'micromanager' in name.lower():\n",
    "                    widget = dock_widget.widget()\n",
    "                    print(widget.__dict__.items())\n",
    "\n",
    "                    widget_dict = widget.__dict__\n",
    "\n",
    "                    # Replace MMC in the widget\n",
    "                    for attr in ['_mmc', 'mmc', '_core', 'core']:\n",
    "                        if hasattr(widget, attr):\n",
    "                            setattr(widget, attr, unicore)\n",
    "                            print(f\"Replaced {attr} in {name} with UniMMCore\")\n",
    "\n",
    "                    # restart?\n",
    "                    #if hasattr(widget, '_is_initialized'):\n",
    "                    #    setattr(widget, '_is_initialized', True)\n",
    "                    #    print(\"Set True initialized\")"
   ],
   "id": "c12e94811928144f",
   "outputs": [],
   "execution_count": null
  },
  {
   "metadata": {},
   "cell_type": "code",
   "source": "viewer.window.dock_widgets.keys()",
   "id": "b5299aa03b82d84a",
   "outputs": [],
   "execution_count": null
  },
  {
   "metadata": {},
   "cell_type": "code",
   "source": [
    "for name, dc_widget in viewer.window._dock_widgets.items():\n",
    "\n",
    "    if 'micromanager' in name.lower():\n",
    "        widget = dc_widget.widget()\n",
    "\n",
    "        # Replace MMC in the widget\n",
    "        for attr in ['_mmc', 'mmc', '_core', 'core']:\n",
    "            if hasattr(widget, attr):\n",
    "                setattr(widget, attr, unicore)\n",
    "                print(f\"Replaced {attr} in {name} with UniMMCore\")\n",
    "        widget.update()\n",
    "        updated_dict_widget = widget.__dict__\n",
    "\n",
    "viewer.window.remove_dock_widget(widget)\n",
    "viewer.window.add_dock_widget(widget)\n",
    "\n",
    "\n"
   ],
   "id": "8a768dd9944b3f20",
   "outputs": [],
   "execution_count": null
  },
  {
   "metadata": {},
   "cell_type": "code",
   "source": "updated_dict_widget.keys()",
   "id": "60514e68493cd600",
   "outputs": [],
   "execution_count": null
  },
  {
   "metadata": {},
   "cell_type": "code",
   "source": "unicore.initializeAllDevices()",
   "id": "ddd8dab026956e5e",
   "outputs": [],
   "execution_count": null
  },
  {
   "metadata": {},
   "cell_type": "code",
   "source": "widget.update()",
   "id": "405f49a5f395be1d",
   "outputs": [],
   "execution_count": null
  },
  {
   "metadata": {},
   "cell_type": "code",
   "source": "widget.repaint()",
   "id": "735da8a2b4c44dc2",
   "outputs": [],
   "execution_count": null
  },
  {
   "metadata": {},
   "cell_type": "code",
   "source": "viewer.window.remove_dock_widget(widget)",
   "id": "fae21a78c48533c8",
   "outputs": [],
   "execution_count": null
  },
  {
   "metadata": {},
   "cell_type": "code",
   "source": "viewer.window.add_dock_widget(widget)",
   "id": "65447f697688a0e1",
   "outputs": [],
   "execution_count": null
  },
  {
   "metadata": {},
   "cell_type": "code",
   "source": [
    "new_core = UniMMCore()\n",
    "#core = CMMCorePlus().instance()\n",
    "#core = unicore\n",
    "microscope_simulation = MicroscopeSim()\n",
    "\n",
    "#-----------------------------------------\n",
    "# unload all devices\n",
    "new_core.unloadAllDevices()\n",
    "#-----------------------------------------------------\n",
    "# load device\n",
    "new_core.loadPyDevice(\"Camera\", SimCameraDevice(core=new_core, microscope_sim=microscope_simulation))\n",
    "new_core.loadPyDevice(\"XYStage\", SimStageDevice(microscope_sim=microscope_simulation))\n",
    "new_core.loadPyDevice(\"LED\", SimStateDevice(label=\"LED\",state_dict={0:\"UV\", 1:\"BLUE\", 2:\"CYAN\", 3:\"GREEN\", 4:\"YELLOW\", 5:\"ORANGE\", 6:\"RED\"}, microscope_sim=microscope_simulation))\n",
    "new_core.loadPyDevice(\"Filter Wheel\", SimStateDevice(label=\"Filter Wheel\",state_dict={0:\"Electra1(402/454)\", 1:\"SCFP2(434/474)\", 2:\"TagGFP2(483/506)\", 3:\"obeYFP(514/528)\", 5:\"mRFP1-Q667(549/570)\", 6:\"mScarlet3(569/582)\", 7:\"miRFP670(642/670)\"}, microscope_sim=microscope_simulation))\n",
    "new_core.loadPyDevice(\"Shutter\", SimShutterDevice())\n",
    "#------------------------------------\n",
    "# initialize device\n",
    "new_core.initializeDevice(\"Camera\")\n",
    "new_core.initializeDevice(\"XYStage\")\n",
    "new_core.initializeDevice(\"Filter Wheel\")\n",
    "new_core.initializeDevice(\"LED\")\n",
    "new_core.initializeDevice(\"Shutter\")\n",
    "\n",
    "#---------------------------\n",
    "# Set initial value of some device\n",
    "new_core.setCameraDevice(\"Camera\")\n",
    "new_core.setXYStageDevice(\"XYStage\")\n",
    "new_core.setShutterDevice(\"Shutter\")\n",
    "new_viewer = napari.Viewer()\n",
    "\n",
    "#core.loadSystemConfiguration(fileName=\"./virtual_microscope.cfg\")\n",
    "#viewer.window.add_dock_widget(widget=MyMicromanagerToolbar(viewer=viewer, core=core))\n",
    "#viewer.window.add_dock_widget(widget=MyIllumination(mmcore=core))\n",
    "#new_viewer.window.add_plugin_dock_widget(plugin_name='napari-micromanager')\n",
    "#viewer.window.add_dock_widget(widget=MyMicromanagerToolbar(viewer=viewer, core=core))\n",
    "#viewer.window.add_dock_widget(widget=StageWidget(device=\"XYStage\", mmcore=core), name=\"Stage\")\n",
    "#viewer.window.add_dock_widget(widget=MicroManagerToolbar(viewer), name=\"MicroManagerToolbar\")\n",
    "#viewer.window.add_dock_widget(widget=IlluminationWidget(mmcore=core), name=\"Illumination\")\n",
    "#viewer.window.add_dock_widget(widget=Illumination(core=core))\n",
    "#viewer.window.add_dock_widget(widget=SimPropertyWidges(core=core))\n",
    "#viewer.window.add_dock_widget(widget=SimPropertyWidget(device_label=\"Filter Wheel\", prop_name=\"State\", mmcore=core))\n",
    "#viewer.window.add_dock_widget(widget=SimPropertyWidget(device_label=\"Filter Wheel\", prop_name=\"Label\", mmcore=core))\n",
    "\n",
    "napari.run()"
   ],
   "id": "f0496dab4ae3e704",
   "outputs": [],
   "execution_count": null
  },
  {
   "metadata": {},
   "cell_type": "code",
   "source": "new_viewer.window.add_plugin_dock_widget(plugin_name='napari-micromanager')",
   "id": "e65f912e853c0952",
   "outputs": [],
   "execution_count": null
  },
  {
   "metadata": {},
   "cell_type": "code",
   "source": "new_viewer.window._restart()",
   "id": "4ec16e309f6d06c7",
   "outputs": [],
   "execution_count": null
  },
  {
   "metadata": {},
   "cell_type": "code",
   "source": [
    "for name, dock_widget in new_viewer.window._dock_widgets.items():\n",
    "                if 'micromanager' in name.lower():\n",
    "                    widget = dock_widget.widget()\n",
    "                    print(widget.__dict__.items())\n",
    "\n",
    "                    widget_dict_new = widget.__dict__"
   ],
   "id": "4c21e5399533333c",
   "outputs": [],
   "execution_count": null
  },
  {
   "metadata": {},
   "cell_type": "code",
   "source": "widget_dict_new.keys()",
   "id": "46de12a11ca9c3c",
   "outputs": [],
   "execution_count": null
  },
  {
   "metadata": {},
   "cell_type": "code",
   "source": "widget_dict_new['_dock_widgets']",
   "id": "6c5a5311283542de",
   "outputs": [],
   "execution_count": null
  },
  {
   "metadata": {},
   "cell_type": "code",
   "source": "widget_dict['_dock_widgets']",
   "id": "c33e4c9ef6e44d34",
   "outputs": [],
   "execution_count": null
  },
  {
   "metadata": {},
   "cell_type": "code",
   "source": "",
   "id": "9819bc9c66ce658f",
   "outputs": [],
   "execution_count": null
  },
  {
   "metadata": {},
   "cell_type": "code",
   "source": [
    "from pymmcore_plus import CMMCorePlus\n",
    "\n",
    "mmc = CMMCorePlus.instance()"
   ],
   "id": "ac96fdd83a07ac34",
   "outputs": [],
   "execution_count": null
  },
  {
   "metadata": {},
   "cell_type": "code",
   "source": "",
   "id": "9087bfad6bf3f60c",
   "outputs": [],
   "execution_count": null
  },
  {
   "metadata": {},
   "cell_type": "code",
   "source": "mmc.describe()",
   "id": "2380614138ada71d",
   "outputs": [],
   "execution_count": null
  },
  {
   "metadata": {},
   "cell_type": "code",
   "source": "mmc.getDeviceType('Camera')",
   "id": "f7a6a19a01cb47e3",
   "outputs": [],
   "execution_count": null
  },
  {
   "metadata": {},
   "cell_type": "code",
   "source": "mmc.getDeviceType(\"Camera\")",
   "id": "dbecccd8c55c87d0",
   "outputs": [],
   "execution_count": null
  },
  {
   "metadata": {},
   "cell_type": "code",
   "source": "mmc.getDeviceSchema(\"Camera\")",
   "id": "60974f6795d3aab1",
   "outputs": [],
   "execution_count": null
  },
  {
   "metadata": {},
   "cell_type": "code",
   "source": [
    "tmp_list=[(x, mmc.getDeviceSchema(x)) for x in mmc.getLoadedDevices()]\n",
    "\n",
    "all_properties = dict(tmp_list)\n",
    "\n",
    "print(all_properties)"
   ],
   "id": "8a2c3f180715d7db",
   "outputs": [],
   "execution_count": null
  },
  {
   "metadata": {},
   "cell_type": "code",
   "source": "import os",
   "id": "8d186582a4cb8ff9",
   "outputs": [],
   "execution_count": null
  },
  {
   "metadata": {},
   "cell_type": "code",
   "source": "",
   "id": "f7bf874c3ee93964",
   "outputs": [],
   "execution_count": null
  },
  {
   "metadata": {},
   "cell_type": "code",
   "source": "mmc.getAvailableConfigGroups()",
   "id": "f0176ed9b314de34",
   "outputs": [],
   "execution_count": null
  },
  {
   "metadata": {},
   "cell_type": "code",
   "source": "all_properties",
   "id": "c5a380406f2189a7",
   "outputs": [],
   "execution_count": null
  },
  {
   "metadata": {},
   "cell_type": "code",
   "source": "mmc.getSystemState().dict()",
   "id": "706d42c38258f5fa",
   "outputs": [],
   "execution_count": null
  },
  {
   "metadata": {},
   "cell_type": "code",
   "source": "mmc.getDeviceAdapterNames()",
   "id": "38a6dc8f22937325",
   "outputs": [],
   "execution_count": null
  },
  {
   "metadata": {},
   "cell_type": "code",
   "source": "mmc.saveSystemConfiguration(\"test.cfg\")",
   "id": "93285675087ea4c4",
   "outputs": [],
   "execution_count": null
  },
  {
   "metadata": {},
   "cell_type": "code",
   "source": "mmc.saveSystemState(\"system.mm\")",
   "id": "da84199bc1904fab",
   "outputs": [],
   "execution_count": null
  },
  {
   "metadata": {},
   "cell_type": "code",
   "source": "core.getStateLabel(\"Filter Wheel\")",
   "id": "b3c1b599be638842",
   "outputs": [],
   "execution_count": null
  },
  {
   "metadata": {},
   "cell_type": "code",
   "source": "stage = core.getXYStageDevice()",
   "id": "2edc24291f88bf27",
   "outputs": [],
   "execution_count": null
  },
  {
   "metadata": {},
   "cell_type": "code",
   "source": "core.getXYPosition()",
   "id": "ebf7f48524295499",
   "outputs": [],
   "execution_count": null
  },
  {
   "metadata": {},
   "cell_type": "code",
   "source": "core.getX",
   "id": "f7b1d9bec59b58e3",
   "outputs": [],
   "execution_count": null
  },
  {
   "metadata": {},
   "cell_type": "code",
   "source": [
    "from pymmcore_state_device_sim import SimStateDevice\n",
    "\n",
    "dev = SimStateDevice({0: \"RED\", 1: \"GREEN\", 2: \"BLUE\"})\n",
    "print(\"Initial state:\", dev.get_state(), \"label:\", dev._get_current_label())\n",
    "\n",
    "# Simulate UI changing the label\n",
    "dev.set_property_value(\"Label\", \"GREEN\")\n",
    "print(\"After label change:\", dev.get_state(), \"label:\", dev._get_current_label())\n",
    "\n",
    "# Simulate UI changing the state\n",
    "dev.set_property_value(\"State\", 2)\n",
    "print(\"After state change:\", dev.get_state(), \"label:\", dev._get_current_label())\n"
   ],
   "id": "e93f53f10e1062f1",
   "outputs": [],
   "execution_count": null
  },
  {
   "metadata": {},
   "cell_type": "code",
   "source": [
    "core.getStateLabel(\"Filter Wheel\")\n",
    "#core.getStateLabel(\"LED\")"
   ],
   "id": "51edda18d4a8c6f8",
   "outputs": [],
   "execution_count": null
  },
  {
   "metadata": {},
   "cell_type": "code",
   "source": "core.getState(\"Filter Wheel\")",
   "id": "a18147011e506310",
   "outputs": [],
   "execution_count": null
  },
  {
   "metadata": {},
   "cell_type": "code",
   "source": "core.setState(\"Filter Wheel\", 9)",
   "id": "283c224394679d36",
   "outputs": [],
   "execution_count": null
  },
  {
   "metadata": {},
   "cell_type": "code",
   "source": "core.getNumberOfStates(\"Filter Wheel\")",
   "id": "4e5135763edc2d6f",
   "outputs": [],
   "execution_count": null
  },
  {
   "metadata": {},
   "cell_type": "code",
   "source": "core.getStateLabels(\"Filter Wheel\")",
   "id": "5c5cba1abe543d77",
   "outputs": [],
   "execution_count": null
  },
  {
   "metadata": {},
   "cell_type": "code",
   "source": "core.setState(\"Filter Wheel\", 2)",
   "id": "50818a0ab225dd02",
   "outputs": [],
   "execution_count": null
  },
  {
   "metadata": {},
   "cell_type": "code",
   "source": "core.getState(\"Filter Wheel\")",
   "id": "331974801e2222e0",
   "outputs": [],
   "execution_count": null
  },
  {
   "metadata": {},
   "cell_type": "code",
   "source": "core.setStateLabel(\"Filter Wheel\", \"FARRED\")",
   "id": "65ef7a9771ee9459",
   "outputs": [],
   "execution_count": null
  },
  {
   "metadata": {},
   "cell_type": "code",
   "source": "core.getStateLabel(\"Filter Wheel\")",
   "id": "b85e76b61b57f1f1",
   "outputs": [],
   "execution_count": null
  },
  {
   "metadata": {},
   "cell_type": "code",
   "source": "core.setState(\"Filter Wheel\", 6)",
   "id": "593f9094d838700e",
   "outputs": [],
   "execution_count": null
  },
  {
   "metadata": {},
   "cell_type": "code",
   "source": "core.getLoadedDevices()",
   "id": "51c637bb03a27762",
   "outputs": [],
   "execution_count": null
  },
  {
   "metadata": {},
   "cell_type": "code",
   "source": [
    "print(core.getLoadedDevices())\n",
    "print(core.getDevicePropertyNames(\"Camera\"))\n",
    "for prop in core.getDevicePropertyNames(\"Camera\"):\n",
    "    print(prop, core.getPropertyType(\"Camera\", prop))"
   ],
   "id": "59b48bfe43460fc1",
   "outputs": [],
   "execution_count": null
  },
  {
   "metadata": {},
   "cell_type": "code",
   "source": [
    "import napari\n",
    "#from pymmcore_widgets.device_properties import PropertiesWidget\n",
    "from pymmcore_plus.experimental.unicore import UniMMCore\n",
    "\n",
    "core = UniMMCore()\n",
    "core.loadPyDevice(\"Camera\", SimCameraDevice(core=core))\n",
    "core.initializeDevice(\"Camera\")\n",
    "\n",
    "# Check properties\n",
    "print(core.getDevicePropertyNames(\"Camera\"))\n",
    "# Should include 'my_custom_property'\n",
    "\n",
    "viewer = napari.Viewer()\n",
    "widget = PropertiesWidget(\n",
    "    mmcore=core,\n",
    "    property_name_pattern=\"brightness\",\n",
    "    device_label=\"Camera\"\n",
    ")\n",
    "viewer.window.add_dock_widget(widget, name=\"Camera Properties\")\n",
    "napari.run()"
   ],
   "id": "e84462c43e01d559",
   "outputs": [],
   "execution_count": null
  },
  {
   "metadata": {},
   "cell_type": "markdown",
   "source": [
    "red -> all cell\n",
    "fared -> nucleus\n",
    "\n",
    "others -> noise\n",
    "\n",
    "exposure time -> everything will be multiplied (cutoff min and max) with longer exposure\n",
    "expoasure time -> no light (black image) shorter exposure time\n",
    "\n"
   ],
   "id": "3f6054d7da65fb53"
  },
  {
   "metadata": {},
   "cell_type": "code",
   "source": "core.getLoadedDevices()",
   "id": "25ef7b1af97c094d",
   "outputs": [],
   "execution_count": null
  },
  {
   "metadata": {},
   "cell_type": "code",
   "source": [
    "from pymmcore_plus import PropertyType\n",
    "\n",
    "\n",
    "print(PropertyType.Float)"
   ],
   "id": "2464f433262d0c29",
   "outputs": [],
   "execution_count": null
  },
  {
   "metadata": {},
   "cell_type": "code",
   "source": [
    "for x in core.iterDevices(as_object=False):\n",
    "    print(x)"
   ],
   "id": "bae962ade3804997",
   "outputs": [],
   "execution_count": null
  },
  {
   "metadata": {},
   "cell_type": "code",
   "source": "core.getDevicePropertyNames(\"Camera\")",
   "id": "b6d57538bd35997e",
   "outputs": [],
   "execution_count": null
  },
  {
   "metadata": {},
   "cell_type": "code",
   "source": "core.getPropertyType(\"Camera\", \"test_brightness\")",
   "id": "74b8097b3d469a3",
   "outputs": [],
   "execution_count": null
  },
  {
   "metadata": {},
   "cell_type": "code",
   "source": [
    "for x in core.iterProperties(property_name_pattern=\"(Intensity|Power|Level|test)s?\"):\n",
    "    print(x)"
   ],
   "id": "6db3f394db6310aa",
   "outputs": [],
   "execution_count": null
  },
  {
   "metadata": {},
   "cell_type": "code",
   "source": [
    "for i, (dev, prop) in enumerate(core.iterProperties(property_name_pattern=\"(Intensity|Power|Level|Brightness|test)s?\", as_object=False)):\n",
    "    print((i, dev, prop))"
   ],
   "id": "2d65beef35cac5bd",
   "outputs": [],
   "execution_count": null
  },
  {
   "metadata": {},
   "cell_type": "code",
   "source": [
    "from pymmcore_plus import PropertyType\n",
    "\n",
    "print(PropertyType.Float)"
   ],
   "id": "ebab31189af065bd",
   "outputs": [],
   "execution_count": null
  },
  {
   "metadata": {},
   "cell_type": "code",
   "source": [
    "from pymmcore_plus import CMMCorePlus\n",
    "import napari\n",
    "\n",
    "\n",
    "viewer = napari.Viewer()\n",
    "\n",
    "mmc = CMMCorePlus.instance()\n",
    "#mmc.loadSystemConfiguration()\n",
    "\n",
    "viewer.window.add_plugin_dock_widget(plugin_name='napari-micromanager')\n",
    "\n",
    "napari.run()"
   ],
   "id": "f85b7aaa6327ed06",
   "outputs": [],
   "execution_count": null
  },
  {
   "metadata": {},
   "cell_type": "code",
   "source": "from pymmcore_plus import DeviceType\n",
   "id": "67ade2fbf5749b45",
   "outputs": [],
   "execution_count": null
  },
  {
   "metadata": {},
   "cell_type": "code",
   "source": "core.getShutterOpen(shutterLabel='Shutter')",
   "id": "eac79c278a6e1a6d",
   "outputs": [],
   "execution_count": null
  },
  {
   "metadata": {},
   "cell_type": "code",
   "source": "core.setShutterOpen(True)",
   "id": "bd6680eb2b55024e",
   "outputs": [],
   "execution_count": null
  },
  {
   "metadata": {},
   "cell_type": "code",
   "source": "core.getShutterOpen(shutterLabel='Shutter')",
   "id": "d4ba58d312486890",
   "outputs": [],
   "execution_count": null
  },
  {
   "metadata": {},
   "cell_type": "code",
   "source": "core",
   "id": "cfd017a079ef951b",
   "outputs": [],
   "execution_count": null
  },
  {
   "metadata": {},
   "cell_type": "code",
   "source": "from pymmcore_plus.experimental.unicore.devices._state import StateDevice",
   "id": "c7e38f7a7f51a585",
   "outputs": [],
   "execution_count": null
  },
  {
   "metadata": {},
   "cell_type": "code",
   "source": "from pymmcore_plus.experimental.unicore.core._unicore import UniMMCore",
   "id": "c258a37c88c91910",
   "outputs": [],
   "execution_count": null
  },
  {
   "metadata": {},
   "cell_type": "code",
   "source": "core = UniMMCore()",
   "id": "9e8ed96a44655f27",
   "outputs": [],
   "execution_count": null
  },
  {
   "metadata": {},
   "cell_type": "code",
   "source": "",
   "id": "80b72739f8294db",
   "outputs": [],
   "execution_count": null
  }
 ],
 "metadata": {
  "kernelspec": {
   "display_name": "Python 3",
   "language": "python",
   "name": "python3"
  },
  "language_info": {
   "codemirror_mode": {
    "name": "ipython",
    "version": 2
   },
   "file_extension": ".py",
   "mimetype": "text/x-python",
   "name": "python",
   "nbconvert_exporter": "python",
   "pygments_lexer": "ipython2",
   "version": "2.7.6"
  }
 },
 "nbformat": 4,
 "nbformat_minor": 5
}
