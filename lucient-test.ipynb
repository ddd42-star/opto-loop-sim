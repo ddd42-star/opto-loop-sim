{
 "cells": [
  {
   "cell_type": "code",
   "id": "initial_id",
   "metadata": {
    "collapsed": true,
    "ExecuteTime": {
     "end_time": "2025-09-25T23:19:01.530373Z",
     "start_time": "2025-09-25T23:19:00.638506Z"
    }
   },
   "source": [
    "from PyQt6.QtCore import Qt\n",
    "\n",
    "from pymmcore_camera_sim import SimCameraDevice\n",
    "from pymmcore_slm_sim import SimSLMDevice\n",
    "from pymmcore_stage_sim import SimStageDevice\n",
    "from pymmcore_state_device_sim import SimStateDevice\n",
    "from pymmcore_shutter_sim import SimShutterDevice\n",
    "from pymmcore_z_stage_sim import SimZStageDevice\n",
    "from pymmcore_plus.experimental.unicore import UniMMCore\n",
    "from microscope_sim import MicroscopeSim\n",
    "from pymmcore_plus import CMMCorePlus, Keyword\n",
    "from pathlib import Path"
   ],
   "outputs": [
    {
     "name": "stdout",
     "output_type": "stream",
     "text": [
      "pygame 2.6.1 (SDL 2.28.4, Python 3.12.11)\n",
      "Hello from the pygame community. https://www.pygame.org/contribute.html\n"
     ]
    }
   ],
   "execution_count": 1
  },
  {
   "metadata": {
    "ExecuteTime": {
     "end_time": "2025-09-25T23:19:02.922591Z",
     "start_time": "2025-09-25T23:19:02.830199Z"
    }
   },
   "cell_type": "code",
   "source": [
    "core = UniMMCore()\n",
    "\n",
    "microscope_simulation = MicroscopeSim()\n",
    "print(core.getLoadedDevices())\n",
    "#-----------------------------------------\n",
    "# unload all devices\n",
    "core.unloadAllDevices()\n",
    "\n",
    "print(core.getLoadedDevices())\n",
    "#-----------------------------------------------------\n",
    "# load device\n",
    "core.loadPyDevice(\"Camera\", SimCameraDevice(core=core, microscope_sim=microscope_simulation))\n",
    "core.loadPyDevice(\"XYStage\", SimStageDevice(microscope_sim=microscope_simulation))\n",
    "core.loadPyDevice(\"ZStage\", SimZStageDevice(microscope_sim=microscope_simulation))\n",
    "core.loadPyDevice(\"LED\", SimStateDevice(label=\"LED\",state_dict={0:\"UV\", 1:\"BLUE\", 2:\"CYAN\", 3:\"GREEN\", 4:\"YELLOW\", 5:\"ORANGE\", 6:\"RED\"}, microscope_sim=microscope_simulation))\n",
    "core.loadPyDevice(\"Filter Wheel\", SimStateDevice(label=\"Filter Wheel\",state_dict={0:\"Electra1(402/454)\", 1:\"SCFP2(434/474)\", 2:\"TagGFP2(483/506)\", 3:\"obeYFP(514/528)\", 5:\"mRFP1-Q667(549/570)\", 6:\"mScarlet3(569/582)\", 7:\"miRFP670(642/670)\"}, microscope_sim=microscope_simulation))\n",
    "core.loadPyDevice(\"Shutter\", SimShutterDevice())\n",
    "#------------------------------------\n",
    "print(core.getLoadedDevices())\n",
    "# initialize device\n",
    "core.initializeDevice(\"Camera\")\n",
    "core.initializeDevice(\"XYStage\")\n",
    "core.initializeDevice(\"Filter Wheel\")\n",
    "core.initializeDevice(\"LED\")\n",
    "core.initializeDevice(\"Shutter\")\n",
    "core.initializeDevice(\"ZStage\")\n",
    "\n",
    "#core.initializeAllDevices()\n",
    "\n",
    "print(core.getLoadedDevices())\n",
    "\n",
    "print(core.getDeviceInitializationState(\"LED\"))\n",
    "\n",
    "#---------------------------\n",
    "# Set initial value of some device\n",
    "core.setCameraDevice(\"Camera\")\n",
    "core.setXYStageDevice(\"XYStage\")\n",
    "core.setFocusDevice(\"ZStage\")\n",
    "core.setShutterDevice(\"Shutter\")\n",
    "core.setState(\"LED\", 0)\n",
    "core.setState(\"Filter Wheel\", 0)\n",
    "\n",
    "core.defineConfigGroup(\"Fake\")\n",
    "core.defineConfigGroup(\"Real\")\n",
    "core.defineConfig(\"Fake\", \"nucleus-channel\", \"LED\", \"Label\", \"ORANGE\")\n",
    "core.defineConfig(\"Fake\", \"nucleus-channel\", \"Filter Wheel\", \"Label\", \"mScarlet3(569/582)\")\n",
    "core.defineConfig(\"Real\", \"membrane-channel\", \"LED\", \"Label\", \"RED\")\n",
    "core.defineConfig(\"Real\", \"membrane-channel\", \"Filter Wheel\", \"Label\", \"miRFP670(642/670)\")\n",
    "\n",
    "#core.setConfig(\"Fake\", \"nucleus-channel\")\n",
    "\n",
    "#print(core.getDeviceInitializationState(\"LED\").__dict__)\n",
    "#viewer = napari.Viewer()\n",
    "\n",
    "#viewer.window.add_plugin_dock_widget(plugin_name='napari-micromanager')\n",
    "\n",
    "#napari.run()"
   ],
   "id": "6da81a99afee236",
   "outputs": [
    {
     "name": "stdout",
     "output_type": "stream",
     "text": [
      "('Core',)\n",
      "('Core',)\n",
      "('Camera', 'XYStage', 'ZStage', 'LED', 'Filter Wheel', 'Shutter', 'Core')\n",
      "('Camera', 'XYStage', 'ZStage', 'LED', 'Filter Wheel', 'Shutter', 'Core')\n",
      "1\n"
     ]
    }
   ],
   "execution_count": 2
  },
  {
   "metadata": {
    "ExecuteTime": {
     "end_time": "2025-09-25T23:19:11.045408Z",
     "start_time": "2025-09-25T23:19:04.753761Z"
    }
   },
   "cell_type": "code",
   "source": [
    "import napari\n",
    "\n",
    "viewer = napari.Viewer()\n",
    "\n",
    "viewer.window.add_plugin_dock_widget(plugin_name='napari-micromanager')\n",
    "\n",
    "napari.run()"
   ],
   "id": "ef27428746f308c8",
   "outputs": [
    {
     "name": "stderr",
     "output_type": "stream",
     "text": [
      "C:\\Users\\dario\\anaconda3\\envs\\opto-loop\\Lib\\site-packages\\requests\\__init__.py:86: RequestsDependencyWarning: Unable to find acceptable character detection dependency (chardet or charset_normalizer).\n",
      "  warnings.warn(\n",
      "C:\\Users\\dario\\anaconda3\\envs\\opto-loop\\Lib\\site-packages\\napari_micromanager\\main_window.py:51: FutureWarning: The `_dock_widgets` property is private and should not be used in any plugin code. Please use the `dock_widgets` property instead.\n",
      "  if \"MinMax\" not in getattr(self.viewer.window, \"_dock_widgets\", []):\n"
     ]
    }
   ],
   "execution_count": 3
  },
  {
   "metadata": {},
   "cell_type": "code",
   "source": "core.getDeviceSchema(\"Camera\")",
   "id": "dddb23fcf7f4d6da",
   "outputs": [],
   "execution_count": null
  },
  {
   "metadata": {},
   "cell_type": "code",
   "source": [
    "from pymmcore_plus import FocusDirection\n",
    "\n",
    "FocusDirection.FocusDirectionTowardSample.value"
   ],
   "id": "7e9bc19da2f76fcb",
   "outputs": [],
   "execution_count": null
  },
  {
   "metadata": {},
   "cell_type": "code",
   "source": "core.getZPosition()",
   "id": "ee4a920b7699bd6c",
   "outputs": [],
   "execution_count": null
  },
  {
   "metadata": {},
   "cell_type": "code",
   "source": "FocusDirection.FocusDirectionAwayFromSample.value",
   "id": "931107f103b6c2d",
   "outputs": [],
   "execution_count": null
  },
  {
   "metadata": {},
   "cell_type": "code",
   "source": "FocusDirection",
   "id": "c1490a9329b142bf",
   "outputs": [],
   "execution_count": null
  },
  {
   "metadata": {},
   "cell_type": "code",
   "source": "from useq import MDAEvent",
   "id": "9554f5f888d45691",
   "outputs": [],
   "execution_count": null
  },
  {
   "metadata": {},
   "cell_type": "code",
   "source": [
    "event = MDAEvent(\n",
    "    channel={\"config\":\"Fake\", \"group\":\"nucleus-channel\"},\n",
    "    exposure=1.0,\n",
    "    z_pos=0.00\n",
    ")"
   ],
   "id": "5a87e107049e966d",
   "outputs": [],
   "execution_count": null
  },
  {
   "metadata": {},
   "cell_type": "code",
   "source": "core.mda.run(event)",
   "id": "81ba211ce70e8584",
   "outputs": [],
   "execution_count": null
  },
  {
   "metadata": {},
   "cell_type": "code",
   "source": "core.getParentLabel(\"Camera\")",
   "id": "147df57199f9001b",
   "outputs": [],
   "execution_count": null
  },
  {
   "metadata": {},
   "cell_type": "code",
   "source": "core.setFocusDirection(\"ZStage\", 0)",
   "id": "a7982da7ce358f87",
   "outputs": [],
   "execution_count": null
  },
  {
   "metadata": {},
   "cell_type": "code",
   "source": "core.getFocusDirection(\"ZStage\")",
   "id": "7f9ea6fe3ffc3eba",
   "outputs": [],
   "execution_count": null
  },
  {
   "metadata": {},
   "cell_type": "code",
   "source": [
    "import napari\n",
    "\n",
    "viewer = napari.Viewer()\n",
    "\n",
    "viewer.window.add_plugin_dock_widget(plugin_name='napari-micromanager')\n",
    "\n",
    "napari.run()"
   ],
   "id": "c97d899b0fb8098a",
   "outputs": [],
   "execution_count": null
  },
  {
   "metadata": {},
   "cell_type": "code",
   "source": "",
   "id": "417233ec8e1511a5",
   "outputs": [],
   "execution_count": null
  },
  {
   "metadata": {},
   "cell_type": "markdown",
   "source": "## Simplified",
   "id": "eaa272ea9f0e1ddd"
  },
  {
   "metadata": {},
   "cell_type": "code",
   "source": "core.getPropertyType(\"Camera\", \"brightness\")",
   "id": "1aafeaf58c809ca2",
   "outputs": [],
   "execution_count": null
  },
  {
   "metadata": {},
   "cell_type": "code",
   "source": [
    "core.reset()\n",
    "core = UniMMCore()# restaret the kernel so the singleton reset or just use core.reset()\n",
    "microscope_simulation = MicroscopeSim()\n",
    "\n",
    "# load device python\n",
    "core.loadPyDevice(\"Camera\", SimCameraDevice(core=core, microscope_sim=microscope_simulation))\n",
    "core.loadPyDevice(\"XYStage\", SimStageDevice(microscope_sim=microscope_simulation))\n",
    "core.initializeAllDevices()\n",
    "\n",
    "# initialize device\n",
    "core.setCameraDevice(\"Camera\")\n",
    "core.setXYStageDevice(\"XYStage\")\n",
    "\n",
    "# configure new group\n",
    "core.defineConfigGroup(\"test\")\n",
    "# define new configuration\n",
    "core.defineConfig(\"test\",\"state-0\",\"Camera\",\"brightness\",25.0)\n",
    "core.defineConfig(\"test\",\"state-0\",\"Camera\",Keyword.Exposure,2.0)\n",
    "\n",
    "core.setConfig(\"test\", \"state-0\")"
   ],
   "id": "cb993d5d149dfd9a",
   "outputs": [],
   "execution_count": null
  },
  {
   "metadata": {},
   "cell_type": "markdown",
   "source": "### Try to override UniMMCore class",
   "id": "2c5005ef513c2f3e"
  },
  {
   "metadata": {},
   "cell_type": "code",
   "source": [
    "from registry import DEVICE_REGISTRY\n",
    "from pathlib import Path\n",
    "from pymmcore_plus.experimental.unicore import UniMMCore\n",
    "from microscope_sim import MicroscopeSim\n",
    "from pymmcore_plus import CMMCorePlus, Keyword\n",
    "import devices\n",
    "from pymmcore_plus.core import Keyword as KW\n",
    "from typing import Any\n",
    "import threading\n",
    "from collections import defaultdict\n",
    "from pymmcore_camera_sim import SimCameraDevice\n",
    "from pymmcore_slm_sim import SimSLMDevice\n",
    "from pymmcore_stage_sim import SimStageDevice\n",
    "from pymmcore_state_device_sim import SimStateDevice\n",
    "from pymmcore_shutter_sim import SimShutterDevice\n",
    "\n",
    "\n",
    "class MyUniMMCore(UniMMCore): # create subclass for the my current example, later if it does work add to the implementation\n",
    "\n",
    "    def __init__(self, microscope_sim: MicroscopeSim | None = None):\n",
    "        self.microscope_sim = microscope_sim or MicroscopeSim()\n",
    "        # Python-side config-group storage for UniMMCore devices\n",
    "        # Structure: { group: { config: [(device, property, value_str), ...] } }\n",
    "        self._py_config_store: dict[str, dict[str, list[tuple[str, str, str]]]] = {}\n",
    "        self._py_config_lock = threading.Lock()\n",
    "        super().__init__()\n",
    "    # def getConfigState(\n",
    "    #     self, group: str, config: str, *, native: bool = False\n",
    "    # ):\n",
    "    #     print(self.getAvailableConfigGroups())\n",
    "    #     print(self.getAvailableConfigs(group))\n",
    "    #     if group in self.getAvailableConfigGroups() and config in self.getAvailableConfigs(group):\n",
    "    #         return self.getConfigData(group, config,native=native)\n",
    "    #     else:\n",
    "    #         return ()\n",
    "\n",
    "    def loadSystemConfiguration(\n",
    "        self, fileName: str | Path = \"test_config.cfg\"\n",
    "    ) -> None:\n",
    "        # COPY FROM PYMMCORE-PLUS for the moment\n",
    "        fpath = Path(fileName).expanduser()\n",
    "        if not fpath.exists() and not fpath.is_absolute() and self._mm_path:\n",
    "            fpath = Path(self._mm_path) / fileName\n",
    "        if not fpath.exists():\n",
    "            raise FileNotFoundError(f\"Path does not exist: {fpath}\")\n",
    "        self._last_sys_config = str(fpath.resolve())\n",
    "        # open file and read lines\n",
    "        with open(self._last_sys_config, \"r\") as config_file:\n",
    "            list_of_lines = config_file.readlines() # read lines and saved in a list\n",
    "        config_file.close() # close the file\n",
    "\n",
    "        for line in list_of_lines: # iterate over the list of lines\n",
    "            print(line)\n",
    "            # Get through the list\n",
    "            if line.startswith(\"#\"):\n",
    "                continue\n",
    "            elif line.startswith(\"Device\"):\n",
    "                # load the device in the system if not present\n",
    "                # Device,Name of the device, Python device or C++, device label\n",
    "                _, device_label,module_name,device_name = line.strip().split(',')\n",
    "                try:\n",
    "                    if device_label in self.getDeviceAdapterNames():\n",
    "                        self.loadDevice(device_label,module_name, device_name)\n",
    "                    elif device_name in DEVICE_REGISTRY.keys(): # checks if always works with python\n",
    "                        fact = DEVICE_REGISTRY[device_name]\n",
    "                        # Try to find better implementation\n",
    "                        if device_label == \"Camera\":\n",
    "                            pydev = fact(self, self.microscope_sim)\n",
    "                        elif device_label == \"XYStage\":\n",
    "                            pydev = fact(self.microscope_sim)\n",
    "                        elif device_label == \"Shutter\":\n",
    "                            pydev = fact()\n",
    "                        elif device_label == \"LED\":\n",
    "                            pydev = fact(device_label,{0:\"\"},self.microscope_sim)\n",
    "                            #{0:\"UV\", 1:\"BLUE\", 2:\"CYAN\", 3:\"GREEN\", 4:\"YELLOW\", 5:\"ORANGE\", 6:\"RED\"}\n",
    "                        else:\n",
    "                            pydev = fact(device_label,{0:\"\"},self.microscope_sim)\n",
    "                            #{0:\"Electra1(402/454)\", 1:\"SCFP2(434/474)\", 2:\"TagGFP2(483/506)\", 3:\"obeYFP(514/528)\", 4:\"mRFP1-Q667(549/570)\", 5:\"mScarlet3(569/582)\", 6:\"miRFP670(642/670)\"}\n",
    "                        self.loadPyDevice(device_label, pydev)\n",
    "                    else:\n",
    "                        raise RuntimeError(f\"Unknown device or adapter for {module_name}\")\n",
    "                except Exception as e:\n",
    "                    # if module_name not in self.getDeviceAdapterNames():\n",
    "                    #     # is a python device\n",
    "                    #     pydev = self._get_py_device_instance(module_name, device_name)\n",
    "                    #     self.loadPyDevice(device_label, pydev)\n",
    "                    raise RuntimeError(f\"Failed to load {device_label}: {e}\")\n",
    "                # initialize the device\n",
    "                self.initializeDevice(device_label)\n",
    "                print(self.getLoadedDevices())\n",
    "\n",
    "                # set initial value\n",
    "                if 'Camera' in device_name:\n",
    "                    self.setCameraDevice(device_label)\n",
    "                elif 'Stage' in device_name:\n",
    "                    self.setXYStageDevice(device_label)\n",
    "                elif 'Shutter' in device_name:\n",
    "                    self.setShutterDevice(device_label)\n",
    "                elif 'State' in device_name:\n",
    "                    self.setState(device_label,0) # by default always has default value of 0\n",
    "\n",
    "                # think if something is missing\n",
    "            elif line.startswith(\"Label\"):\n",
    "                # load the state device here\n",
    "                _, device_label,state_int, state_label = line.strip().split(',')\n",
    "                # check if device is already loaded\n",
    "                if device_label in self.getLoadedDevices(): # device is loaded\n",
    "                    self.defineStateLabel(device_label, int(state_int), state_label)\n",
    "                else: # device is not present. I assume in this case is a StateDevice, because it follows the mapping implementation\n",
    "                    continue # for the moment leave like this, don't know yet if its important this condition\n",
    "            elif line.startswith(\"ConfigGroup\"):\n",
    "                # load and sets differents configuration\n",
    "                _, configuration_group, configuration_presets, device_label, property_name, property_value = line.strip().split(',')\n",
    "\n",
    "                if not self.isGroupDefined(configuration_group): # check if the configuration group exists\n",
    "                    self.defineConfigGroup(configuration_group)\n",
    "                if device_label not in self.getLoadedDevices():\n",
    "                    raise RuntimeError(f\"Failed to load {device_label}: {device_label} is not a loaded device.\")\n",
    "                print(self.getDevicePropertyNames(device_label))\n",
    "                print(property_name)\n",
    "                if self.hasProperty(device_label, property_name):# the property is not present in the device settings\n",
    "                    if not self.isPropertyReadOnly(device_label, property_name): # property is not readonly\n",
    "                        if property_value in self.getAllowedPropertyValues(device_label, property_name):# checks if the value of the property is in the list of allowed value\n",
    "                            self.defineConfig(configuration_group, configuration_presets, device_label, property_name, property_value) # define new configuration/settings\n",
    "                        else:\n",
    "                            raise RuntimeError(f\"Failed to define new configuration: {property_value} is not a valid value for property {property_name}\")\n",
    "                    else:\n",
    "                        raise RuntimeError(f\"Failed to define new configuration: {property_value} is a ReadOnly property\")\n",
    "                else:\n",
    "                    raise RuntimeError(f\"Failed to define new configuration: {property_value} is not a property of the device {device_label}\")\n",
    "\n",
    "            # in the demo there is also the pixelsizeconfig. For the moment i dont add it, its not important for my example"
   ],
   "id": "cba9a91cec689306",
   "outputs": [],
   "execution_count": null
  },
  {
   "metadata": {},
   "cell_type": "code",
   "source": [
    "#core = MyUniMMCore()\n",
    "\n",
    "microscope_simulation = MicroscopeSim()\n",
    "print(core.getLoadedDevices())\n",
    "#-----------------------------------------\n",
    "# unload all devices\n",
    "core.unloadAllDevices()\n",
    "\n",
    "print(core.getLoadedDevices())\n",
    "#-----------------------------------------------------\n",
    "# load device\n",
    "core.loadPyDevice(\"Camera\", SimCameraDevice(core=core, microscope_sim=microscope_simulation))\n",
    "core.loadPyDevice(\"XYStage\", SimStageDevice(microscope_sim=microscope_simulation))\n",
    "core.loadPyDevice(\"LED\", SimStateDevice(label=\"LED\",state_dict={0:\"UV\", 1:\"BLUE\", 2:\"CYAN\", 3:\"GREEN\", 4:\"YELLOW\", 5:\"ORANGE\", 6:\"RED\"}, microscope_sim=microscope_simulation))\n",
    "core.loadPyDevice(\"Filter Wheel\", SimStateDevice(label=\"Filter Wheel\",state_dict={0:\"Electra1(402/454)\", 1:\"SCFP2(434/474)\", 2:\"TagGFP2(483/506)\", 3:\"obeYFP(514/528)\", 5:\"mRFP1-Q667(549/570)\", 6:\"mScarlet3(569/582)\", 7:\"miRFP670(642/670)\"}, microscope_sim=microscope_simulation))\n",
    "core.loadPyDevice(\"Shutter\", SimShutterDevice())\n",
    "#------------------------------------\n",
    "print(core.getLoadedDevices())\n",
    "# initialize device\n",
    "#core.initializeDevice(\"Camera\")\n",
    "#core.initializeDevice(\"XYStage\")\n",
    "#core.initializeDevice(\"Filter Wheel\")\n",
    "#core.initializeDevice(\"LED\")\n",
    "#core.initializeDevice(\"Shutter\")\n",
    "\n",
    "core.initializeAllDevices()\n",
    "\n",
    "print(core.getLoadedDevices())\n",
    "\n",
    "print(core.getDeviceInitializationState(\"LED\"))\n",
    "\n",
    "#---------------------------\n",
    "# Set initial value of some device\n",
    "core.setCameraDevice(\"Camera\")\n",
    "core.setXYStageDevice(\"XYStage\")\n",
    "core.setShutterDevice(\"Shutter\")\n",
    "core.setState(\"LED\", 0)\n",
    "core.setState(\"Filter Wheel\", 0)\n",
    "\n",
    "core.defineConfigGroup(\"Fake\")\n",
    "core.defineConfigGroup(\"Real\")\n",
    "core.defineConfig(\"Fake\", \"nucleus-channel\", \"LED\", \"Label\", \"ORANGE\")\n",
    "core.defineConfig(\"Fake\", \"nucleus-channel\", \"Filter Wheel\", \"Label\", \"mScarlet3(569/582)\")\n",
    "core.defineConfig(\"Real\", \"membrane-channel\", \"LED\", \"Label\", \"RED\")\n",
    "core.defineConfig(\"Real\", \"membrane-channel\", \"Filter Wheel\", \"Label\", \"miRFP670(642/670)\")\n",
    "\n",
    "core.setConfig(\"Fake\", \"nucleus-channel\")\n",
    "\n",
    "#print(core.getDeviceInitializationState(\"LED\").__dict__)\n",
    "#viewer = napari.Viewer()\n",
    "\n",
    "#viewer.window.add_plugin_dock_widget(plugin_name='napari-micromanager')\n",
    "\n",
    "#napari.run()"
   ],
   "id": "9c5ee3dcba9cdab4",
   "outputs": [],
   "execution_count": null
  },
  {
   "metadata": {},
   "cell_type": "code",
   "source": [
    "import napari\n",
    "viewer = napari.Viewer()\n",
    "\n",
    "viewer.window.add_plugin_dock_widget(plugin_name='napari-micromanager')\n",
    "\n",
    "napari.run()"
   ],
   "id": "42df50d99aab15bd",
   "outputs": [],
   "execution_count": null
  },
  {
   "metadata": {},
   "cell_type": "code",
   "source": "core._py_config_store.get(\"Fake\", {})",
   "id": "d63eeec7910a6422",
   "outputs": [],
   "execution_count": null
  },
  {
   "metadata": {},
   "cell_type": "code",
   "source": "core.getAvailableConfigs('Fake')",
   "id": "feae16b204807ae6",
   "outputs": [],
   "execution_count": null
  },
  {
   "metadata": {},
   "cell_type": "code",
   "source": "core.getConfigData(\"Fake\", \"nucleus-channel\").dict()",
   "id": "c3e1ce8ed54f54ae",
   "outputs": [],
   "execution_count": null
  },
  {
   "metadata": {},
   "cell_type": "code",
   "source": "my_dict = {'LED': {'Label': 'ORANGE'}, 'Filter Wheel': {'Label': 'mScarlet3(569/582)'}}",
   "id": "a2d4455d0040be67",
   "outputs": [],
   "execution_count": null
  },
  {
   "metadata": {},
   "cell_type": "code",
   "source": [
    "for label in my_dict.keys():\n",
    "    for propName in my_dict[label].keys():\n",
    "        print((label, propName, my_dict[label][propName]))"
   ],
   "id": "1637e157c6bd8fab",
   "outputs": [],
   "execution_count": null
  },
  {
   "metadata": {},
   "cell_type": "code",
   "source": "[(label,propname,my_dict[label][propname]) for propname in my_dict[label] for label in my_dict.keys()]",
   "id": "f2b338b6555618be",
   "outputs": [],
   "execution_count": null
  },
  {
   "metadata": {},
   "cell_type": "code",
   "source": [
    "for x in core.iterConfigGroups():\n",
    "    print(x)"
   ],
   "id": "d43722fff8fc961",
   "outputs": [],
   "execution_count": null
  },
  {
   "metadata": {},
   "cell_type": "code",
   "source": "core._py_config_store",
   "id": "fb26cfbbe814747c",
   "outputs": [],
   "execution_count": null
  },
  {
   "metadata": {},
   "cell_type": "code",
   "source": "core._pydevices._devices",
   "id": "6413a119afa73515",
   "outputs": [],
   "execution_count": null
  },
  {
   "metadata": {},
   "cell_type": "code",
   "source": "core.getConfigState(\"Fake\", \"nucleus-channel\")",
   "id": "e791a066acce23d0",
   "outputs": [],
   "execution_count": null
  },
  {
   "metadata": {},
   "cell_type": "code",
   "source": "new_core = MyUniMMCore()",
   "id": "34752970effe3464",
   "outputs": [],
   "execution_count": null
  },
  {
   "metadata": {},
   "cell_type": "code",
   "source": "new_core.loadSystemConfiguration()",
   "id": "2635e1037f05359d",
   "outputs": [],
   "execution_count": null
  }
 ],
 "metadata": {
  "kernelspec": {
   "display_name": "Python 3",
   "language": "python",
   "name": "python3"
  },
  "language_info": {
   "codemirror_mode": {
    "name": "ipython",
    "version": 2
   },
   "file_extension": ".py",
   "mimetype": "text/x-python",
   "name": "python",
   "nbconvert_exporter": "python",
   "pygments_lexer": "ipython2",
   "version": "2.7.6"
  }
 },
 "nbformat": 4,
 "nbformat_minor": 5
}
