{
 "cells": [
  {
   "cell_type": "code",
   "id": "initial_id",
   "metadata": {
    "collapsed": true,
    "ExecuteTime": {
     "end_time": "2025-09-24T12:37:47.843428Z",
     "start_time": "2025-09-24T12:37:47.836881Z"
    }
   },
   "source": [
    "from pymmcore_camera_sim import SimCameraDevice\n",
    "from pymmcore_slm_sim import SimSLMDevice\n",
    "from pymmcore_stage_sim import SimStageDevice\n",
    "from pymmcore_state_device_sim import SimStateDevice\n",
    "from pymmcore_shutter_sim import SimShutterDevice\n",
    "import napari\n",
    "from pymmcore_plus.experimental.unicore import UniMMCore\n",
    "from microscope_sim import MicroscopeSim\n",
    "from pymmcore_plus import CMMCorePlus, Keyword\n",
    "from pathlib import Path"
   ],
   "outputs": [],
   "execution_count": 9
  },
  {
   "metadata": {
    "ExecuteTime": {
     "end_time": "2025-09-24T12:37:50.030998Z",
     "start_time": "2025-09-24T12:37:49.902064Z"
    }
   },
   "cell_type": "code",
   "source": [
    "core = UniMMCore()\n",
    "\n",
    "microscope_simulation = MicroscopeSim()\n",
    "print(core.getLoadedDevices())\n",
    "#-----------------------------------------\n",
    "# unload all devices\n",
    "core.unloadAllDevices()\n",
    "\n",
    "print(core.getLoadedDevices())\n",
    "#-----------------------------------------------------\n",
    "# load device\n",
    "core.loadPyDevice(\"Camera\", SimCameraDevice(core=core, microscope_sim=microscope_simulation))\n",
    "core.loadPyDevice(\"XYStage\", SimStageDevice(microscope_sim=microscope_simulation))\n",
    "core.loadPyDevice(\"LED\", SimStateDevice(label=\"LED\",state_dict={0:\"UV\", 1:\"BLUE\", 2:\"CYAN\", 3:\"GREEN\", 4:\"YELLOW\", 5:\"ORANGE\", 6:\"RED\"}, microscope_sim=microscope_simulation))\n",
    "core.loadPyDevice(\"Filter Wheel\", SimStateDevice(label=\"Filter Wheel\",state_dict={0:\"Electra1(402/454)\", 1:\"SCFP2(434/474)\", 2:\"TagGFP2(483/506)\", 3:\"obeYFP(514/528)\", 5:\"mRFP1-Q667(549/570)\", 6:\"mScarlet3(569/582)\", 7:\"miRFP670(642/670)\"}, microscope_sim=microscope_simulation))\n",
    "core.loadPyDevice(\"Shutter\", SimShutterDevice())\n",
    "#------------------------------------\n",
    "print(core.getLoadedDevices())\n",
    "# initialize device\n",
    "#core.initializeDevice(\"Camera\")\n",
    "#core.initializeDevice(\"XYStage\")\n",
    "#core.initializeDevice(\"Filter Wheel\")\n",
    "#core.initializeDevice(\"LED\")\n",
    "#core.initializeDevice(\"Shutter\")\n",
    "\n",
    "core.initializeAllDevices()\n",
    "\n",
    "print(core.getLoadedDevices())\n",
    "\n",
    "print(core.getDeviceInitializationState(\"LED\"))\n",
    "\n",
    "#---------------------------\n",
    "# Set initial value of some device\n",
    "core.setCameraDevice(\"Camera\")\n",
    "core.setXYStageDevice(\"XYStage\")\n",
    "core.setShutterDevice(\"Shutter\")\n",
    "core.setState(\"LED\", 0)\n",
    "core.setState(\"Filter Wheel\", 0)\n",
    "\n",
    "core.defineConfigGroup(\"Fake\")\n",
    "core.defineConfigGroup(\"Real\")\n",
    "core.defineConfig(\"Fake\", \"nucleus-channel\", \"LED\", \"Label\", \"ORANGE\")\n",
    "core.defineConfig(\"Fake\", \"nucleus-channel\", \"Filter Wheel\", \"Label\", \"mScarlet3(569/582)\")\n",
    "core.defineConfig(\"Real\", \"membrane-channel\", \"LED\", \"Label\", \"RED\")\n",
    "core.defineConfig(\"Real\", \"membrane-channel\", \"Filter Wheel\", \"Label\", \"miRFP670(642/670)\")\n",
    "\n",
    "core.setConfig(\"Fake\", \"nucleus-channel\")\n",
    "\n",
    "#print(core.getDeviceInitializationState(\"LED\").__dict__)\n",
    "#viewer = napari.Viewer()\n",
    "\n",
    "#viewer.window.add_plugin_dock_widget(plugin_name='napari-micromanager')\n",
    "\n",
    "#napari.run()"
   ],
   "id": "6da81a99afee236",
   "outputs": [
    {
     "name": "stdout",
     "output_type": "stream",
     "text": [
      "('Core',)\n",
      "('Core',)\n",
      "('Camera', 'XYStage', 'LED', 'Filter Wheel', 'Shutter', 'Core')\n",
      "('Camera', 'XYStage', 'LED', 'Filter Wheel', 'Shutter', 'Core')\n",
      "1\n"
     ]
    },
    {
     "ename": "RuntimeError",
     "evalue": "No device with label \"LED\"",
     "output_type": "error",
     "traceback": [
      "\u001B[31m---------------------------------------------------------------------------\u001B[39m",
      "\u001B[31mRuntimeError\u001B[39m                              Traceback (most recent call last)",
      "\u001B[36mCell\u001B[39m\u001B[36m \u001B[39m\u001B[32mIn[10]\u001B[39m\u001B[32m, line 47\u001B[39m\n\u001B[32m     44\u001B[39m core.defineConfig(\u001B[33m\"\u001B[39m\u001B[33mReal\u001B[39m\u001B[33m\"\u001B[39m, \u001B[33m\"\u001B[39m\u001B[33mmembrane-channel\u001B[39m\u001B[33m\"\u001B[39m, \u001B[33m\"\u001B[39m\u001B[33mLED\u001B[39m\u001B[33m\"\u001B[39m, \u001B[33m\"\u001B[39m\u001B[33mLabel\u001B[39m\u001B[33m\"\u001B[39m, \u001B[33m\"\u001B[39m\u001B[33mRED\u001B[39m\u001B[33m\"\u001B[39m)\n\u001B[32m     45\u001B[39m core.defineConfig(\u001B[33m\"\u001B[39m\u001B[33mReal\u001B[39m\u001B[33m\"\u001B[39m, \u001B[33m\"\u001B[39m\u001B[33mmembrane-channel\u001B[39m\u001B[33m\"\u001B[39m, \u001B[33m\"\u001B[39m\u001B[33mFilter Wheel\u001B[39m\u001B[33m\"\u001B[39m, \u001B[33m\"\u001B[39m\u001B[33mLabel\u001B[39m\u001B[33m\"\u001B[39m, \u001B[33m\"\u001B[39m\u001B[33mmiRFP670(642/670)\u001B[39m\u001B[33m\"\u001B[39m)\n\u001B[32m---> \u001B[39m\u001B[32m47\u001B[39m core.setConfig(\u001B[33m\"\u001B[39m\u001B[33mFake\u001B[39m\u001B[33m\"\u001B[39m, \u001B[33m\"\u001B[39m\u001B[33mnucleus-channel\u001B[39m\u001B[33m\"\u001B[39m)\n",
      "\u001B[36mFile \u001B[39m\u001B[32m~\\anaconda3\\envs\\opto-loop\\Lib\\site-packages\\pymmcore_plus\\core\\_mmcore_plus.py:826\u001B[39m, in \u001B[36mCMMCorePlus.setConfig\u001B[39m\u001B[34m(self, groupName, configName)\u001B[39m\n\u001B[32m    818\u001B[39m \u001B[38;5;28;01mdef\u001B[39;00m\u001B[38;5;250m \u001B[39m\u001B[34msetConfig\u001B[39m(\u001B[38;5;28mself\u001B[39m, groupName: \u001B[38;5;28mstr\u001B[39m, configName: \u001B[38;5;28mstr\u001B[39m) -> \u001B[38;5;28;01mNone\u001B[39;00m:\n\u001B[32m    819\u001B[39m \u001B[38;5;250m    \u001B[39m\u001B[33;03m\"\"\"Applies a configuration to a group.\u001B[39;00m\n\u001B[32m    820\u001B[39m \n\u001B[32m    821\u001B[39m \u001B[33;03m    **Why Override?** The native `onConfigGroupChanged` callback is not always\u001B[39;00m\n\u001B[32m   (...)\u001B[39m\u001B[32m    824\u001B[39m \u001B[33;03m    See <https://github.com/micro-manager/mmCoreAndDevices/issues/25> for details.\u001B[39;00m\n\u001B[32m    825\u001B[39m \u001B[33;03m    \"\"\"\u001B[39;00m\n\u001B[32m--> \u001B[39m\u001B[32m826\u001B[39m     \u001B[38;5;28msuper\u001B[39m().setConfig(groupName, configName)\n\u001B[32m    827\u001B[39m     \u001B[38;5;28mself\u001B[39m.events.configSet.emit(groupName, configName)\n\u001B[32m    828\u001B[39m     \u001B[38;5;28mself\u001B[39m._last_config = (groupName, configName)\n",
      "\u001B[31mRuntimeError\u001B[39m: No device with label \"LED\""
     ]
    }
   ],
   "execution_count": 10
  },
  {
   "metadata": {
    "ExecuteTime": {
     "end_time": "2025-09-24T12:38:08.853849Z",
     "start_time": "2025-09-24T12:38:08.844578Z"
    }
   },
   "cell_type": "code",
   "source": "core.getAllowedPropertyValues(\"LED\", \"Label\")",
   "id": "e8920d8256adc8f9",
   "outputs": [
    {
     "data": {
      "text/plain": [
       "('UV', 'BLUE', 'CYAN', 'GREEN', 'YELLOW', 'ORANGE', 'RED')"
      ]
     },
     "execution_count": 11,
     "metadata": {},
     "output_type": "execute_result"
    }
   ],
   "execution_count": 11
  },
  {
   "metadata": {},
   "cell_type": "markdown",
   "source": "## Simplified",
   "id": "eaa272ea9f0e1ddd"
  },
  {
   "metadata": {
    "ExecuteTime": {
     "end_time": "2025-09-24T12:16:41.704919Z",
     "start_time": "2025-09-24T12:16:41.694706Z"
    }
   },
   "cell_type": "code",
   "source": "core.getPropertyType(\"Camera\", \"brightness\")",
   "id": "1aafeaf58c809ca2",
   "outputs": [
    {
     "data": {
      "text/plain": [
       "float"
      ]
     },
     "execution_count": 4,
     "metadata": {},
     "output_type": "execute_result"
    }
   ],
   "execution_count": 4
  },
  {
   "metadata": {
    "ExecuteTime": {
     "end_time": "2025-09-24T12:18:41.013342Z",
     "start_time": "2025-09-24T12:18:40.895186Z"
    }
   },
   "cell_type": "code",
   "source": [
    "core.reset()\n",
    "core = UniMMCore()# restaret the kernel so the singleton reset or just use core.reset()\n",
    "microscope_simulation = MicroscopeSim()\n",
    "\n",
    "# load device python\n",
    "core.loadPyDevice(\"Camera\", SimCameraDevice(core=core, microscope_sim=microscope_simulation))\n",
    "core.loadPyDevice(\"XYStage\", SimStageDevice(microscope_sim=microscope_simulation))\n",
    "core.initializeAllDevices()\n",
    "\n",
    "# initialize device\n",
    "core.setCameraDevice(\"Camera\")\n",
    "core.setXYStageDevice(\"XYStage\")\n",
    "\n",
    "# configure new group\n",
    "core.defineConfigGroup(\"test\")\n",
    "# define new configuration\n",
    "core.defineConfig(\"test\",\"state-0\",\"Camera\",\"brightness\",25.0)\n",
    "core.defineConfig(\"test\",\"state-0\",\"Camera\",Keyword.Exposure,2.0)\n",
    "\n",
    "core.setConfig(\"test\", \"state-0\")"
   ],
   "id": "cb993d5d149dfd9a",
   "outputs": [
    {
     "ename": "TypeError",
     "evalue": "Wrong number or type of arguments for overloaded function 'CMMCore_defineConfig'.\n  Possible C/C++ prototypes are:\n    CMMCore::defineConfig(char const *,char const *)\n    CMMCore::defineConfig(char const *,char const *,char const *,char const *,char const *)\n",
     "output_type": "error",
     "traceback": [
      "\u001B[31m---------------------------------------------------------------------------\u001B[39m",
      "\u001B[31mTypeError\u001B[39m                                 Traceback (most recent call last)",
      "\u001B[36mCell\u001B[39m\u001B[36m \u001B[39m\u001B[32mIn[8]\u001B[39m\u001B[32m, line 17\u001B[39m\n\u001B[32m     15\u001B[39m core.defineConfigGroup(\u001B[33m\"\u001B[39m\u001B[33mtest\u001B[39m\u001B[33m\"\u001B[39m)\n\u001B[32m     16\u001B[39m \u001B[38;5;66;03m# define new configuration\u001B[39;00m\n\u001B[32m---> \u001B[39m\u001B[32m17\u001B[39m core.defineConfig(\u001B[33m\"\u001B[39m\u001B[33mtest\u001B[39m\u001B[33m\"\u001B[39m,\u001B[33m\"\u001B[39m\u001B[33mstate-0\u001B[39m\u001B[33m\"\u001B[39m,\u001B[33m\"\u001B[39m\u001B[33mCamera\u001B[39m\u001B[33m\"\u001B[39m,\u001B[33m\"\u001B[39m\u001B[33mbrightness\u001B[39m\u001B[33m\"\u001B[39m,\u001B[32m25.0\u001B[39m)\n\u001B[32m     18\u001B[39m core.defineConfig(\u001B[33m\"\u001B[39m\u001B[33mtest\u001B[39m\u001B[33m\"\u001B[39m,\u001B[33m\"\u001B[39m\u001B[33mstate-0\u001B[39m\u001B[33m\"\u001B[39m,\u001B[33m\"\u001B[39m\u001B[33mCamera\u001B[39m\u001B[33m\"\u001B[39m,Keyword.Exposure,\u001B[32m2.0\u001B[39m)\n\u001B[32m     20\u001B[39m core.setConfig(\u001B[33m\"\u001B[39m\u001B[33mtest\u001B[39m\u001B[33m\"\u001B[39m, \u001B[33m\"\u001B[39m\u001B[33mstate-0\u001B[39m\u001B[33m\"\u001B[39m)\n",
      "\u001B[36mFile \u001B[39m\u001B[32m~\\anaconda3\\envs\\opto-loop\\Lib\\site-packages\\pymmcore_plus\\core\\_mmcore_plus.py:2129\u001B[39m, in \u001B[36mCMMCorePlus.defineConfig\u001B[39m\u001B[34m(self, groupName, configName, deviceLabel, propName, value)\u001B[39m\n\u001B[32m   2126\u001B[39m     \u001B[38;5;28msuper\u001B[39m().defineConfigGroup(groupName)\n\u001B[32m   2128\u001B[39m \u001B[38;5;28;01mif\u001B[39;00m (deviceLabel \u001B[38;5;129;01mis\u001B[39;00m \u001B[38;5;129;01mnot\u001B[39;00m \u001B[38;5;28;01mNone\u001B[39;00m) \u001B[38;5;129;01mand\u001B[39;00m (propName \u001B[38;5;129;01mis\u001B[39;00m \u001B[38;5;129;01mnot\u001B[39;00m \u001B[38;5;28;01mNone\u001B[39;00m) \u001B[38;5;129;01mand\u001B[39;00m (value \u001B[38;5;129;01mis\u001B[39;00m \u001B[38;5;129;01mnot\u001B[39;00m \u001B[38;5;28;01mNone\u001B[39;00m):\n\u001B[32m-> \u001B[39m\u001B[32m2129\u001B[39m     \u001B[38;5;28msuper\u001B[39m().defineConfig(groupName, configName, deviceLabel, propName, value)\n\u001B[32m   2130\u001B[39m \u001B[38;5;28;01melse\u001B[39;00m:\n\u001B[32m   2131\u001B[39m     deviceLabel, propName, value = (\u001B[33m\"\u001B[39m\u001B[33m\"\u001B[39m, \u001B[33m\"\u001B[39m\u001B[33m\"\u001B[39m, \u001B[33m\"\u001B[39m\u001B[33m\"\u001B[39m)\n",
      "\u001B[31mTypeError\u001B[39m: Wrong number or type of arguments for overloaded function 'CMMCore_defineConfig'.\n  Possible C/C++ prototypes are:\n    CMMCore::defineConfig(char const *,char const *)\n    CMMCore::defineConfig(char const *,char const *,char const *,char const *,char const *)\n"
     ]
    }
   ],
   "execution_count": 8
  },
  {
   "metadata": {},
   "cell_type": "markdown",
   "source": "### Try to override UniMMCore class",
   "id": "2c5005ef513c2f3e"
  },
  {
   "metadata": {},
   "cell_type": "code",
   "outputs": [],
   "execution_count": null,
   "source": [
    "from registry import DEVICE_REGISTRY\n",
    "from pathlib import Path\n",
    "from pymmcore_plus.experimental.unicore import UniMMCore\n",
    "from microscope_sim import MicroscopeSim\n",
    "from pymmcore_plus import CMMCorePlus, Keyword\n",
    "import devices\n",
    "\n",
    "\n",
    "class MyUniMMCore(UniMMCore): # create subclass for the my current example, later if it does work add to the implementation\n",
    "\n",
    "    def __init__(self, microscope_sim: MicroscopeSim | None = None):\n",
    "        super().__init__()\n",
    "        self.microscope_sim = microscope_sim or MicroscopeSim()\n",
    "\n",
    "    # def getConfigState(\n",
    "    #     self, group: str, config: str, *, native: bool = False\n",
    "    # ):\n",
    "    #     print(self.getAvailableConfigGroups())\n",
    "    #     print(self.getAvailableConfigs(group))\n",
    "    #     if group in self.getAvailableConfigGroups() and config in self.getAvailableConfigs(group):\n",
    "    #         return self.getConfigData(group, config,native=native)\n",
    "    #     else:\n",
    "    #         return ()\n",
    "\n",
    "    def loadSystemConfiguration(\n",
    "        self, fileName: str | Path = \"test_config.cfg\"\n",
    "    ) -> None:\n",
    "        # COPY FROM PYMMCORE-PLUS for the moment\n",
    "        fpath = Path(fileName).expanduser()\n",
    "        if not fpath.exists() and not fpath.is_absolute() and self._mm_path:\n",
    "            fpath = Path(self._mm_path) / fileName\n",
    "        if not fpath.exists():\n",
    "            raise FileNotFoundError(f\"Path does not exist: {fpath}\")\n",
    "        self._last_sys_config = str(fpath.resolve())\n",
    "        # open file and read lines\n",
    "        with open(self._last_sys_config, \"r\") as config_file:\n",
    "            list_of_lines = config_file.readlines() # read lines and saved in a list\n",
    "        config_file.close() # close the file\n",
    "\n",
    "        for line in list_of_lines: # iterate over the list of lines\n",
    "            print(line)\n",
    "            # Get through the list\n",
    "            if line.startswith(\"#\"):\n",
    "                continue\n",
    "            elif line.startswith(\"Device\"):\n",
    "                # load the device in the system if not present\n",
    "                # Device,Name of the device, Python device or C++, device label\n",
    "                _, device_label,module_name,device_name = line.strip().split(',')\n",
    "                try:\n",
    "                    if device_label in self.getDeviceAdapterNames():\n",
    "                        self.loadDevice(device_label,module_name, device_name)\n",
    "                    elif device_name in DEVICE_REGISTRY.keys(): # checks if always works with python\n",
    "                        fact = DEVICE_REGISTRY[device_name]\n",
    "                        # Try to find better implementation\n",
    "                        if device_label == \"Camera\":\n",
    "                            pydev = fact(self, self.microscope_sim)\n",
    "                        elif device_label == \"XYStage\":\n",
    "                            pydev = fact(self.microscope_sim)\n",
    "                        elif device_label == \"Shutter\":\n",
    "                            pydev = fact()\n",
    "                        elif device_label == \"LED\":\n",
    "                            pydev = fact(device_label,{0:\"\"},self.microscope_sim)\n",
    "                            #{0:\"UV\", 1:\"BLUE\", 2:\"CYAN\", 3:\"GREEN\", 4:\"YELLOW\", 5:\"ORANGE\", 6:\"RED\"}\n",
    "                        else:\n",
    "                            pydev = fact(device_label,{0:\"\"},self.microscope_sim)\n",
    "                            #{0:\"Electra1(402/454)\", 1:\"SCFP2(434/474)\", 2:\"TagGFP2(483/506)\", 3:\"obeYFP(514/528)\", 4:\"mRFP1-Q667(549/570)\", 5:\"mScarlet3(569/582)\", 6:\"miRFP670(642/670)\"}\n",
    "                        self.loadPyDevice(device_label, pydev)\n",
    "                    else:\n",
    "                        raise RuntimeError(f\"Unknown device or adapter for {module_name}\")\n",
    "                except Exception as e:\n",
    "                    # if module_name not in self.getDeviceAdapterNames():\n",
    "                    #     # is a python device\n",
    "                    #     pydev = self._get_py_device_instance(module_name, device_name)\n",
    "                    #     self.loadPyDevice(device_label, pydev)\n",
    "                    raise RuntimeError(f\"Failed to load {device_label}: {e}\")\n",
    "                # initialize the device\n",
    "                self.initializeDevice(device_label)\n",
    "                print(self.getLoadedDevices())\n",
    "\n",
    "                # set initial value\n",
    "                if 'Camera' in device_name:\n",
    "                    self.setCameraDevice(device_label)\n",
    "                elif 'Stage' in device_name:\n",
    "                    self.setXYStageDevice(device_label)\n",
    "                elif 'Shutter' in device_name:\n",
    "                    self.setShutterDevice(device_label)\n",
    "                elif 'State' in device_name:\n",
    "                    self.setState(device_label,0) # by default always has default value of 0\n",
    "\n",
    "                # think if something is missing\n",
    "            elif line.startswith(\"Label\"):\n",
    "                # load the state device here\n",
    "                _, device_label,state_int, state_label = line.strip().split(',')\n",
    "                # check if device is already loaded\n",
    "                if device_label in self.getLoadedDevices(): # device is loaded\n",
    "                    self.defineStateLabel(device_label, int(state_int), state_label)\n",
    "                else: # device is not present. I assume in this case is a StateDevice, because it follows the mapping implementation\n",
    "                    continue # for the moment leave like this, don't know yet if its important this condition\n",
    "            elif line.startswith(\"ConfigGroup\"):\n",
    "                # load and sets differents configuration\n",
    "                _, configuration_group, configuration_presets, device_label, property_name, property_value = line.strip().split(',')\n",
    "\n",
    "                if not self.isGroupDefined(configuration_group): # check if the configuration group exists\n",
    "                    self.defineConfigGroup(configuration_group)\n",
    "                if device_label not in self.getLoadedDevices():\n",
    "                    raise RuntimeError(f\"Failed to load {device_label}: {device_label} is not a loaded device.\")\n",
    "                print(self.getDevicePropertyNames(device_label))\n",
    "                print(property_name)\n",
    "                if self.hasProperty(device_label, property_name):# the property is not present in the device settings\n",
    "                    if not self.isPropertyReadOnly(device_label, property_name): # property is not readonly\n",
    "                        if property_value in self.getAllowedPropertyValues(device_label, property_name):# checks if the value of the property is in the list of allowed value\n",
    "                            self.defineConfig(configuration_group, configuration_presets, device_label, property_name, property_value) # define new configuration/settings\n",
    "                        else:\n",
    "                            raise RuntimeError(f\"Failed to define new configuration: {property_value} is not a valid value for property {property_name}\")\n",
    "                    else:\n",
    "                        raise RuntimeError(f\"Failed to define new configuration: {property_value} is a ReadOnly property\")\n",
    "                else:\n",
    "                    raise RuntimeError(f\"Failed to define new configuration: {property_value} is not a property of the device {device_label}\")\n",
    "\n",
    "            # in the demo there is also the pixelsizeconfig. For the moment i dont add it, its not important for my example"
   ],
   "id": "cba9a91cec689306"
  },
  {
   "metadata": {},
   "cell_type": "code",
   "outputs": [],
   "execution_count": null,
   "source": "new_core = MyUniMMCore()",
   "id": "cda193daa6e23afa"
  },
  {
   "metadata": {},
   "cell_type": "code",
   "outputs": [],
   "execution_count": null,
   "source": "new_core.loadSystemConfiguration()",
   "id": "2635e1037f05359d"
  }
 ],
 "metadata": {
  "kernelspec": {
   "display_name": "Python 3",
   "language": "python",
   "name": "python3"
  },
  "language_info": {
   "codemirror_mode": {
    "name": "ipython",
    "version": 2
   },
   "file_extension": ".py",
   "mimetype": "text/x-python",
   "name": "python",
   "nbconvert_exporter": "python",
   "pygments_lexer": "ipython2",
   "version": "2.7.6"
  }
 },
 "nbformat": 4,
 "nbformat_minor": 5
}
