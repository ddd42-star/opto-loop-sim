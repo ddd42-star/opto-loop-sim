{
 "cells": [
  {
   "cell_type": "code",
   "id": "initial_id",
   "metadata": {
    "collapsed": true,
    "ExecuteTime": {
     "end_time": "2025-09-26T15:02:31.992491Z",
     "start_time": "2025-09-26T15:02:29.277807Z"
    }
   },
   "source": [
    "from PyQt6.QtCore import Qt\n",
    "\n",
    "from pymmcore_camera_sim import SimCameraDevice\n",
    "from pymmcore_slm_sim import SimSLMDevice\n",
    "from pymmcore_stage_sim import SimStageDevice\n",
    "from pymmcore_state_device_sim import SimStateDevice\n",
    "from pymmcore_shutter_sim import SimShutterDevice\n",
    "from pymmcore_z_stage_sim import SimZStageDevice\n",
    "from pymmcore_plus.experimental.unicore import UniMMCore\n",
    "from microscope_sim import MicroscopeSim\n",
    "from pymmcore_plus import CMMCorePlus, Keyword\n",
    "from pathlib import Path"
   ],
   "outputs": [
    {
     "name": "stdout",
     "output_type": "stream",
     "text": [
      "pygame 2.6.1 (SDL 2.28.4, Python 3.12.11)\n",
      "Hello from the pygame community. https://www.pygame.org/contribute.html\n"
     ]
    }
   ],
   "execution_count": 1
  },
  {
   "metadata": {
    "ExecuteTime": {
     "end_time": "2025-09-26T15:02:34.289459Z",
     "start_time": "2025-09-26T15:02:33.825745Z"
    }
   },
   "cell_type": "code",
   "source": [
    "core = UniMMCore()\n",
    "\n",
    "microscope_simulation = MicroscopeSim()\n",
    "print(core.getLoadedDevices())\n",
    "#-----------------------------------------\n",
    "# unload all devices\n",
    "core.unloadAllDevices()\n",
    "\n",
    "print(core.getLoadedDevices())\n",
    "#-----------------------------------------------------\n",
    "# load device\n",
    "core.loadPyDevice(\"Camera\", SimCameraDevice(core=core, microscope_sim=microscope_simulation))\n",
    "core.loadPyDevice(\"XYStage\", SimStageDevice(microscope_sim=microscope_simulation))\n",
    "core.loadPyDevice(\"ZStage\", SimZStageDevice(microscope_sim=microscope_simulation))\n",
    "core.loadPyDevice(\"LED\", SimStateDevice(label=\"LED\",state_dict={0:\"UV\", 1:\"BLUE\", 2:\"CYAN\", 3:\"GREEN\", 4:\"YELLOW\", 5:\"ORANGE\", 6:\"RED\"}, microscope_sim=microscope_simulation))\n",
    "core.loadPyDevice(\"Filter Wheel\", SimStateDevice(label=\"Filter Wheel\",state_dict={0:\"Electra1(402/454)\", 1:\"SCFP2(434/474)\", 2:\"TagGFP2(483/506)\", 3:\"obeYFP(514/528)\", 5:\"mRFP1-Q667(549/570)\", 6:\"mScarlet3(569/582)\", 7:\"miRFP670(642/670)\"}, microscope_sim=microscope_simulation))\n",
    "core.loadPyDevice(\"Shutter\", SimShutterDevice())\n",
    "#------------------------------------\n",
    "print(core.getLoadedDevices())\n",
    "# initialize device\n",
    "core.initializeDevice(\"Camera\")\n",
    "core.initializeDevice(\"XYStage\")\n",
    "core.initializeDevice(\"Filter Wheel\")\n",
    "core.initializeDevice(\"LED\")\n",
    "core.initializeDevice(\"Shutter\")\n",
    "core.initializeDevice(\"ZStage\")\n",
    "\n",
    "#core.initializeAllDevices()\n",
    "\n",
    "print(core.getLoadedDevices())\n",
    "\n",
    "print(core.getDeviceInitializationState(\"LED\"))\n",
    "\n",
    "#---------------------------\n",
    "# Set initial value of some device\n",
    "core.setCameraDevice(\"Camera\")\n",
    "core.setXYStageDevice(\"XYStage\")\n",
    "core.setFocusDevice(\"ZStage\")\n",
    "core.setShutterDevice(\"Shutter\")\n",
    "core.setState(\"LED\", 0)\n",
    "core.setState(\"Filter Wheel\", 0)\n",
    "\n",
    "core.defineConfigGroup(\"Fake\")\n",
    "core.defineConfigGroup(\"Real\")\n",
    "core.defineConfig(\"Fake\", \"nucleus-channel\", \"LED\", \"Label\", \"ORANGE\")\n",
    "core.defineConfig(\"Fake\", \"nucleus-channel\", \"Filter Wheel\", \"Label\", \"mScarlet3(569/582)\")\n",
    "core.defineConfig(\"Fake\", \"membrane-channel\", \"LED\", \"Label\", \"RED\")\n",
    "core.defineConfig(\"Fake\", \"membrane-channel\", \"Filter Wheel\", \"Label\", \"miRFP670(642/670)\")\n",
    "core.defineConfig(\"Real\", \"membrane-channel\", \"LED\", \"Label\", \"RED\")\n",
    "core.defineConfig(\"Real\", \"membrane-channel\", \"Filter Wheel\", \"Label\", \"miRFP670(642/670)\")\n",
    "\n",
    "#core.setConfig(\"Fake\", \"nucleus-channel\")\n",
    "\n",
    "#print(core.getDeviceInitializationState(\"LED\").__dict__)\n",
    "#viewer = napari.Viewer()\n",
    "\n",
    "#viewer.window.add_plugin_dock_widget(plugin_name='napari-micromanager')\n",
    "\n",
    "#napari.run()"
   ],
   "id": "6da81a99afee236",
   "outputs": [
    {
     "name": "stdout",
     "output_type": "stream",
     "text": [
      "('Core',)\n",
      "('Core',)\n",
      "('Camera', 'XYStage', 'ZStage', 'LED', 'Filter Wheel', 'Shutter', 'Core')\n",
      "('Camera', 'XYStage', 'ZStage', 'LED', 'Filter Wheel', 'Shutter', 'Core')\n",
      "1\n"
     ]
    }
   ],
   "execution_count": 2
  },
  {
   "metadata": {
    "ExecuteTime": {
     "end_time": "2025-09-26T15:03:03.303452Z",
     "start_time": "2025-09-26T15:03:03.288999Z"
    }
   },
   "cell_type": "code",
   "source": "core.getPosition(\"ZStage\")",
   "id": "e327cbc9e2788d85",
   "outputs": [
    {
     "data": {
      "text/plain": [
       "0.0"
      ]
     },
     "execution_count": 3,
     "metadata": {},
     "output_type": "execute_result"
    }
   ],
   "execution_count": 3
  },
  {
   "metadata": {
    "ExecuteTime": {
     "end_time": "2025-09-26T14:41:56.551436Z",
     "start_time": "2025-09-26T14:41:41.115520Z"
    }
   },
   "cell_type": "code",
   "source": [
    "import napari\n",
    "\n",
    "viewer = napari.Viewer()\n",
    "\n",
    "viewer.window.add_plugin_dock_widget(plugin_name='napari-micromanager')\n",
    "\n",
    "napari.run()"
   ],
   "id": "ef27428746f308c8",
   "outputs": [
    {
     "name": "stderr",
     "output_type": "stream",
     "text": [
      "C:\\Users\\dario\\anaconda3\\envs\\opto-loop\\Lib\\site-packages\\requests\\__init__.py:86: RequestsDependencyWarning: Unable to find acceptable character detection dependency (chardet or charset_normalizer).\n",
      "  warnings.warn(\n",
      "C:\\Users\\dario\\anaconda3\\envs\\opto-loop\\Lib\\site-packages\\napari_micromanager\\main_window.py:51: FutureWarning: The `_dock_widgets` property is private and should not be used in any plugin code. Please use the `dock_widgets` property instead.\n",
      "  if \"MinMax\" not in getattr(self.viewer.window, \"_dock_widgets\", []):\n",
      "Error creating widget for LED-State: index 0 has type 'int' but 'str' is expected\n",
      "Error creating widget for Filter Wheel-State: index 0 has type 'int' but 'str' is expected\n"
     ]
    },
    {
     "name": "stdout",
     "output_type": "stream",
     "text": [
      "No SLM device found in core.\n",
      "{'LED': {'state': '0', 'label': 'UV'}, 'Filter Wheel': {'state': '0', 'label': 'Electra1(402/454)'}}\n"
     ]
    }
   ],
   "execution_count": 3
  },
  {
   "metadata": {
    "ExecuteTime": {
     "end_time": "2025-09-26T14:40:19.951405Z",
     "start_time": "2025-09-26T14:40:19.945382Z"
    }
   },
   "cell_type": "code",
   "source": "from useq import MDAEvent, MDASequence, Channel",
   "id": "40db7a09b4d7310d",
   "outputs": [],
   "execution_count": 5
  },
  {
   "metadata": {
    "ExecuteTime": {
     "end_time": "2025-09-26T14:40:21.694820Z",
     "start_time": "2025-09-26T14:40:21.678294Z"
    }
   },
   "cell_type": "code",
   "source": [
    "event = MDAEvent(\n",
    "    channel={\"config\":\"nucleus-channel\", \"group\":\"Fake\"},\n",
    "    z_pos=0.0,\n",
    "    exposure=1.0,\n",
    ")"
   ],
   "id": "5a87e107049e966d",
   "outputs": [],
   "execution_count": 6
  },
  {
   "metadata": {
    "ExecuteTime": {
     "end_time": "2025-09-26T14:40:26.319985Z",
     "start_time": "2025-09-26T14:40:26.311491Z"
    }
   },
   "cell_type": "code",
   "source": [
    "if (ch := event.channel) is not None:\n",
    "    print(ch)"
   ],
   "id": "bf724d01ba7db020",
   "outputs": [
    {
     "name": "stdout",
     "output_type": "stream",
     "text": [
      "config='nucleus-channel' group='Fake'\n"
     ]
    }
   ],
   "execution_count": 7
  },
  {
   "metadata": {
    "ExecuteTime": {
     "end_time": "2025-09-26T14:40:28.749756Z",
     "start_time": "2025-09-26T14:40:28.314660Z"
    }
   },
   "cell_type": "code",
   "source": "core.mda.run([event])",
   "id": "81ba211ce70e8584",
   "outputs": [
    {
     "data": {
      "text/plain": [
       "\u001B[2;36m[09/26/25 16:40:28]\u001B[0m\u001B[2;36m \u001B[0m\u001B[34mINFO    \u001B[0m MDA Started: \u001B[1;35mGeneratorMDASequence\u001B[0m\u001B[1m(\u001B[0m\u001B[1m)\u001B[0m                                     \u001B]8;id=199032;file://C:\\Users\\dario\\OneDrive\\universita\\MA\\Thesis\\opto-loop\\opto-loop-sim\\pymmcore-plus\\src\\pymmcore_plus\\mda\\_runner.py\u001B\\\u001B[2m_runner.py\u001B[0m\u001B]8;;\u001B\\\u001B[2m:\u001B[0m\u001B]8;id=132579;file://C:\\Users\\dario\\OneDrive\\universita\\MA\\Thesis\\opto-loop\\opto-loop-sim\\pymmcore-plus\\src\\pymmcore_plus\\mda\\_runner.py#376\u001B\\\u001B[2m376\u001B[0m\u001B]8;;\u001B\\\n"
      ],
      "text/html": [
       "<pre style=\"white-space:pre;overflow-x:auto;line-height:normal;font-family:Menlo,'DejaVu Sans Mono',consolas,'Courier New',monospace\"><span style=\"color: #7fbfbf; text-decoration-color: #7fbfbf\">[09/26/25 16:40:28] </span><span style=\"color: #000080; text-decoration-color: #000080\">INFO    </span> MDA Started: <span style=\"color: #800080; text-decoration-color: #800080; font-weight: bold\">GeneratorMDASequence</span><span style=\"font-weight: bold\">()</span>                                     <a href=\"file://C:\\Users\\dario\\OneDrive\\universita\\MA\\Thesis\\opto-loop\\opto-loop-sim\\pymmcore-plus\\src\\pymmcore_plus\\mda\\_runner.py\" target=\"_blank\"><span style=\"color: #7f7f7f; text-decoration-color: #7f7f7f\">_runner.py</span></a><span style=\"color: #7f7f7f; text-decoration-color: #7f7f7f\">:</span><a href=\"file://C:\\Users\\dario\\OneDrive\\universita\\MA\\Thesis\\opto-loop\\opto-loop-sim\\pymmcore-plus\\src\\pymmcore_plus\\mda\\_runner.py#376\" target=\"_blank\"><span style=\"color: #7f7f7f; text-decoration-color: #7f7f7f\">376</span></a>\n",
       "</pre>\n"
      ]
     },
     "metadata": {},
     "output_type": "display_data"
    },
    {
     "data": {
      "text/plain": [
       "\u001B[2;36m                   \u001B[0m\u001B[2;36m \u001B[0m\u001B[34mINFO    \u001B[0m \u001B[33mchannel\u001B[0m=\u001B[1;35mChannel\u001B[0m\u001B[1m(\u001B[0m\u001B[33mconfig\u001B[0m=\u001B[32m'nucleus-channel'\u001B[0m, \u001B[33mgroup\u001B[0m=\u001B[32m'Fake'\u001B[0m\u001B[1m)\u001B[0m \u001B[33mexposure\u001B[0m=\u001B[1;36m1\u001B[0m\u001B[1;36m.0\u001B[0m    \u001B]8;id=712730;file://C:\\Users\\dario\\OneDrive\\universita\\MA\\Thesis\\opto-loop\\opto-loop-sim\\pymmcore-plus\\src\\pymmcore_plus\\mda\\_runner.py\u001B\\\u001B[2m_runner.py\u001B[0m\u001B]8;;\u001B\\\u001B[2m:\u001B[0m\u001B]8;id=691602;file://C:\\Users\\dario\\OneDrive\\universita\\MA\\Thesis\\opto-loop\\opto-loop-sim\\pymmcore-plus\\src\\pymmcore_plus\\mda\\_runner.py#337\u001B\\\u001B[2m337\u001B[0m\u001B]8;;\u001B\\\n",
       "\u001B[2;36m                    \u001B[0m         \u001B[33mz_pos\u001B[0m=\u001B[1;36m0\u001B[0m\u001B[1;36m.0\u001B[0m                                                               \u001B[2m              \u001B[0m\n"
      ],
      "text/html": [
       "<pre style=\"white-space:pre;overflow-x:auto;line-height:normal;font-family:Menlo,'DejaVu Sans Mono',consolas,'Courier New',monospace\"><span style=\"color: #7fbfbf; text-decoration-color: #7fbfbf\">                    </span><span style=\"color: #000080; text-decoration-color: #000080\">INFO    </span> <span style=\"color: #808000; text-decoration-color: #808000\">channel</span>=<span style=\"color: #800080; text-decoration-color: #800080; font-weight: bold\">Channel</span><span style=\"font-weight: bold\">(</span><span style=\"color: #808000; text-decoration-color: #808000\">config</span>=<span style=\"color: #008000; text-decoration-color: #008000\">'nucleus-channel'</span>, <span style=\"color: #808000; text-decoration-color: #808000\">group</span>=<span style=\"color: #008000; text-decoration-color: #008000\">'Fake'</span><span style=\"font-weight: bold\">)</span> <span style=\"color: #808000; text-decoration-color: #808000\">exposure</span>=<span style=\"color: #008080; text-decoration-color: #008080; font-weight: bold\">1.0</span>    <a href=\"file://C:\\Users\\dario\\OneDrive\\universita\\MA\\Thesis\\opto-loop\\opto-loop-sim\\pymmcore-plus\\src\\pymmcore_plus\\mda\\_runner.py\" target=\"_blank\"><span style=\"color: #7f7f7f; text-decoration-color: #7f7f7f\">_runner.py</span></a><span style=\"color: #7f7f7f; text-decoration-color: #7f7f7f\">:</span><a href=\"file://C:\\Users\\dario\\OneDrive\\universita\\MA\\Thesis\\opto-loop\\opto-loop-sim\\pymmcore-plus\\src\\pymmcore_plus\\mda\\_runner.py#337\" target=\"_blank\"><span style=\"color: #7f7f7f; text-decoration-color: #7f7f7f\">337</span></a>\n",
       "<span style=\"color: #7fbfbf; text-decoration-color: #7fbfbf\">                    </span>         <span style=\"color: #808000; text-decoration-color: #808000\">z_pos</span>=<span style=\"color: #008080; text-decoration-color: #008080; font-weight: bold\">0.0</span>                                                               <span style=\"color: #7f7f7f; text-decoration-color: #7f7f7f\">              </span>\n",
       "</pre>\n"
      ]
     },
     "metadata": {},
     "output_type": "display_data"
    },
    {
     "name": "stdout",
     "output_type": "stream",
     "text": [
      "No SLM device found in core.\n",
      "{'LED': {'state': '5', 'label': 'ORANGE'}, 'Filter Wheel': {'state': '6', 'label': 'mScarlet3(569/582)'}}\n",
      "i was run\n"
     ]
    },
    {
     "data": {
      "text/plain": [
       "\u001B[2;36m                   \u001B[0m\u001B[2;36m \u001B[0m\u001B[34mINFO    \u001B[0m MDA Finished: \u001B[1;35mGeneratorMDASequence\u001B[0m\u001B[1m(\u001B[0m\u001B[1m)\u001B[0m                                    \u001B]8;id=659685;file://C:\\Users\\dario\\OneDrive\\universita\\MA\\Thesis\\opto-loop\\opto-loop-sim\\pymmcore-plus\\src\\pymmcore_plus\\mda\\_runner.py\u001B\\\u001B[2m_runner.py\u001B[0m\u001B]8;;\u001B\\\u001B[2m:\u001B[0m\u001B]8;id=958133;file://C:\\Users\\dario\\OneDrive\\universita\\MA\\Thesis\\opto-loop\\opto-loop-sim\\pymmcore-plus\\src\\pymmcore_plus\\mda\\_runner.py#463\u001B\\\u001B[2m463\u001B[0m\u001B]8;;\u001B\\\n"
      ],
      "text/html": [
       "<pre style=\"white-space:pre;overflow-x:auto;line-height:normal;font-family:Menlo,'DejaVu Sans Mono',consolas,'Courier New',monospace\"><span style=\"color: #7fbfbf; text-decoration-color: #7fbfbf\">                    </span><span style=\"color: #000080; text-decoration-color: #000080\">INFO    </span> MDA Finished: <span style=\"color: #800080; text-decoration-color: #800080; font-weight: bold\">GeneratorMDASequence</span><span style=\"font-weight: bold\">()</span>                                    <a href=\"file://C:\\Users\\dario\\OneDrive\\universita\\MA\\Thesis\\opto-loop\\opto-loop-sim\\pymmcore-plus\\src\\pymmcore_plus\\mda\\_runner.py\" target=\"_blank\"><span style=\"color: #7f7f7f; text-decoration-color: #7f7f7f\">_runner.py</span></a><span style=\"color: #7f7f7f; text-decoration-color: #7f7f7f\">:</span><a href=\"file://C:\\Users\\dario\\OneDrive\\universita\\MA\\Thesis\\opto-loop\\opto-loop-sim\\pymmcore-plus\\src\\pymmcore_plus\\mda\\_runner.py#463\" target=\"_blank\"><span style=\"color: #7f7f7f; text-decoration-color: #7f7f7f\">463</span></a>\n",
       "</pre>\n"
      ]
     },
     "metadata": {},
     "output_type": "display_data"
    }
   ],
   "execution_count": 8
  },
  {
   "metadata": {},
   "cell_type": "code",
   "outputs": [],
   "execution_count": null,
   "source": "",
   "id": "bf55732c293dd9d6"
  },
  {
   "metadata": {
    "ExecuteTime": {
     "end_time": "2025-09-26T14:39:52.770931Z",
     "start_time": "2025-09-26T14:39:52.760178Z"
    }
   },
   "cell_type": "code",
   "source": "core._pydevices._devices",
   "id": "c5badafde3faa525",
   "outputs": [
    {
     "data": {
      "text/plain": [
       "{'Camera': <pymmcore_camera_sim.SimCameraDevice at 0x22af6f42090>,\n",
       " 'XYStage': <pymmcore_stage_sim.SimStageDevice at 0x22a8746aba0>,\n",
       " 'ZStage': <pymmcore_z_stage_sim.SimZStageDevice at 0x22ac5e5c350>,\n",
       " 'LED': <pymmcore_state_device_sim.SimStateDevice at 0x22ac5e5c3e0>,\n",
       " 'Filter Wheel': <pymmcore_state_device_sim.SimStateDevice at 0x22ac5e5c4a0>,\n",
       " 'Shutter': <pymmcore_shutter_sim.SimShutterDevice at 0x22ac5e5c530>}"
      ]
     },
     "execution_count": 3,
     "metadata": {},
     "output_type": "execute_result"
    }
   ],
   "execution_count": 3
  },
  {
   "metadata": {
    "ExecuteTime": {
     "end_time": "2025-09-26T14:40:01.445825Z",
     "start_time": "2025-09-26T14:40:01.438910Z"
    }
   },
   "cell_type": "code",
   "source": "core.getNumberOfCameraChannels()",
   "id": "a797c6dad24d5331",
   "outputs": [
    {
     "data": {
      "text/plain": [
       "1"
      ]
     },
     "execution_count": 4,
     "metadata": {},
     "output_type": "execute_result"
    }
   ],
   "execution_count": 4
  },
  {
   "metadata": {},
   "cell_type": "code",
   "source": "core.getParentLabel(\"Camera\")",
   "id": "147df57199f9001b",
   "outputs": [],
   "execution_count": null
  },
  {
   "metadata": {},
   "cell_type": "code",
   "source": "core.setFocusDirection(\"ZStage\", 0)",
   "id": "a7982da7ce358f87",
   "outputs": [],
   "execution_count": null
  },
  {
   "metadata": {},
   "cell_type": "code",
   "source": "core.getFocusDirection(\"ZStage\")",
   "id": "7f9ea6fe3ffc3eba",
   "outputs": [],
   "execution_count": null
  },
  {
   "metadata": {},
   "cell_type": "code",
   "source": [
    "import napari\n",
    "\n",
    "viewer = napari.Viewer()\n",
    "\n",
    "viewer.window.add_plugin_dock_widget(plugin_name='napari-micromanager')\n",
    "\n",
    "napari.run()"
   ],
   "id": "c97d899b0fb8098a",
   "outputs": [],
   "execution_count": null
  },
  {
   "metadata": {},
   "cell_type": "code",
   "source": "",
   "id": "417233ec8e1511a5",
   "outputs": [],
   "execution_count": null
  },
  {
   "metadata": {},
   "cell_type": "markdown",
   "source": "## Simplified",
   "id": "eaa272ea9f0e1ddd"
  },
  {
   "metadata": {},
   "cell_type": "code",
   "source": "core.getPropertyType(\"Camera\", \"brightness\")",
   "id": "1aafeaf58c809ca2",
   "outputs": [],
   "execution_count": null
  },
  {
   "metadata": {},
   "cell_type": "code",
   "source": [
    "core.reset()\n",
    "core = UniMMCore()# restaret the kernel so the singleton reset or just use core.reset()\n",
    "microscope_simulation = MicroscopeSim()\n",
    "\n",
    "# load device python\n",
    "core.loadPyDevice(\"Camera\", SimCameraDevice(core=core, microscope_sim=microscope_simulation))\n",
    "core.loadPyDevice(\"XYStage\", SimStageDevice(microscope_sim=microscope_simulation))\n",
    "core.initializeAllDevices()\n",
    "\n",
    "# initialize device\n",
    "core.setCameraDevice(\"Camera\")\n",
    "core.setXYStageDevice(\"XYStage\")\n",
    "\n",
    "# configure new group\n",
    "core.defineConfigGroup(\"test\")\n",
    "# define new configuration\n",
    "core.defineConfig(\"test\",\"state-0\",\"Camera\",\"brightness\",25.0)\n",
    "core.defineConfig(\"test\",\"state-0\",\"Camera\",Keyword.Exposure,2.0)\n",
    "\n",
    "core.setConfig(\"test\", \"state-0\")"
   ],
   "id": "cb993d5d149dfd9a",
   "outputs": [],
   "execution_count": null
  },
  {
   "metadata": {},
   "cell_type": "markdown",
   "source": "### Try to override UniMMCore class",
   "id": "2c5005ef513c2f3e"
  },
  {
   "metadata": {},
   "cell_type": "code",
   "source": [
    "from registry import DEVICE_REGISTRY\n",
    "from pathlib import Path\n",
    "from pymmcore_plus.experimental.unicore import UniMMCore\n",
    "from microscope_sim import MicroscopeSim\n",
    "from pymmcore_plus import CMMCorePlus, Keyword\n",
    "import devices\n",
    "from pymmcore_plus.core import Keyword as KW\n",
    "from typing import Any\n",
    "import threading\n",
    "from collections import defaultdict\n",
    "from pymmcore_camera_sim import SimCameraDevice\n",
    "from pymmcore_slm_sim import SimSLMDevice\n",
    "from pymmcore_stage_sim import SimStageDevice\n",
    "from pymmcore_state_device_sim import SimStateDevice\n",
    "from pymmcore_shutter_sim import SimShutterDevice\n",
    "\n",
    "\n",
    "class MyUniMMCore(UniMMCore): # create subclass for the my current example, later if it does work add to the implementation\n",
    "\n",
    "    def __init__(self, microscope_sim: MicroscopeSim | None = None):\n",
    "        self.microscope_sim = microscope_sim or MicroscopeSim()\n",
    "        # Python-side config-group storage for UniMMCore devices\n",
    "        # Structure: { group: { config: [(device, property, value_str), ...] } }\n",
    "        self._py_config_store: dict[str, dict[str, list[tuple[str, str, str]]]] = {}\n",
    "        self._py_config_lock = threading.Lock()\n",
    "        super().__init__()\n",
    "    # def getConfigState(\n",
    "    #     self, group: str, config: str, *, native: bool = False\n",
    "    # ):\n",
    "    #     print(self.getAvailableConfigGroups())\n",
    "    #     print(self.getAvailableConfigs(group))\n",
    "    #     if group in self.getAvailableConfigGroups() and config in self.getAvailableConfigs(group):\n",
    "    #         return self.getConfigData(group, config,native=native)\n",
    "    #     else:\n",
    "    #         return ()\n",
    "\n",
    "    def loadSystemConfiguration(\n",
    "        self, fileName: str | Path = \"test_config.cfg\"\n",
    "    ) -> None:\n",
    "        # COPY FROM PYMMCORE-PLUS for the moment\n",
    "        fpath = Path(fileName).expanduser()\n",
    "        if not fpath.exists() and not fpath.is_absolute() and self._mm_path:\n",
    "            fpath = Path(self._mm_path) / fileName\n",
    "        if not fpath.exists():\n",
    "            raise FileNotFoundError(f\"Path does not exist: {fpath}\")\n",
    "        self._last_sys_config = str(fpath.resolve())\n",
    "        # open file and read lines\n",
    "        with open(self._last_sys_config, \"r\") as config_file:\n",
    "            list_of_lines = config_file.readlines() # read lines and saved in a list\n",
    "        config_file.close() # close the file\n",
    "\n",
    "        for line in list_of_lines: # iterate over the list of lines\n",
    "            print(line)\n",
    "            # Get through the list\n",
    "            if line.startswith(\"#\"):\n",
    "                continue\n",
    "            elif line.startswith(\"Device\"):\n",
    "                # load the device in the system if not present\n",
    "                # Device,Name of the device, Python device or C++, device label\n",
    "                _, device_label,module_name,device_name = line.strip().split(',')\n",
    "                try:\n",
    "                    if device_label in self.getDeviceAdapterNames():\n",
    "                        self.loadDevice(device_label,module_name, device_name)\n",
    "                    elif device_name in DEVICE_REGISTRY.keys(): # checks if always works with python\n",
    "                        fact = DEVICE_REGISTRY[device_name]\n",
    "                        # Try to find better implementation\n",
    "                        if device_label == \"Camera\":\n",
    "                            pydev = fact(self, self.microscope_sim)\n",
    "                        elif device_label == \"XYStage\":\n",
    "                            pydev = fact(self.microscope_sim)\n",
    "                        elif device_label == \"Shutter\":\n",
    "                            pydev = fact()\n",
    "                        elif device_label == \"LED\":\n",
    "                            pydev = fact(device_label,{0:\"\"},self.microscope_sim)\n",
    "                            #{0:\"UV\", 1:\"BLUE\", 2:\"CYAN\", 3:\"GREEN\", 4:\"YELLOW\", 5:\"ORANGE\", 6:\"RED\"}\n",
    "                        else:\n",
    "                            pydev = fact(device_label,{0:\"\"},self.microscope_sim)\n",
    "                            #{0:\"Electra1(402/454)\", 1:\"SCFP2(434/474)\", 2:\"TagGFP2(483/506)\", 3:\"obeYFP(514/528)\", 4:\"mRFP1-Q667(549/570)\", 5:\"mScarlet3(569/582)\", 6:\"miRFP670(642/670)\"}\n",
    "                        self.loadPyDevice(device_label, pydev)\n",
    "                    else:\n",
    "                        raise RuntimeError(f\"Unknown device or adapter for {module_name}\")\n",
    "                except Exception as e:\n",
    "                    # if module_name not in self.getDeviceAdapterNames():\n",
    "                    #     # is a python device\n",
    "                    #     pydev = self._get_py_device_instance(module_name, device_name)\n",
    "                    #     self.loadPyDevice(device_label, pydev)\n",
    "                    raise RuntimeError(f\"Failed to load {device_label}: {e}\")\n",
    "                # initialize the device\n",
    "                self.initializeDevice(device_label)\n",
    "                print(self.getLoadedDevices())\n",
    "\n",
    "                # set initial value\n",
    "                if 'Camera' in device_name:\n",
    "                    self.setCameraDevice(device_label)\n",
    "                elif 'Stage' in device_name:\n",
    "                    self.setXYStageDevice(device_label)\n",
    "                elif 'Shutter' in device_name:\n",
    "                    self.setShutterDevice(device_label)\n",
    "                elif 'State' in device_name:\n",
    "                    self.setState(device_label,0) # by default always has default value of 0\n",
    "\n",
    "                # think if something is missing\n",
    "            elif line.startswith(\"Label\"):\n",
    "                # load the state device here\n",
    "                _, device_label,state_int, state_label = line.strip().split(',')\n",
    "                # check if device is already loaded\n",
    "                if device_label in self.getLoadedDevices(): # device is loaded\n",
    "                    self.defineStateLabel(device_label, int(state_int), state_label)\n",
    "                else: # device is not present. I assume in this case is a StateDevice, because it follows the mapping implementation\n",
    "                    continue # for the moment leave like this, don't know yet if its important this condition\n",
    "            elif line.startswith(\"ConfigGroup\"):\n",
    "                # load and sets differents configuration\n",
    "                _, configuration_group, configuration_presets, device_label, property_name, property_value = line.strip().split(',')\n",
    "\n",
    "                if not self.isGroupDefined(configuration_group): # check if the configuration group exists\n",
    "                    self.defineConfigGroup(configuration_group)\n",
    "                if device_label not in self.getLoadedDevices():\n",
    "                    raise RuntimeError(f\"Failed to load {device_label}: {device_label} is not a loaded device.\")\n",
    "                print(self.getDevicePropertyNames(device_label))\n",
    "                print(property_name)\n",
    "                if self.hasProperty(device_label, property_name):# the property is not present in the device settings\n",
    "                    if not self.isPropertyReadOnly(device_label, property_name): # property is not readonly\n",
    "                        if property_value in self.getAllowedPropertyValues(device_label, property_name):# checks if the value of the property is in the list of allowed value\n",
    "                            self.defineConfig(configuration_group, configuration_presets, device_label, property_name, property_value) # define new configuration/settings\n",
    "                        else:\n",
    "                            raise RuntimeError(f\"Failed to define new configuration: {property_value} is not a valid value for property {property_name}\")\n",
    "                    else:\n",
    "                        raise RuntimeError(f\"Failed to define new configuration: {property_value} is a ReadOnly property\")\n",
    "                else:\n",
    "                    raise RuntimeError(f\"Failed to define new configuration: {property_value} is not a property of the device {device_label}\")\n",
    "\n",
    "            # in the demo there is also the pixelsizeconfig. For the moment i dont add it, its not important for my example"
   ],
   "id": "cba9a91cec689306",
   "outputs": [],
   "execution_count": null
  },
  {
   "metadata": {},
   "cell_type": "code",
   "source": [
    "#core = MyUniMMCore()\n",
    "\n",
    "microscope_simulation = MicroscopeSim()\n",
    "print(core.getLoadedDevices())\n",
    "#-----------------------------------------\n",
    "# unload all devices\n",
    "core.unloadAllDevices()\n",
    "\n",
    "print(core.getLoadedDevices())\n",
    "#-----------------------------------------------------\n",
    "# load device\n",
    "core.loadPyDevice(\"Camera\", SimCameraDevice(core=core, microscope_sim=microscope_simulation))\n",
    "core.loadPyDevice(\"XYStage\", SimStageDevice(microscope_sim=microscope_simulation))\n",
    "core.loadPyDevice(\"LED\", SimStateDevice(label=\"LED\",state_dict={0:\"UV\", 1:\"BLUE\", 2:\"CYAN\", 3:\"GREEN\", 4:\"YELLOW\", 5:\"ORANGE\", 6:\"RED\"}, microscope_sim=microscope_simulation))\n",
    "core.loadPyDevice(\"Filter Wheel\", SimStateDevice(label=\"Filter Wheel\",state_dict={0:\"Electra1(402/454)\", 1:\"SCFP2(434/474)\", 2:\"TagGFP2(483/506)\", 3:\"obeYFP(514/528)\", 5:\"mRFP1-Q667(549/570)\", 6:\"mScarlet3(569/582)\", 7:\"miRFP670(642/670)\"}, microscope_sim=microscope_simulation))\n",
    "core.loadPyDevice(\"Shutter\", SimShutterDevice())\n",
    "#------------------------------------\n",
    "print(core.getLoadedDevices())\n",
    "# initialize device\n",
    "#core.initializeDevice(\"Camera\")\n",
    "#core.initializeDevice(\"XYStage\")\n",
    "#core.initializeDevice(\"Filter Wheel\")\n",
    "#core.initializeDevice(\"LED\")\n",
    "#core.initializeDevice(\"Shutter\")\n",
    "\n",
    "core.initializeAllDevices()\n",
    "\n",
    "print(core.getLoadedDevices())\n",
    "\n",
    "print(core.getDeviceInitializationState(\"LED\"))\n",
    "\n",
    "#---------------------------\n",
    "# Set initial value of some device\n",
    "core.setCameraDevice(\"Camera\")\n",
    "core.setXYStageDevice(\"XYStage\")\n",
    "core.setShutterDevice(\"Shutter\")\n",
    "core.setState(\"LED\", 0)\n",
    "core.setState(\"Filter Wheel\", 0)\n",
    "\n",
    "core.defineConfigGroup(\"Fake\")\n",
    "core.defineConfigGroup(\"Real\")\n",
    "core.defineConfig(\"Fake\", \"nucleus-channel\", \"LED\", \"Label\", \"ORANGE\")\n",
    "core.defineConfig(\"Fake\", \"nucleus-channel\", \"Filter Wheel\", \"Label\", \"mScarlet3(569/582)\")\n",
    "core.defineConfig(\"Real\", \"membrane-channel\", \"LED\", \"Label\", \"RED\")\n",
    "core.defineConfig(\"Real\", \"membrane-channel\", \"Filter Wheel\", \"Label\", \"miRFP670(642/670)\")\n",
    "\n",
    "core.setConfig(\"Fake\", \"nucleus-channel\")\n",
    "\n",
    "#print(core.getDeviceInitializationState(\"LED\").__dict__)\n",
    "#viewer = napari.Viewer()\n",
    "\n",
    "#viewer.window.add_plugin_dock_widget(plugin_name='napari-micromanager')\n",
    "\n",
    "#napari.run()"
   ],
   "id": "9c5ee3dcba9cdab4",
   "outputs": [],
   "execution_count": null
  },
  {
   "metadata": {},
   "cell_type": "code",
   "source": [
    "import napari\n",
    "viewer = napari.Viewer()\n",
    "\n",
    "viewer.window.add_plugin_dock_widget(plugin_name='napari-micromanager')\n",
    "\n",
    "napari.run()"
   ],
   "id": "42df50d99aab15bd",
   "outputs": [],
   "execution_count": null
  },
  {
   "metadata": {},
   "cell_type": "code",
   "source": "core._py_config_store.get(\"Fake\", {})",
   "id": "d63eeec7910a6422",
   "outputs": [],
   "execution_count": null
  },
  {
   "metadata": {},
   "cell_type": "code",
   "source": "core.getAvailableConfigs('Fake')",
   "id": "feae16b204807ae6",
   "outputs": [],
   "execution_count": null
  },
  {
   "metadata": {},
   "cell_type": "code",
   "source": "core.getConfigData(\"Fake\", \"nucleus-channel\").dict()",
   "id": "c3e1ce8ed54f54ae",
   "outputs": [],
   "execution_count": null
  },
  {
   "metadata": {},
   "cell_type": "code",
   "source": "my_dict = {'LED': {'Label': 'ORANGE'}, 'Filter Wheel': {'Label': 'mScarlet3(569/582)'}}",
   "id": "a2d4455d0040be67",
   "outputs": [],
   "execution_count": null
  },
  {
   "metadata": {},
   "cell_type": "code",
   "source": [
    "for label in my_dict.keys():\n",
    "    for propName in my_dict[label].keys():\n",
    "        print((label, propName, my_dict[label][propName]))"
   ],
   "id": "1637e157c6bd8fab",
   "outputs": [],
   "execution_count": null
  },
  {
   "metadata": {},
   "cell_type": "code",
   "source": "[(label,propname,my_dict[label][propname]) for propname in my_dict[label] for label in my_dict.keys()]",
   "id": "f2b338b6555618be",
   "outputs": [],
   "execution_count": null
  },
  {
   "metadata": {},
   "cell_type": "code",
   "source": [
    "for x in core.iterConfigGroups():\n",
    "    print(x)"
   ],
   "id": "d43722fff8fc961",
   "outputs": [],
   "execution_count": null
  },
  {
   "metadata": {},
   "cell_type": "code",
   "source": "core._py_config_store",
   "id": "fb26cfbbe814747c",
   "outputs": [],
   "execution_count": null
  },
  {
   "metadata": {},
   "cell_type": "code",
   "source": "core._pydevices._devices",
   "id": "6413a119afa73515",
   "outputs": [],
   "execution_count": null
  },
  {
   "metadata": {},
   "cell_type": "code",
   "source": "core.getConfigState(\"Fake\", \"nucleus-channel\")",
   "id": "e791a066acce23d0",
   "outputs": [],
   "execution_count": null
  },
  {
   "metadata": {},
   "cell_type": "code",
   "source": "new_core = MyUniMMCore()",
   "id": "34752970effe3464",
   "outputs": [],
   "execution_count": null
  },
  {
   "metadata": {},
   "cell_type": "code",
   "source": "new_core.loadSystemConfiguration()",
   "id": "2635e1037f05359d",
   "outputs": [],
   "execution_count": null
  }
 ],
 "metadata": {
  "kernelspec": {
   "display_name": "Python 3",
   "language": "python",
   "name": "python3"
  },
  "language_info": {
   "codemirror_mode": {
    "name": "ipython",
    "version": 2
   },
   "file_extension": ".py",
   "mimetype": "text/x-python",
   "name": "python",
   "nbconvert_exporter": "python",
   "pygments_lexer": "ipython2",
   "version": "2.7.6"
  }
 },
 "nbformat": 4,
 "nbformat_minor": 5
}
